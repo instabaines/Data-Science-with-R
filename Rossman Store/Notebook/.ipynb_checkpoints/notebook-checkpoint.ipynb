{
 "cells": [
  {
   "cell_type": "code",
   "execution_count": 34,
   "metadata": {},
   "outputs": [
    {
     "name": "stdout",
     "output_type": "stream",
     "text": [
      "package 'xgboost' successfully unpacked and MD5 sums checked\n",
      "\n",
      "The downloaded binary packages are in\n",
      "\tC:\\Users\\Hp\\AppData\\Local\\Temp\\RtmpamEDe4\\downloaded_packages\n"
     ]
    }
   ],
   "source": [
    "install.packages(\"xgboost\")"
   ]
  },
  {
   "cell_type": "code",
   "execution_count": 35,
   "metadata": {},
   "outputs": [
    {
     "name": "stderr",
     "output_type": "stream",
     "text": [
      "Warning message:\n",
      "\"package 'xgboost' was built under R version 3.6.3\"\n",
      "Attaching package: 'xgboost'\n",
      "\n",
      "The following object is masked from 'package:dplyr':\n",
      "\n",
      "    slice\n",
      "\n"
     ]
    }
   ],
   "source": [
    "library(ggplot2)\n",
    "library(tidyr)\n",
    "library(reshape2)\n",
    "library(ggplot2)\n",
    "library(dplyr)\n",
    "library(magrittr)\n",
    "library(caret)\n",
    "library(rpart)\n",
    "library(tree)\n",
    "library(party)\n",
    "library(RWeka)\n",
    "library(randomForest)\n",
    "library(ipred)\n",
    "library(gbm)\n",
    "library(xgboost)"
   ]
  },
  {
   "cell_type": "code",
   "execution_count": 6,
   "metadata": {},
   "outputs": [],
   "source": [
    "#Load data\n",
    "na_value<-list('',' ','nan','Nan','NaN','na')\n",
    "store<-read.csv(\".\\\\store.csv\", header = TRUE,na=na_value)\n",
    "train<-read.csv(\".\\\\train.csv\", header = TRUE)"
   ]
  },
  {
   "cell_type": "code",
   "execution_count": 7,
   "metadata": {},
   "outputs": [
    {
     "data": {
      "text/html": [
       "<table>\n",
       "<thead><tr><th scope=col>Store</th><th scope=col>DayOfWeek</th><th scope=col>Date</th><th scope=col>Sales</th><th scope=col>Customers</th><th scope=col>Open</th><th scope=col>Promo</th><th scope=col>StateHoliday</th><th scope=col>SchoolHoliday</th></tr></thead>\n",
       "<tbody>\n",
       "\t<tr><td> 1        </td><td>5         </td><td>2015-07-31</td><td> 5263     </td><td> 555      </td><td>1         </td><td>1         </td><td>0         </td><td>1         </td></tr>\n",
       "\t<tr><td> 2        </td><td>5         </td><td>2015-07-31</td><td> 6064     </td><td> 625      </td><td>1         </td><td>1         </td><td>0         </td><td>1         </td></tr>\n",
       "\t<tr><td> 3        </td><td>5         </td><td>2015-07-31</td><td> 8314     </td><td> 821      </td><td>1         </td><td>1         </td><td>0         </td><td>1         </td></tr>\n",
       "\t<tr><td> 4        </td><td>5         </td><td>2015-07-31</td><td>13995     </td><td>1498      </td><td>1         </td><td>1         </td><td>0         </td><td>1         </td></tr>\n",
       "\t<tr><td> 5        </td><td>5         </td><td>2015-07-31</td><td> 4822     </td><td> 559      </td><td>1         </td><td>1         </td><td>0         </td><td>1         </td></tr>\n",
       "\t<tr><td> 6        </td><td>5         </td><td>2015-07-31</td><td> 5651     </td><td> 589      </td><td>1         </td><td>1         </td><td>0         </td><td>1         </td></tr>\n",
       "\t<tr><td> 7        </td><td>5         </td><td>2015-07-31</td><td>15344     </td><td>1414      </td><td>1         </td><td>1         </td><td>0         </td><td>1         </td></tr>\n",
       "\t<tr><td> 8        </td><td>5         </td><td>2015-07-31</td><td> 8492     </td><td> 833      </td><td>1         </td><td>1         </td><td>0         </td><td>1         </td></tr>\n",
       "\t<tr><td> 9        </td><td>5         </td><td>2015-07-31</td><td> 8565     </td><td> 687      </td><td>1         </td><td>1         </td><td>0         </td><td>1         </td></tr>\n",
       "\t<tr><td>10        </td><td>5         </td><td>2015-07-31</td><td> 7185     </td><td> 681      </td><td>1         </td><td>1         </td><td>0         </td><td>1         </td></tr>\n",
       "</tbody>\n",
       "</table>\n"
      ],
      "text/latex": [
       "\\begin{tabular}{r|lllllllll}\n",
       " Store & DayOfWeek & Date & Sales & Customers & Open & Promo & StateHoliday & SchoolHoliday\\\\\n",
       "\\hline\n",
       "\t  1         & 5          & 2015-07-31 &  5263      &  555       & 1          & 1          & 0          & 1         \\\\\n",
       "\t  2         & 5          & 2015-07-31 &  6064      &  625       & 1          & 1          & 0          & 1         \\\\\n",
       "\t  3         & 5          & 2015-07-31 &  8314      &  821       & 1          & 1          & 0          & 1         \\\\\n",
       "\t  4         & 5          & 2015-07-31 & 13995      & 1498       & 1          & 1          & 0          & 1         \\\\\n",
       "\t  5         & 5          & 2015-07-31 &  4822      &  559       & 1          & 1          & 0          & 1         \\\\\n",
       "\t  6         & 5          & 2015-07-31 &  5651      &  589       & 1          & 1          & 0          & 1         \\\\\n",
       "\t  7         & 5          & 2015-07-31 & 15344      & 1414       & 1          & 1          & 0          & 1         \\\\\n",
       "\t  8         & 5          & 2015-07-31 &  8492      &  833       & 1          & 1          & 0          & 1         \\\\\n",
       "\t  9         & 5          & 2015-07-31 &  8565      &  687       & 1          & 1          & 0          & 1         \\\\\n",
       "\t 10         & 5          & 2015-07-31 &  7185      &  681       & 1          & 1          & 0          & 1         \\\\\n",
       "\\end{tabular}\n"
      ],
      "text/markdown": [
       "\n",
       "| Store | DayOfWeek | Date | Sales | Customers | Open | Promo | StateHoliday | SchoolHoliday |\n",
       "|---|---|---|---|---|---|---|---|---|\n",
       "|  1         | 5          | 2015-07-31 |  5263      |  555       | 1          | 1          | 0          | 1          |\n",
       "|  2         | 5          | 2015-07-31 |  6064      |  625       | 1          | 1          | 0          | 1          |\n",
       "|  3         | 5          | 2015-07-31 |  8314      |  821       | 1          | 1          | 0          | 1          |\n",
       "|  4         | 5          | 2015-07-31 | 13995      | 1498       | 1          | 1          | 0          | 1          |\n",
       "|  5         | 5          | 2015-07-31 |  4822      |  559       | 1          | 1          | 0          | 1          |\n",
       "|  6         | 5          | 2015-07-31 |  5651      |  589       | 1          | 1          | 0          | 1          |\n",
       "|  7         | 5          | 2015-07-31 | 15344      | 1414       | 1          | 1          | 0          | 1          |\n",
       "|  8         | 5          | 2015-07-31 |  8492      |  833       | 1          | 1          | 0          | 1          |\n",
       "|  9         | 5          | 2015-07-31 |  8565      |  687       | 1          | 1          | 0          | 1          |\n",
       "| 10         | 5          | 2015-07-31 |  7185      |  681       | 1          | 1          | 0          | 1          |\n",
       "\n"
      ],
      "text/plain": [
       "   Store DayOfWeek Date       Sales Customers Open Promo StateHoliday\n",
       "1   1    5         2015-07-31  5263  555      1    1     0           \n",
       "2   2    5         2015-07-31  6064  625      1    1     0           \n",
       "3   3    5         2015-07-31  8314  821      1    1     0           \n",
       "4   4    5         2015-07-31 13995 1498      1    1     0           \n",
       "5   5    5         2015-07-31  4822  559      1    1     0           \n",
       "6   6    5         2015-07-31  5651  589      1    1     0           \n",
       "7   7    5         2015-07-31 15344 1414      1    1     0           \n",
       "8   8    5         2015-07-31  8492  833      1    1     0           \n",
       "9   9    5         2015-07-31  8565  687      1    1     0           \n",
       "10 10    5         2015-07-31  7185  681      1    1     0           \n",
       "   SchoolHoliday\n",
       "1  1            \n",
       "2  1            \n",
       "3  1            \n",
       "4  1            \n",
       "5  1            \n",
       "6  1            \n",
       "7  1            \n",
       "8  1            \n",
       "9  1            \n",
       "10 1            "
      ]
     },
     "metadata": {},
     "output_type": "display_data"
    }
   ],
   "source": [
    "head(train,10)"
   ]
  },
  {
   "cell_type": "code",
   "execution_count": 8,
   "metadata": {},
   "outputs": [
    {
     "data": {
      "text/html": [
       "<table>\n",
       "<thead><tr><th scope=col>Store</th><th scope=col>StoreType</th><th scope=col>Assortment</th><th scope=col>CompetitionDistance</th><th scope=col>CompetitionOpenSinceMonth</th><th scope=col>CompetitionOpenSinceYear</th><th scope=col>Promo2</th><th scope=col>Promo2SinceWeek</th><th scope=col>Promo2SinceYear</th><th scope=col>PromoInterval</th></tr></thead>\n",
       "<tbody>\n",
       "\t<tr><td> 1             </td><td>c              </td><td>a              </td><td> 1270          </td><td> 9             </td><td>2008           </td><td>0              </td><td>NA             </td><td>  NA           </td><td>NA             </td></tr>\n",
       "\t<tr><td> 2             </td><td>a              </td><td>a              </td><td>  570          </td><td>11             </td><td>2007           </td><td>1              </td><td>13             </td><td>2010           </td><td>Jan,Apr,Jul,Oct</td></tr>\n",
       "\t<tr><td> 3             </td><td>a              </td><td>a              </td><td>14130          </td><td>12             </td><td>2006           </td><td>1              </td><td>14             </td><td>2011           </td><td>Jan,Apr,Jul,Oct</td></tr>\n",
       "\t<tr><td> 4             </td><td>c              </td><td>c              </td><td>  620          </td><td> 9             </td><td>2009           </td><td>0              </td><td>NA             </td><td>  NA           </td><td>NA             </td></tr>\n",
       "\t<tr><td> 5             </td><td>a              </td><td>a              </td><td>29910          </td><td> 4             </td><td>2015           </td><td>0              </td><td>NA             </td><td>  NA           </td><td>NA             </td></tr>\n",
       "\t<tr><td> 6             </td><td>a              </td><td>a              </td><td>  310          </td><td>12             </td><td>2013           </td><td>0              </td><td>NA             </td><td>  NA           </td><td>NA             </td></tr>\n",
       "\t<tr><td> 7             </td><td>a              </td><td>c              </td><td>24000          </td><td> 4             </td><td>2013           </td><td>0              </td><td>NA             </td><td>  NA           </td><td>NA             </td></tr>\n",
       "\t<tr><td> 8             </td><td>a              </td><td>a              </td><td> 7520          </td><td>10             </td><td>2014           </td><td>0              </td><td>NA             </td><td>  NA           </td><td>NA             </td></tr>\n",
       "\t<tr><td> 9             </td><td>a              </td><td>c              </td><td> 2030          </td><td> 8             </td><td>2000           </td><td>0              </td><td>NA             </td><td>  NA           </td><td>NA             </td></tr>\n",
       "\t<tr><td>10             </td><td>a              </td><td>a              </td><td> 3160          </td><td> 9             </td><td>2009           </td><td>0              </td><td>NA             </td><td>  NA           </td><td>NA             </td></tr>\n",
       "</tbody>\n",
       "</table>\n"
      ],
      "text/latex": [
       "\\begin{tabular}{r|llllllllll}\n",
       " Store & StoreType & Assortment & CompetitionDistance & CompetitionOpenSinceMonth & CompetitionOpenSinceYear & Promo2 & Promo2SinceWeek & Promo2SinceYear & PromoInterval\\\\\n",
       "\\hline\n",
       "\t  1              & c               & a               &  1270           &  9              & 2008            & 0               & NA              &   NA            & NA             \\\\\n",
       "\t  2              & a               & a               &   570           & 11              & 2007            & 1               & 13              & 2010            & Jan,Apr,Jul,Oct\\\\\n",
       "\t  3              & a               & a               & 14130           & 12              & 2006            & 1               & 14              & 2011            & Jan,Apr,Jul,Oct\\\\\n",
       "\t  4              & c               & c               &   620           &  9              & 2009            & 0               & NA              &   NA            & NA             \\\\\n",
       "\t  5              & a               & a               & 29910           &  4              & 2015            & 0               & NA              &   NA            & NA             \\\\\n",
       "\t  6              & a               & a               &   310           & 12              & 2013            & 0               & NA              &   NA            & NA             \\\\\n",
       "\t  7              & a               & c               & 24000           &  4              & 2013            & 0               & NA              &   NA            & NA             \\\\\n",
       "\t  8              & a               & a               &  7520           & 10              & 2014            & 0               & NA              &   NA            & NA             \\\\\n",
       "\t  9              & a               & c               &  2030           &  8              & 2000            & 0               & NA              &   NA            & NA             \\\\\n",
       "\t 10              & a               & a               &  3160           &  9              & 2009            & 0               & NA              &   NA            & NA             \\\\\n",
       "\\end{tabular}\n"
      ],
      "text/markdown": [
       "\n",
       "| Store | StoreType | Assortment | CompetitionDistance | CompetitionOpenSinceMonth | CompetitionOpenSinceYear | Promo2 | Promo2SinceWeek | Promo2SinceYear | PromoInterval |\n",
       "|---|---|---|---|---|---|---|---|---|---|\n",
       "|  1              | c               | a               |  1270           |  9              | 2008            | 0               | NA              |   NA            | NA              |\n",
       "|  2              | a               | a               |   570           | 11              | 2007            | 1               | 13              | 2010            | Jan,Apr,Jul,Oct |\n",
       "|  3              | a               | a               | 14130           | 12              | 2006            | 1               | 14              | 2011            | Jan,Apr,Jul,Oct |\n",
       "|  4              | c               | c               |   620           |  9              | 2009            | 0               | NA              |   NA            | NA              |\n",
       "|  5              | a               | a               | 29910           |  4              | 2015            | 0               | NA              |   NA            | NA              |\n",
       "|  6              | a               | a               |   310           | 12              | 2013            | 0               | NA              |   NA            | NA              |\n",
       "|  7              | a               | c               | 24000           |  4              | 2013            | 0               | NA              |   NA            | NA              |\n",
       "|  8              | a               | a               |  7520           | 10              | 2014            | 0               | NA              |   NA            | NA              |\n",
       "|  9              | a               | c               |  2030           |  8              | 2000            | 0               | NA              |   NA            | NA              |\n",
       "| 10              | a               | a               |  3160           |  9              | 2009            | 0               | NA              |   NA            | NA              |\n",
       "\n"
      ],
      "text/plain": [
       "   Store StoreType Assortment CompetitionDistance CompetitionOpenSinceMonth\n",
       "1   1    c         a           1270                9                       \n",
       "2   2    a         a            570               11                       \n",
       "3   3    a         a          14130               12                       \n",
       "4   4    c         c            620                9                       \n",
       "5   5    a         a          29910                4                       \n",
       "6   6    a         a            310               12                       \n",
       "7   7    a         c          24000                4                       \n",
       "8   8    a         a           7520               10                       \n",
       "9   9    a         c           2030                8                       \n",
       "10 10    a         a           3160                9                       \n",
       "   CompetitionOpenSinceYear Promo2 Promo2SinceWeek Promo2SinceYear\n",
       "1  2008                     0      NA                NA           \n",
       "2  2007                     1      13              2010           \n",
       "3  2006                     1      14              2011           \n",
       "4  2009                     0      NA                NA           \n",
       "5  2015                     0      NA                NA           \n",
       "6  2013                     0      NA                NA           \n",
       "7  2013                     0      NA                NA           \n",
       "8  2014                     0      NA                NA           \n",
       "9  2000                     0      NA                NA           \n",
       "10 2009                     0      NA                NA           \n",
       "   PromoInterval  \n",
       "1  NA             \n",
       "2  Jan,Apr,Jul,Oct\n",
       "3  Jan,Apr,Jul,Oct\n",
       "4  NA             \n",
       "5  NA             \n",
       "6  NA             \n",
       "7  NA             \n",
       "8  NA             \n",
       "9  NA             \n",
       "10 NA             "
      ]
     },
     "metadata": {},
     "output_type": "display_data"
    }
   ],
   "source": [
    "head(store,10)"
   ]
  },
  {
   "cell_type": "code",
   "execution_count": 12,
   "metadata": {},
   "outputs": [],
   "source": [
    "data<-merge(train,store)"
   ]
  },
  {
   "cell_type": "code",
   "execution_count": 10,
   "metadata": {},
   "outputs": [
    {
     "data": {
      "text/html": [
       "<table>\n",
       "<thead><tr><th scope=col>Store</th><th scope=col>DayOfWeek</th><th scope=col>Date</th><th scope=col>Sales</th><th scope=col>Customers</th><th scope=col>Open</th><th scope=col>Promo</th><th scope=col>StateHoliday</th><th scope=col>SchoolHoliday</th><th scope=col>StoreType</th><th scope=col>Assortment</th><th scope=col>CompetitionDistance</th><th scope=col>CompetitionOpenSinceMonth</th><th scope=col>CompetitionOpenSinceYear</th><th scope=col>Promo2</th><th scope=col>Promo2SinceWeek</th><th scope=col>Promo2SinceYear</th><th scope=col>PromoInterval</th></tr></thead>\n",
       "<tbody>\n",
       "\t<tr><td>1         </td><td>5         </td><td>2015-07-31</td><td>5263      </td><td>555       </td><td>1         </td><td>1         </td><td>0         </td><td>1         </td><td>c         </td><td>a         </td><td>1270      </td><td>9         </td><td>2008      </td><td>0         </td><td>NA        </td><td>NA        </td><td>NA        </td></tr>\n",
       "\t<tr><td>1         </td><td>6         </td><td>2013-01-12</td><td>4952      </td><td>646       </td><td>1         </td><td>0         </td><td>0         </td><td>0         </td><td>c         </td><td>a         </td><td>1270      </td><td>9         </td><td>2008      </td><td>0         </td><td>NA        </td><td>NA        </td><td>NA        </td></tr>\n",
       "\t<tr><td>1         </td><td>5         </td><td>2014-01-03</td><td>4190      </td><td>552       </td><td>1         </td><td>0         </td><td>0         </td><td>1         </td><td>c         </td><td>a         </td><td>1270      </td><td>9         </td><td>2008      </td><td>0         </td><td>NA        </td><td>NA        </td><td>NA        </td></tr>\n",
       "\t<tr><td>1         </td><td>3         </td><td>2014-12-03</td><td>6454      </td><td>695       </td><td>1         </td><td>1         </td><td>0         </td><td>0         </td><td>c         </td><td>a         </td><td>1270      </td><td>9         </td><td>2008      </td><td>0         </td><td>NA        </td><td>NA        </td><td>NA        </td></tr>\n",
       "\t<tr><td>1         </td><td>3         </td><td>2013-11-13</td><td>3310      </td><td>464       </td><td>1         </td><td>0         </td><td>0         </td><td>0         </td><td>c         </td><td>a         </td><td>1270      </td><td>9         </td><td>2008      </td><td>0         </td><td>NA        </td><td>NA        </td><td>NA        </td></tr>\n",
       "\t<tr><td>1         </td><td>7         </td><td>2013-10-27</td><td>   0      </td><td>  0       </td><td>0         </td><td>0         </td><td>0         </td><td>0         </td><td>c         </td><td>a         </td><td>1270      </td><td>9         </td><td>2008      </td><td>0         </td><td>NA        </td><td>NA        </td><td>NA        </td></tr>\n",
       "</tbody>\n",
       "</table>\n"
      ],
      "text/latex": [
       "\\begin{tabular}{r|llllllllllllllllll}\n",
       " Store & DayOfWeek & Date & Sales & Customers & Open & Promo & StateHoliday & SchoolHoliday & StoreType & Assortment & CompetitionDistance & CompetitionOpenSinceMonth & CompetitionOpenSinceYear & Promo2 & Promo2SinceWeek & Promo2SinceYear & PromoInterval\\\\\n",
       "\\hline\n",
       "\t 1          & 5          & 2015-07-31 & 5263       & 555        & 1          & 1          & 0          & 1          & c          & a          & 1270       & 9          & 2008       & 0          & NA         & NA         & NA        \\\\\n",
       "\t 1          & 6          & 2013-01-12 & 4952       & 646        & 1          & 0          & 0          & 0          & c          & a          & 1270       & 9          & 2008       & 0          & NA         & NA         & NA        \\\\\n",
       "\t 1          & 5          & 2014-01-03 & 4190       & 552        & 1          & 0          & 0          & 1          & c          & a          & 1270       & 9          & 2008       & 0          & NA         & NA         & NA        \\\\\n",
       "\t 1          & 3          & 2014-12-03 & 6454       & 695        & 1          & 1          & 0          & 0          & c          & a          & 1270       & 9          & 2008       & 0          & NA         & NA         & NA        \\\\\n",
       "\t 1          & 3          & 2013-11-13 & 3310       & 464        & 1          & 0          & 0          & 0          & c          & a          & 1270       & 9          & 2008       & 0          & NA         & NA         & NA        \\\\\n",
       "\t 1          & 7          & 2013-10-27 &    0       &   0        & 0          & 0          & 0          & 0          & c          & a          & 1270       & 9          & 2008       & 0          & NA         & NA         & NA        \\\\\n",
       "\\end{tabular}\n"
      ],
      "text/markdown": [
       "\n",
       "| Store | DayOfWeek | Date | Sales | Customers | Open | Promo | StateHoliday | SchoolHoliday | StoreType | Assortment | CompetitionDistance | CompetitionOpenSinceMonth | CompetitionOpenSinceYear | Promo2 | Promo2SinceWeek | Promo2SinceYear | PromoInterval |\n",
       "|---|---|---|---|---|---|---|---|---|---|---|---|---|---|---|---|---|---|\n",
       "| 1          | 5          | 2015-07-31 | 5263       | 555        | 1          | 1          | 0          | 1          | c          | a          | 1270       | 9          | 2008       | 0          | NA         | NA         | NA         |\n",
       "| 1          | 6          | 2013-01-12 | 4952       | 646        | 1          | 0          | 0          | 0          | c          | a          | 1270       | 9          | 2008       | 0          | NA         | NA         | NA         |\n",
       "| 1          | 5          | 2014-01-03 | 4190       | 552        | 1          | 0          | 0          | 1          | c          | a          | 1270       | 9          | 2008       | 0          | NA         | NA         | NA         |\n",
       "| 1          | 3          | 2014-12-03 | 6454       | 695        | 1          | 1          | 0          | 0          | c          | a          | 1270       | 9          | 2008       | 0          | NA         | NA         | NA         |\n",
       "| 1          | 3          | 2013-11-13 | 3310       | 464        | 1          | 0          | 0          | 0          | c          | a          | 1270       | 9          | 2008       | 0          | NA         | NA         | NA         |\n",
       "| 1          | 7          | 2013-10-27 |    0       |   0        | 0          | 0          | 0          | 0          | c          | a          | 1270       | 9          | 2008       | 0          | NA         | NA         | NA         |\n",
       "\n"
      ],
      "text/plain": [
       "  Store DayOfWeek Date       Sales Customers Open Promo StateHoliday\n",
       "1 1     5         2015-07-31 5263  555       1    1     0           \n",
       "2 1     6         2013-01-12 4952  646       1    0     0           \n",
       "3 1     5         2014-01-03 4190  552       1    0     0           \n",
       "4 1     3         2014-12-03 6454  695       1    1     0           \n",
       "5 1     3         2013-11-13 3310  464       1    0     0           \n",
       "6 1     7         2013-10-27    0    0       0    0     0           \n",
       "  SchoolHoliday StoreType Assortment CompetitionDistance\n",
       "1 1             c         a          1270               \n",
       "2 0             c         a          1270               \n",
       "3 1             c         a          1270               \n",
       "4 0             c         a          1270               \n",
       "5 0             c         a          1270               \n",
       "6 0             c         a          1270               \n",
       "  CompetitionOpenSinceMonth CompetitionOpenSinceYear Promo2 Promo2SinceWeek\n",
       "1 9                         2008                     0      NA             \n",
       "2 9                         2008                     0      NA             \n",
       "3 9                         2008                     0      NA             \n",
       "4 9                         2008                     0      NA             \n",
       "5 9                         2008                     0      NA             \n",
       "6 9                         2008                     0      NA             \n",
       "  Promo2SinceYear PromoInterval\n",
       "1 NA              NA           \n",
       "2 NA              NA           \n",
       "3 NA              NA           \n",
       "4 NA              NA           \n",
       "5 NA              NA           \n",
       "6 NA              NA           "
      ]
     },
     "metadata": {},
     "output_type": "display_data"
    }
   ],
   "source": [
    "head(data)"
   ]
  },
  {
   "cell_type": "code",
   "execution_count": 11,
   "metadata": {},
   "outputs": [
    {
     "name": "stdout",
     "output_type": "stream",
     "text": [
      "[1] \"Shape of the Dataset:\"\n"
     ]
    },
    {
     "data": {
      "text/html": [
       "<ol class=list-inline>\n",
       "\t<li>1017209</li>\n",
       "\t<li>9</li>\n",
       "</ol>\n"
      ],
      "text/latex": [
       "\\begin{enumerate*}\n",
       "\\item 1017209\n",
       "\\item 9\n",
       "\\end{enumerate*}\n"
      ],
      "text/markdown": [
       "1. 1017209\n",
       "2. 9\n",
       "\n",
       "\n"
      ],
      "text/plain": [
       "[1] 1017209       9"
      ]
     },
     "metadata": {},
     "output_type": "display_data"
    },
    {
     "name": "stdout",
     "output_type": "stream",
     "text": [
      "[1] \"Shape of the Merged Dataset:\"\n"
     ]
    },
    {
     "data": {
      "text/html": [
       "<ol class=list-inline>\n",
       "\t<li>1017209</li>\n",
       "\t<li>18</li>\n",
       "</ol>\n"
      ],
      "text/latex": [
       "\\begin{enumerate*}\n",
       "\\item 1017209\n",
       "\\item 18\n",
       "\\end{enumerate*}\n"
      ],
      "text/markdown": [
       "1. 1017209\n",
       "2. 18\n",
       "\n",
       "\n"
      ],
      "text/plain": [
       "[1] 1017209      18"
      ]
     },
     "metadata": {},
     "output_type": "display_data"
    }
   ],
   "source": [
    "print(\"Shape of the Dataset:\")\n",
    "dim(train)\n",
    "print(\"Shape of the Merged Dataset:\")\n",
    "dim(data)"
   ]
  },
  {
   "cell_type": "code",
   "execution_count": null,
   "metadata": {},
   "outputs": [],
   "source": [
    "library(\"plyr\")\n",
    "count_store<-count(data, 'Store')\n",
    "print('Distinct number of Stores :')\n",
    "length(count_store$Store)"
   ]
  },
  {
   "cell_type": "code",
   "execution_count": 9,
   "metadata": {},
   "outputs": [
    {
     "data": {
      "text/plain": [
       "     Store          DayOfWeek             Date             Sales      \n",
       " Min.   :   1.0   Min.   :1.000   2013-01-02:   1115   Min.   :    0  \n",
       " 1st Qu.: 280.0   1st Qu.:2.000   2013-01-03:   1115   1st Qu.: 3727  \n",
       " Median : 558.0   Median :4.000   2013-01-04:   1115   Median : 5744  \n",
       " Mean   : 558.4   Mean   :3.998   2013-01-05:   1115   Mean   : 5774  \n",
       " 3rd Qu.: 838.0   3rd Qu.:6.000   2013-01-06:   1115   3rd Qu.: 7856  \n",
       " Max.   :1115.0   Max.   :7.000   2013-01-07:   1115   Max.   :41551  \n",
       "                                  (Other)   :1010519                  \n",
       "   Customers           Open            Promo        StateHoliday\n",
       " Min.   :   0.0   Min.   :0.0000   Min.   :0.0000   0:986159    \n",
       " 1st Qu.: 405.0   1st Qu.:1.0000   1st Qu.:0.0000   a: 20260    \n",
       " Median : 609.0   Median :1.0000   Median :0.0000   b:  6690    \n",
       " Mean   : 633.1   Mean   :0.8301   Mean   :0.3815   c:  4100    \n",
       " 3rd Qu.: 837.0   3rd Qu.:1.0000   3rd Qu.:1.0000               \n",
       " Max.   :7388.0   Max.   :1.0000   Max.   :1.0000               \n",
       "                                                                \n",
       " SchoolHoliday    StoreType  Assortment CompetitionDistance\n",
       " Min.   :0.0000   a:551627   a:537445   Min.   :   20      \n",
       " 1st Qu.:0.0000   b: 15830   b:  8294   1st Qu.:  710      \n",
       " Median :0.0000   c:136840   c:471470   Median : 2330      \n",
       " Mean   :0.1786   d:312912              Mean   : 5430      \n",
       " 3rd Qu.:0.0000                         3rd Qu.: 6890      \n",
       " Max.   :1.0000                         Max.   :75860      \n",
       "                                        NA's   :2642       \n",
       " CompetitionOpenSinceMonth CompetitionOpenSinceYear     Promo2      \n",
       " Min.   : 1.0              Min.   :1900             Min.   :0.0000  \n",
       " 1st Qu.: 4.0              1st Qu.:2006             1st Qu.:0.0000  \n",
       " Median : 8.0              Median :2010             Median :1.0000  \n",
       " Mean   : 7.2              Mean   :2009             Mean   :0.5006  \n",
       " 3rd Qu.:10.0              3rd Qu.:2013             3rd Qu.:1.0000  \n",
       " Max.   :12.0              Max.   :2015             Max.   :1.0000  \n",
       " NA's   :323348            NA's   :323348                           \n",
       " Promo2SinceWeek  Promo2SinceYear           PromoInterval   \n",
       " Min.   : 1.0     Min.   :2009     Feb,May,Aug,Nov :118596  \n",
       " 1st Qu.:13.0     1st Qu.:2011     Jan,Apr,Jul,Oct :293122  \n",
       " Median :22.0     Median :2012     Mar,Jun,Sept,Dec: 97460  \n",
       " Mean   :23.3     Mean   :2012     NA's            :508031  \n",
       " 3rd Qu.:37.0     3rd Qu.:2013                              \n",
       " Max.   :50.0     Max.   :2015                              \n",
       " NA's   :508031   NA's   :508031                            "
      ]
     },
     "metadata": {},
     "output_type": "display_data"
    }
   ],
   "source": [
    "summary(data)"
   ]
  },
  {
   "cell_type": "code",
   "execution_count": 10,
   "metadata": {},
   "outputs": [
    {
     "name": "stdout",
     "output_type": "stream",
     "text": [
      "'data.frame':\t1017209 obs. of  18 variables:\n",
      " $ Store                    : int  1 1 1 1 1 1 1 1 1 1 ...\n",
      " $ DayOfWeek                : int  5 6 5 3 3 7 3 1 5 1 ...\n",
      " $ Date                     : Factor w/ 942 levels \"2013-01-01\",\"2013-01-02\",..: 942 12 368 702 317 300 891 266 249 840 ...\n",
      " $ Sales                    : int  5263 4952 4190 6454 3310 0 3591 4770 3836 3722 ...\n",
      " $ Customers                : int  555 646 552 695 464 0 453 542 466 480 ...\n",
      " $ Open                     : int  1 1 1 1 1 0 1 1 1 1 ...\n",
      " $ Promo                    : int  1 0 0 1 0 0 0 1 0 0 ...\n",
      " $ StateHoliday             : Factor w/ 4 levels \"0\",\"a\",\"b\",\"c\": 1 1 1 1 1 1 1 1 1 1 ...\n",
      " $ SchoolHoliday            : int  1 0 1 0 0 0 0 0 0 0 ...\n",
      " $ StoreType                : Factor w/ 4 levels \"a\",\"b\",\"c\",\"d\": 3 3 3 3 3 3 3 3 3 3 ...\n",
      " $ Assortment               : Factor w/ 3 levels \"a\",\"b\",\"c\": 1 1 1 1 1 1 1 1 1 1 ...\n",
      " $ CompetitionDistance      : int  1270 1270 1270 1270 1270 1270 1270 1270 1270 1270 ...\n",
      " $ CompetitionOpenSinceMonth: int  9 9 9 9 9 9 9 9 9 9 ...\n",
      " $ CompetitionOpenSinceYear : int  2008 2008 2008 2008 2008 2008 2008 2008 2008 2008 ...\n",
      " $ Promo2                   : int  0 0 0 0 0 0 0 0 0 0 ...\n",
      " $ Promo2SinceWeek          : int  NA NA NA NA NA NA NA NA NA NA ...\n",
      " $ Promo2SinceYear          : int  NA NA NA NA NA NA NA NA NA NA ...\n",
      " $ PromoInterval            : Factor w/ 3 levels \"Feb,May,Aug,Nov\",..: NA NA NA NA NA NA NA NA NA NA ...\n"
     ]
    }
   ],
   "source": [
    "str(data,stringsAsFactors = FALSE)"
   ]
  },
  {
   "cell_type": "code",
   "execution_count": 11,
   "metadata": {},
   "outputs": [
    {
     "data": {
      "text/html": [
       "<table>\n",
       "<thead><tr><th scope=col>StateHoliday</th><th scope=col>freq</th></tr></thead>\n",
       "<tbody>\n",
       "\t<tr><td>0     </td><td>986159</td></tr>\n",
       "\t<tr><td>a     </td><td> 20260</td></tr>\n",
       "\t<tr><td>b     </td><td>  6690</td></tr>\n",
       "\t<tr><td>c     </td><td>  4100</td></tr>\n",
       "</tbody>\n",
       "</table>\n"
      ],
      "text/latex": [
       "\\begin{tabular}{r|ll}\n",
       " StateHoliday & freq\\\\\n",
       "\\hline\n",
       "\t 0      & 986159\\\\\n",
       "\t a      &  20260\\\\\n",
       "\t b      &   6690\\\\\n",
       "\t c      &   4100\\\\\n",
       "\\end{tabular}\n"
      ],
      "text/markdown": [
       "\n",
       "| StateHoliday | freq |\n",
       "|---|---|\n",
       "| 0      | 986159 |\n",
       "| a      |  20260 |\n",
       "| b      |   6690 |\n",
       "| c      |   4100 |\n",
       "\n"
      ],
      "text/plain": [
       "  StateHoliday freq  \n",
       "1 0            986159\n",
       "2 a             20260\n",
       "3 b              6690\n",
       "4 c              4100"
      ]
     },
     "metadata": {},
     "output_type": "display_data"
    }
   ],
   "source": [
    "count_holiday<-count(data['StateHoliday'])\n",
    "count_holiday"
   ]
  },
  {
   "cell_type": "code",
   "execution_count": 76,
   "metadata": {},
   "outputs": [
    {
     "data": {
      "text/html": [
       "<table>\n",
       "<thead><tr><th scope=col>Store</th><th scope=col>DayOfWeek</th><th scope=col>Date</th><th scope=col>Sales</th><th scope=col>Customers</th><th scope=col>Open</th><th scope=col>Promo</th><th scope=col>StateHoliday</th><th scope=col>SchoolHoliday</th><th scope=col>StoreType</th><th scope=col>Assortment</th><th scope=col>CompetitionDistance</th><th scope=col>CompetitionOpenSinceMonth</th><th scope=col>CompetitionOpenSinceYear</th><th scope=col>Promo2</th><th scope=col>Promo2SinceWeek</th><th scope=col>Promo2SinceYear</th><th scope=col>PromoInterval</th></tr></thead>\n",
       "<tbody>\n",
       "\t<tr><td>1         </td><td>5         </td><td>2015-07-31</td><td>5263      </td><td>555       </td><td>1         </td><td>1         </td><td>0         </td><td>1         </td><td>c         </td><td>a         </td><td>1270      </td><td>9         </td><td>2008      </td><td>0         </td><td>NA        </td><td>NA        </td><td>NA        </td></tr>\n",
       "\t<tr><td>1         </td><td>6         </td><td>2013-01-12</td><td>4952      </td><td>646       </td><td>1         </td><td>0         </td><td>0         </td><td>0         </td><td>c         </td><td>a         </td><td>1270      </td><td>9         </td><td>2008      </td><td>0         </td><td>NA        </td><td>NA        </td><td>NA        </td></tr>\n",
       "\t<tr><td>1         </td><td>5         </td><td>2014-01-03</td><td>4190      </td><td>552       </td><td>1         </td><td>0         </td><td>0         </td><td>1         </td><td>c         </td><td>a         </td><td>1270      </td><td>9         </td><td>2008      </td><td>0         </td><td>NA        </td><td>NA        </td><td>NA        </td></tr>\n",
       "\t<tr><td>1         </td><td>3         </td><td>2014-12-03</td><td>6454      </td><td>695       </td><td>1         </td><td>1         </td><td>0         </td><td>0         </td><td>c         </td><td>a         </td><td>1270      </td><td>9         </td><td>2008      </td><td>0         </td><td>NA        </td><td>NA        </td><td>NA        </td></tr>\n",
       "\t<tr><td>1         </td><td>3         </td><td>2013-11-13</td><td>3310      </td><td>464       </td><td>1         </td><td>0         </td><td>0         </td><td>0         </td><td>c         </td><td>a         </td><td>1270      </td><td>9         </td><td>2008      </td><td>0         </td><td>NA        </td><td>NA        </td><td>NA        </td></tr>\n",
       "\t<tr><td>1         </td><td>7         </td><td>2013-10-27</td><td>   0      </td><td>  0       </td><td>0         </td><td>0         </td><td>0         </td><td>0         </td><td>c         </td><td>a         </td><td>1270      </td><td>9         </td><td>2008      </td><td>0         </td><td>NA        </td><td>NA        </td><td>NA        </td></tr>\n",
       "</tbody>\n",
       "</table>\n"
      ],
      "text/latex": [
       "\\begin{tabular}{r|llllllllllllllllll}\n",
       " Store & DayOfWeek & Date & Sales & Customers & Open & Promo & StateHoliday & SchoolHoliday & StoreType & Assortment & CompetitionDistance & CompetitionOpenSinceMonth & CompetitionOpenSinceYear & Promo2 & Promo2SinceWeek & Promo2SinceYear & PromoInterval\\\\\n",
       "\\hline\n",
       "\t 1          & 5          & 2015-07-31 & 5263       & 555        & 1          & 1          & 0          & 1          & c          & a          & 1270       & 9          & 2008       & 0          & NA         & NA         & NA        \\\\\n",
       "\t 1          & 6          & 2013-01-12 & 4952       & 646        & 1          & 0          & 0          & 0          & c          & a          & 1270       & 9          & 2008       & 0          & NA         & NA         & NA        \\\\\n",
       "\t 1          & 5          & 2014-01-03 & 4190       & 552        & 1          & 0          & 0          & 1          & c          & a          & 1270       & 9          & 2008       & 0          & NA         & NA         & NA        \\\\\n",
       "\t 1          & 3          & 2014-12-03 & 6454       & 695        & 1          & 1          & 0          & 0          & c          & a          & 1270       & 9          & 2008       & 0          & NA         & NA         & NA        \\\\\n",
       "\t 1          & 3          & 2013-11-13 & 3310       & 464        & 1          & 0          & 0          & 0          & c          & a          & 1270       & 9          & 2008       & 0          & NA         & NA         & NA        \\\\\n",
       "\t 1          & 7          & 2013-10-27 &    0       &   0        & 0          & 0          & 0          & 0          & c          & a          & 1270       & 9          & 2008       & 0          & NA         & NA         & NA        \\\\\n",
       "\\end{tabular}\n"
      ],
      "text/markdown": [
       "\n",
       "| Store | DayOfWeek | Date | Sales | Customers | Open | Promo | StateHoliday | SchoolHoliday | StoreType | Assortment | CompetitionDistance | CompetitionOpenSinceMonth | CompetitionOpenSinceYear | Promo2 | Promo2SinceWeek | Promo2SinceYear | PromoInterval |\n",
       "|---|---|---|---|---|---|---|---|---|---|---|---|---|---|---|---|---|---|\n",
       "| 1          | 5          | 2015-07-31 | 5263       | 555        | 1          | 1          | 0          | 1          | c          | a          | 1270       | 9          | 2008       | 0          | NA         | NA         | NA         |\n",
       "| 1          | 6          | 2013-01-12 | 4952       | 646        | 1          | 0          | 0          | 0          | c          | a          | 1270       | 9          | 2008       | 0          | NA         | NA         | NA         |\n",
       "| 1          | 5          | 2014-01-03 | 4190       | 552        | 1          | 0          | 0          | 1          | c          | a          | 1270       | 9          | 2008       | 0          | NA         | NA         | NA         |\n",
       "| 1          | 3          | 2014-12-03 | 6454       | 695        | 1          | 1          | 0          | 0          | c          | a          | 1270       | 9          | 2008       | 0          | NA         | NA         | NA         |\n",
       "| 1          | 3          | 2013-11-13 | 3310       | 464        | 1          | 0          | 0          | 0          | c          | a          | 1270       | 9          | 2008       | 0          | NA         | NA         | NA         |\n",
       "| 1          | 7          | 2013-10-27 |    0       |   0        | 0          | 0          | 0          | 0          | c          | a          | 1270       | 9          | 2008       | 0          | NA         | NA         | NA         |\n",
       "\n"
      ],
      "text/plain": [
       "  Store DayOfWeek Date       Sales Customers Open Promo StateHoliday\n",
       "1 1     5         2015-07-31 5263  555       1    1     0           \n",
       "2 1     6         2013-01-12 4952  646       1    0     0           \n",
       "3 1     5         2014-01-03 4190  552       1    0     0           \n",
       "4 1     3         2014-12-03 6454  695       1    1     0           \n",
       "5 1     3         2013-11-13 3310  464       1    0     0           \n",
       "6 1     7         2013-10-27    0    0       0    0     0           \n",
       "  SchoolHoliday StoreType Assortment CompetitionDistance\n",
       "1 1             c         a          1270               \n",
       "2 0             c         a          1270               \n",
       "3 1             c         a          1270               \n",
       "4 0             c         a          1270               \n",
       "5 0             c         a          1270               \n",
       "6 0             c         a          1270               \n",
       "  CompetitionOpenSinceMonth CompetitionOpenSinceYear Promo2 Promo2SinceWeek\n",
       "1 9                         2008                     0      NA             \n",
       "2 9                         2008                     0      NA             \n",
       "3 9                         2008                     0      NA             \n",
       "4 9                         2008                     0      NA             \n",
       "5 9                         2008                     0      NA             \n",
       "6 9                         2008                     0      NA             \n",
       "  Promo2SinceYear PromoInterval\n",
       "1 NA              NA           \n",
       "2 NA              NA           \n",
       "3 NA              NA           \n",
       "4 NA              NA           \n",
       "5 NA              NA           \n",
       "6 NA              NA           "
      ]
     },
     "metadata": {},
     "output_type": "display_data"
    }
   ],
   "source": [
    "head(data)"
   ]
  },
  {
   "cell_type": "code",
   "execution_count": 3,
   "metadata": {},
   "outputs": [
    {
     "data": {
      "text/html": [
       "'Q3'"
      ],
      "text/latex": [
       "'Q3'"
      ],
      "text/markdown": [
       "'Q3'"
      ],
      "text/plain": [
       "[1] \"Q3\""
      ]
     },
     "metadata": {},
     "output_type": "display_data"
    }
   ],
   "source": [
    "a<-quarters(as.Date('2015-07-31'))\n",
    "a"
   ]
  },
  {
   "cell_type": "code",
   "execution_count": 13,
   "metadata": {},
   "outputs": [],
   "source": [
    "data['months']<- months(as.Date(data$Date))"
   ]
  },
  {
   "cell_type": "code",
   "execution_count": 14,
   "metadata": {},
   "outputs": [
    {
     "data": {
      "text/html": [
       "<table>\n",
       "<thead><tr><th scope=col>Store</th><th scope=col>DayOfWeek</th><th scope=col>Date</th><th scope=col>Sales</th><th scope=col>Customers</th><th scope=col>Open</th><th scope=col>Promo</th><th scope=col>StateHoliday</th><th scope=col>SchoolHoliday</th><th scope=col>StoreType</th><th scope=col>Assortment</th><th scope=col>CompetitionDistance</th><th scope=col>CompetitionOpenSinceMonth</th><th scope=col>CompetitionOpenSinceYear</th><th scope=col>Promo2</th><th scope=col>Promo2SinceWeek</th><th scope=col>Promo2SinceYear</th><th scope=col>PromoInterval</th><th scope=col>months</th></tr></thead>\n",
       "<tbody>\n",
       "\t<tr><td>1         </td><td>5         </td><td>2015-07-31</td><td>5263      </td><td>555       </td><td>1         </td><td>1         </td><td>0         </td><td>1         </td><td>c         </td><td>a         </td><td>1270      </td><td>9         </td><td>2008      </td><td>0         </td><td>NA        </td><td>NA        </td><td>NA        </td><td> 7        </td></tr>\n",
       "\t<tr><td>1         </td><td>6         </td><td>2013-01-12</td><td>4952      </td><td>646       </td><td>1         </td><td>0         </td><td>0         </td><td>0         </td><td>c         </td><td>a         </td><td>1270      </td><td>9         </td><td>2008      </td><td>0         </td><td>NA        </td><td>NA        </td><td>NA        </td><td> 1        </td></tr>\n",
       "\t<tr><td>1         </td><td>5         </td><td>2014-01-03</td><td>4190      </td><td>552       </td><td>1         </td><td>0         </td><td>0         </td><td>1         </td><td>c         </td><td>a         </td><td>1270      </td><td>9         </td><td>2008      </td><td>0         </td><td>NA        </td><td>NA        </td><td>NA        </td><td> 1        </td></tr>\n",
       "\t<tr><td>1         </td><td>3         </td><td>2014-12-03</td><td>6454      </td><td>695       </td><td>1         </td><td>1         </td><td>0         </td><td>0         </td><td>c         </td><td>a         </td><td>1270      </td><td>9         </td><td>2008      </td><td>0         </td><td>NA        </td><td>NA        </td><td>NA        </td><td>12        </td></tr>\n",
       "\t<tr><td>1         </td><td>3         </td><td>2013-11-13</td><td>3310      </td><td>464       </td><td>1         </td><td>0         </td><td>0         </td><td>0         </td><td>c         </td><td>a         </td><td>1270      </td><td>9         </td><td>2008      </td><td>0         </td><td>NA        </td><td>NA        </td><td>NA        </td><td>11        </td></tr>\n",
       "\t<tr><td>1         </td><td>7         </td><td>2013-10-27</td><td>   0      </td><td>  0       </td><td>0         </td><td>0         </td><td>0         </td><td>0         </td><td>c         </td><td>a         </td><td>1270      </td><td>9         </td><td>2008      </td><td>0         </td><td>NA        </td><td>NA        </td><td>NA        </td><td>10        </td></tr>\n",
       "</tbody>\n",
       "</table>\n"
      ],
      "text/latex": [
       "\\begin{tabular}{r|lllllllllllllllllll}\n",
       " Store & DayOfWeek & Date & Sales & Customers & Open & Promo & StateHoliday & SchoolHoliday & StoreType & Assortment & CompetitionDistance & CompetitionOpenSinceMonth & CompetitionOpenSinceYear & Promo2 & Promo2SinceWeek & Promo2SinceYear & PromoInterval & months\\\\\n",
       "\\hline\n",
       "\t 1          & 5          & 2015-07-31 & 5263       & 555        & 1          & 1          & 0          & 1          & c          & a          & 1270       & 9          & 2008       & 0          & NA         & NA         & NA         &  7        \\\\\n",
       "\t 1          & 6          & 2013-01-12 & 4952       & 646        & 1          & 0          & 0          & 0          & c          & a          & 1270       & 9          & 2008       & 0          & NA         & NA         & NA         &  1        \\\\\n",
       "\t 1          & 5          & 2014-01-03 & 4190       & 552        & 1          & 0          & 0          & 1          & c          & a          & 1270       & 9          & 2008       & 0          & NA         & NA         & NA         &  1        \\\\\n",
       "\t 1          & 3          & 2014-12-03 & 6454       & 695        & 1          & 1          & 0          & 0          & c          & a          & 1270       & 9          & 2008       & 0          & NA         & NA         & NA         & 12        \\\\\n",
       "\t 1          & 3          & 2013-11-13 & 3310       & 464        & 1          & 0          & 0          & 0          & c          & a          & 1270       & 9          & 2008       & 0          & NA         & NA         & NA         & 11        \\\\\n",
       "\t 1          & 7          & 2013-10-27 &    0       &   0        & 0          & 0          & 0          & 0          & c          & a          & 1270       & 9          & 2008       & 0          & NA         & NA         & NA         & 10        \\\\\n",
       "\\end{tabular}\n"
      ],
      "text/markdown": [
       "\n",
       "| Store | DayOfWeek | Date | Sales | Customers | Open | Promo | StateHoliday | SchoolHoliday | StoreType | Assortment | CompetitionDistance | CompetitionOpenSinceMonth | CompetitionOpenSinceYear | Promo2 | Promo2SinceWeek | Promo2SinceYear | PromoInterval | months |\n",
       "|---|---|---|---|---|---|---|---|---|---|---|---|---|---|---|---|---|---|---|\n",
       "| 1          | 5          | 2015-07-31 | 5263       | 555        | 1          | 1          | 0          | 1          | c          | a          | 1270       | 9          | 2008       | 0          | NA         | NA         | NA         |  7         |\n",
       "| 1          | 6          | 2013-01-12 | 4952       | 646        | 1          | 0          | 0          | 0          | c          | a          | 1270       | 9          | 2008       | 0          | NA         | NA         | NA         |  1         |\n",
       "| 1          | 5          | 2014-01-03 | 4190       | 552        | 1          | 0          | 0          | 1          | c          | a          | 1270       | 9          | 2008       | 0          | NA         | NA         | NA         |  1         |\n",
       "| 1          | 3          | 2014-12-03 | 6454       | 695        | 1          | 1          | 0          | 0          | c          | a          | 1270       | 9          | 2008       | 0          | NA         | NA         | NA         | 12         |\n",
       "| 1          | 3          | 2013-11-13 | 3310       | 464        | 1          | 0          | 0          | 0          | c          | a          | 1270       | 9          | 2008       | 0          | NA         | NA         | NA         | 11         |\n",
       "| 1          | 7          | 2013-10-27 |    0       |   0        | 0          | 0          | 0          | 0          | c          | a          | 1270       | 9          | 2008       | 0          | NA         | NA         | NA         | 10         |\n",
       "\n"
      ],
      "text/plain": [
       "  Store DayOfWeek Date       Sales Customers Open Promo StateHoliday\n",
       "1 1     5         2015-07-31 5263  555       1    1     0           \n",
       "2 1     6         2013-01-12 4952  646       1    0     0           \n",
       "3 1     5         2014-01-03 4190  552       1    0     0           \n",
       "4 1     3         2014-12-03 6454  695       1    1     0           \n",
       "5 1     3         2013-11-13 3310  464       1    0     0           \n",
       "6 1     7         2013-10-27    0    0       0    0     0           \n",
       "  SchoolHoliday StoreType Assortment CompetitionDistance\n",
       "1 1             c         a          1270               \n",
       "2 0             c         a          1270               \n",
       "3 1             c         a          1270               \n",
       "4 0             c         a          1270               \n",
       "5 0             c         a          1270               \n",
       "6 0             c         a          1270               \n",
       "  CompetitionOpenSinceMonth CompetitionOpenSinceYear Promo2 Promo2SinceWeek\n",
       "1 9                         2008                     0      NA             \n",
       "2 9                         2008                     0      NA             \n",
       "3 9                         2008                     0      NA             \n",
       "4 9                         2008                     0      NA             \n",
       "5 9                         2008                     0      NA             \n",
       "6 9                         2008                     0      NA             \n",
       "  Promo2SinceYear PromoInterval months\n",
       "1 NA              NA             7    \n",
       "2 NA              NA             1    \n",
       "3 NA              NA             1    \n",
       "4 NA              NA            12    \n",
       "5 NA              NA            11    \n",
       "6 NA              NA            10    "
      ]
     },
     "metadata": {},
     "output_type": "display_data"
    }
   ],
   "source": [
    "data['months']<- match(data$months,month.name)\n",
    "head(data)"
   ]
  },
  {
   "cell_type": "code",
   "execution_count": 15,
   "metadata": {},
   "outputs": [],
   "source": [
    "data['Day']<-weekdays(as.Date(data$Date))"
   ]
  },
  {
   "cell_type": "code",
   "execution_count": 16,
   "metadata": {},
   "outputs": [],
   "source": [
    "library(dplyr)\n",
    "\n",
    "\n",
    "data$Day <- recode(data$Day, \n",
    "       \"Sunday\"=0,\n",
    "       \"Monday\"=1,\n",
    "       \"Tuesday\"=2,\n",
    "       \"Wednesday\"=3,\n",
    "       \"Thursday\"=4,\n",
    "       \"Friday\"=5,\n",
    "       \"Saturday\"=6)"
   ]
  },
  {
   "cell_type": "code",
   "execution_count": 17,
   "metadata": {},
   "outputs": [],
   "source": [
    "data['Quarter']<-quarters(as.Date(data$Date))\n",
    "data$Quarter <- recode(data$Quarter,\n",
    "                   \"Q1\"=1,\n",
    "                   \"Q2\"=2,\n",
    "                   \"Q3\"=3,\n",
    "                      \"Q4\"=4)"
   ]
  },
  {
   "cell_type": "code",
   "execution_count": 18,
   "metadata": {},
   "outputs": [],
   "source": [
    "getSeason <- function(DATES) {\n",
    "    WS <- as.Date(\"2012-12-15\", format = \"%Y-%m-%d\") # Winter Solstice\n",
    "    SE <- as.Date(\"2012-3-15\",  format = \"%Y-%m-%d\") # Spring Equinox\n",
    "    SS <- as.Date(\"2012-6-15\",  format = \"%Y-%m-%d\") # Summer Solstice\n",
    "    FE <- as.Date(\"2012-9-15\",  format = \"%Y-%m-%d\") # Fall Equinox\n",
    "\n",
    "    # Convert dates from any year to 2012 dates\n",
    "    d <- as.Date(strftime(DATES, format=\"2012-%m-%d\"))\n",
    "\n",
    "    ifelse (d >= WS | d < SE, \"Winter\",\n",
    "      ifelse (d >= SE & d < SS, \"Spring\",\n",
    "        ifelse (d >= SS & d < FE, \"Summer\", \"Fall\")))\n",
    "}\n",
    "\n",
    "data['Season']<-getSeason(data$Date)"
   ]
  },
  {
   "cell_type": "code",
   "execution_count": 55,
   "metadata": {},
   "outputs": [
    {
     "data": {
      "image/png": "[encoded data removed]",
      "text/plain": [
       "Plot with title \"Histogram for Store Sales\""
      ]
     },
     "metadata": {},
     "output_type": "display_data"
    }
   ],
   "source": [
    "hist(data$Sales,xlab=\"Sales\",ylab=\"Frequency\",main=\"Histogram for Store Sales\",col=c(\"darkblue\"))"
   ]
  },
  {
   "cell_type": "markdown",
   "metadata": {},
   "source": [
    "The histogram helps us understand the distribution of the data at a high level. From the plot, we can see that the data range is from 0 to 40,000, but there is barely any data after 20,000. This indicates that most of the stores have sales in the range 0–20,000, and just a few stores have sales greater than 20,000. It might be worthwhile to remove these outliers, as it helps the model learn better."
   ]
  },
  {
   "cell_type": "code",
   "execution_count": 73,
   "metadata": {},
   "outputs": [
    {
     "name": "stderr",
     "output_type": "stream",
     "text": [
      "Warning message:\n",
      "\"package 'reshape2' was built under R version 3.6.3\"\n",
      "Attaching package: 'reshape2'\n",
      "\n",
      "The following object is masked from 'package:tidyr':\n",
      "\n",
      "    smiths\n",
      "\n",
      "Using Date, StateHoliday, StoreType, Assortment, PromoInterval, Seaason, Season as id variables\n",
      "`stat_bin()` using `bins = 30`. Pick better value with `binwidth`.\n",
      "Warning message:\n",
      "\"Removed 1665400 rows containing non-finite values (stat_bin).\""
     ]
    },
    {
     "data": {
      "image/png": "[encoded data removed]",
      "text/plain": [
       "plot without title"
      ]
     },
     "metadata": {},
     "output_type": "display_data"
    }
   ],
   "source": [
    "\n",
    "d <- melt(data)\n",
    "ggplot(d,aes(x = value)) + \n",
    "    facet_wrap(~variable,scales = \"free_x\") + \n",
    "    geom_histogram()"
   ]
  },
  {
   "cell_type": "markdown",
   "metadata": {},
   "source": [
    "We can see that the features Promo, Promo2, School Holiday, and Open are actually binary categorical features: they represent two possible values similar to gender: Male or Female. Therefore, these are actually categorical features but already encoded as numeric columns. This is great; we won’t need to further process them, as machine learning models understand only numeric values. Promo2 is well distributed between the two distinct values, whereas Promo has more records for ‘1’ and Open has most of the store records as ‘1’. The distribution between the values for ‘Open’ makes sense, as the stores will be open for most days except state holidays. Customer numbers range from 0 to 2,000 for most stores. A few stores have as many as 7000 daily customers, but these are outliers and we might need to fix them before modeling.The next set of numeric variables are Promo2SinceWeek and Promo2SinceYear; these show a relatively well-distributed feature."
   ]
  },
  {
   "cell_type": "code",
   "execution_count": 83,
   "metadata": {},
   "outputs": [
    {
     "name": "stderr",
     "output_type": "stream",
     "text": [
      "Warning message:\n",
      "\"`fun.y` is deprecated. Use `fun` instead.\""
     ]
    },
    {
     "data": {
      "image/png": "[encoded data removed]",
      "text/plain": [
       "plot without title"
      ]
     },
     "metadata": {},
     "output_type": "display_data"
    }
   ],
   "source": [
    "ggplot(aes(x = Season, y = Sales, fill = Season), data = data) + stat_summary(fun.y = \"mean\", geom = \"bar\")+\n",
    "    theme_classic() +\n",
    "    labs(\n",
    "        x = \"Season\",\n",
    "        y = \"Average Sales\",\n",
    "        title = paste(\n",
    "            \"Bar plots of Average Sales by Season\"\n",
    "        )\n",
    "    )"
   ]
  },
  {
   "cell_type": "markdown",
   "metadata": {},
   "source": [
    "Sales across seasons barely seem to differ"
   ]
  },
  {
   "cell_type": "code",
   "execution_count": 74,
   "metadata": {},
   "outputs": [
    {
     "name": "stderr",
     "output_type": "stream",
     "text": [
      "Warning message:\n",
      "\"`fun.y` is deprecated. Use `fun` instead.\""
     ]
    },
    {
     "data": {
      "image/png": "[encoded data removed]",
      "text/plain": [
       "plot without title"
      ]
     },
     "metadata": {},
     "output_type": "display_data"
    }
   ],
   "source": [
    "ggplot(aes(x = Assortment, y = Sales, fill = Assortment), data = data) + stat_summary(fun.y = \"mean\", geom = \"bar\")+\n",
    "    theme_classic() +\n",
    "    labs(\n",
    "        x = \"Assortment\",\n",
    "        y = \"Average Sales\",\n",
    "        title = paste(\n",
    "            \"Bar plots of Sales by Assortment\"\n",
    "        )\n",
    "    )"
   ]
  },
  {
   "cell_type": "markdown",
   "metadata": {},
   "source": [
    "There seems to be an increasing trend for sales across\n",
    "assortments. Stores with assortment “b” generally have the highest sales. However, further investigation is required to cheeck for skewness of the data."
   ]
  },
  {
   "cell_type": "code",
   "execution_count": 84,
   "metadata": {},
   "outputs": [
    {
     "name": "stderr",
     "output_type": "stream",
     "text": [
      "Warning message:\n",
      "\"`fun.y` is deprecated. Use `fun` instead.\""
     ]
    },
    {
     "data": {
      "image/png": "[encoded data removed]",
      "text/plain": [
       "plot without title"
      ]
     },
     "metadata": {},
     "output_type": "display_data"
    }
   ],
   "source": [
    "ggplot(aes(x = StoreType, y = Sales, fill = StoreType), data = data) + stat_summary(fun.y = \"mean\", geom = \"bar\")+\n",
    "    theme_classic() +\n",
    "    labs(\n",
    "        x = \"StoreType\",\n",
    "        y = \"Average Sales\",\n",
    "        title = paste(\n",
    "            \"Bar plots of StoreType by Assortment\"\n",
    "        )\n",
    "    )"
   ]
  },
  {
   "cell_type": "markdown",
   "metadata": {},
   "source": [
    "Store type also shows a unique relationship with sales across store types. We can see fairly higher sales for “b” store types also.\n"
   ]
  },
  {
   "cell_type": "code",
   "execution_count": 99,
   "metadata": {},
   "outputs": [
    {
     "data": {
      "image/png": "[encoded data removed]",
      "text/plain": [
       "plot without title"
      ]
     },
     "metadata": {},
     "output_type": "display_data"
    }
   ],
   "source": [
    "ggplot(aes(x = Season, y = Sales, fill = Season), data = data) + \n",
    "    geom_bar(stat = \"identity\") +\n",
    "    theme_classic() +\n",
    "    labs(\n",
    "        x = \"Season\",\n",
    "        y = \"Count of Sales\",\n",
    "        title = paste(\n",
    "            \"Bar plots of Count of Sales by Season\"\n",
    "        )\n",
    "    )"
   ]
  },
  {
   "cell_type": "code",
   "execution_count": 102,
   "metadata": {},
   "outputs": [
    {
     "data": {
      "image/png": "[encoded data removed]",
      "text/plain": [
       "plot without title"
      ]
     },
     "metadata": {},
     "output_type": "display_data"
    }
   ],
   "source": [
    "ggplot(aes(x = Assortment, y = Sales, fill = Assortment), data = data) + \n",
    "    geom_bar(stat = \"identity\") +\n",
    "    theme_classic() +\n",
    "    labs(\n",
    "        x = \"StoreType\",\n",
    "        y = \"Count of Sales\",\n",
    "        title = paste(\n",
    "            \"Bar plots of Count of Sales by StoreType\"\n",
    "        )\n",
    "    )"
   ]
  },
  {
   "cell_type": "markdown",
   "metadata": {},
   "source": [
    "We can notice that the distribution of data points across different classes within a category is skewed. A simple check on StoreType and Assortment reveals that b has a significantly lower number of stores or data points in the dataset. Therefore, our initial understanding of the relationships observed is not true."
   ]
  },
  {
   "cell_type": "code",
   "execution_count": 103,
   "metadata": {},
   "outputs": [
    {
     "name": "stderr",
     "output_type": "stream",
     "text": [
      "Warning message:\n",
      "\"`fun.y` is deprecated. Use `fun` instead.\""
     ]
    },
    {
     "data": {
      "image/png": "[encoded data removed]",
      "text/plain": [
       "plot without title"
      ]
     },
     "metadata": {},
     "output_type": "display_data"
    }
   ],
   "source": [
    "ggplot(aes(x = StateHoliday, y = Sales, fill = StateHoliday), data = data) + stat_summary(fun.y = \"mean\", geom = \"bar\")+\n",
    "    theme_classic() +\n",
    "    labs(\n",
    "        x = \"StateHoliday\",\n",
    "        y = \"Average Sales\",\n",
    "        title = paste(\n",
    "            \"Bar plots of Average Sales by StateHoliday\"\n",
    "        )\n",
    "    )"
   ]
  },
  {
   "cell_type": "code",
   "execution_count": 104,
   "metadata": {},
   "outputs": [
    {
     "name": "stderr",
     "output_type": "stream",
     "text": [
      "Warning message:\n",
      "\"`fun.y` is deprecated. Use `fun` instead.\""
     ]
    },
    {
     "data": {
      "image/png": "[encoded data removed]",
      "text/plain": [
       "plot without title"
      ]
     },
     "metadata": {},
     "output_type": "display_data"
    }
   ],
   "source": [
    "\n",
    "ggplot(aes(x = Promo, y = Sales, fill = Promo), data = data) + stat_summary(fun.y = \"mean\", geom = \"bar\")+\n",
    "    theme_classic() +\n",
    "    labs(\n",
    "        x = \"Promo\",\n",
    "        y = \"Average Sales\",\n",
    "        title = paste(\n",
    "            \"Bar plots of Average Sales by Promo\"\n",
    "        )\n",
    "    )"
   ]
  },
  {
   "cell_type": "code",
   "execution_count": 19,
   "metadata": {},
   "outputs": [
    {
     "data": {
      "text/html": [
       "<dl class=dl-horizontal>\n",
       "\t<dt>Store</dt>\n",
       "\t\t<dd>0</dd>\n",
       "\t<dt>DayOfWeek</dt>\n",
       "\t\t<dd>0</dd>\n",
       "\t<dt>Date</dt>\n",
       "\t\t<dd>0</dd>\n",
       "\t<dt>Sales</dt>\n",
       "\t\t<dd>0</dd>\n",
       "\t<dt>Customers</dt>\n",
       "\t\t<dd>0</dd>\n",
       "\t<dt>Open</dt>\n",
       "\t\t<dd>0</dd>\n",
       "\t<dt>Promo</dt>\n",
       "\t\t<dd>0</dd>\n",
       "\t<dt>StateHoliday</dt>\n",
       "\t\t<dd>0</dd>\n",
       "\t<dt>SchoolHoliday</dt>\n",
       "\t\t<dd>0</dd>\n",
       "\t<dt>StoreType</dt>\n",
       "\t\t<dd>0</dd>\n",
       "\t<dt>Assortment</dt>\n",
       "\t\t<dd>0</dd>\n",
       "\t<dt>CompetitionDistance</dt>\n",
       "\t\t<dd>0.25973030124586</dd>\n",
       "\t<dt>CompetitionOpenSinceMonth</dt>\n",
       "\t\t<dd>31.7877643630758</dd>\n",
       "\t<dt>CompetitionOpenSinceYear</dt>\n",
       "\t\t<dd>31.7877643630758</dd>\n",
       "\t<dt>Promo2</dt>\n",
       "\t\t<dd>0</dd>\n",
       "\t<dt>Promo2SinceWeek</dt>\n",
       "\t\t<dd>49.9436202393019</dd>\n",
       "\t<dt>Promo2SinceYear</dt>\n",
       "\t\t<dd>49.9436202393019</dd>\n",
       "\t<dt>PromoInterval</dt>\n",
       "\t\t<dd>49.9436202393019</dd>\n",
       "\t<dt>months</dt>\n",
       "\t\t<dd>0</dd>\n",
       "\t<dt>Day</dt>\n",
       "\t\t<dd>0</dd>\n",
       "\t<dt>Quarter</dt>\n",
       "\t\t<dd>0</dd>\n",
       "\t<dt>Season</dt>\n",
       "\t\t<dd>0</dd>\n",
       "</dl>\n"
      ],
      "text/latex": [
       "\\begin{description*}\n",
       "\\item[Store] 0\n",
       "\\item[DayOfWeek] 0\n",
       "\\item[Date] 0\n",
       "\\item[Sales] 0\n",
       "\\item[Customers] 0\n",
       "\\item[Open] 0\n",
       "\\item[Promo] 0\n",
       "\\item[StateHoliday] 0\n",
       "\\item[SchoolHoliday] 0\n",
       "\\item[StoreType] 0\n",
       "\\item[Assortment] 0\n",
       "\\item[CompetitionDistance] 0.25973030124586\n",
       "\\item[CompetitionOpenSinceMonth] 31.7877643630758\n",
       "\\item[CompetitionOpenSinceYear] 31.7877643630758\n",
       "\\item[Promo2] 0\n",
       "\\item[Promo2SinceWeek] 49.9436202393019\n",
       "\\item[Promo2SinceYear] 49.9436202393019\n",
       "\\item[PromoInterval] 49.9436202393019\n",
       "\\item[months] 0\n",
       "\\item[Day] 0\n",
       "\\item[Quarter] 0\n",
       "\\item[Season] 0\n",
       "\\end{description*}\n"
      ],
      "text/markdown": [
       "Store\n",
       ":   0DayOfWeek\n",
       ":   0Date\n",
       ":   0Sales\n",
       ":   0Customers\n",
       ":   0Open\n",
       ":   0Promo\n",
       ":   0StateHoliday\n",
       ":   0SchoolHoliday\n",
       ":   0StoreType\n",
       ":   0Assortment\n",
       ":   0CompetitionDistance\n",
       ":   0.25973030124586CompetitionOpenSinceMonth\n",
       ":   31.7877643630758CompetitionOpenSinceYear\n",
       ":   31.7877643630758Promo2\n",
       ":   0Promo2SinceWeek\n",
       ":   49.9436202393019Promo2SinceYear\n",
       ":   49.9436202393019PromoInterval\n",
       ":   49.9436202393019months\n",
       ":   0Day\n",
       ":   0Quarter\n",
       ":   0Season\n",
       ":   0\n",
       "\n"
      ],
      "text/plain": [
       "                    Store                 DayOfWeek                      Date \n",
       "                0.0000000                 0.0000000                 0.0000000 \n",
       "                    Sales                 Customers                      Open \n",
       "                0.0000000                 0.0000000                 0.0000000 \n",
       "                    Promo              StateHoliday             SchoolHoliday \n",
       "                0.0000000                 0.0000000                 0.0000000 \n",
       "                StoreType                Assortment       CompetitionDistance \n",
       "                0.0000000                 0.0000000                 0.2597303 \n",
       "CompetitionOpenSinceMonth  CompetitionOpenSinceYear                    Promo2 \n",
       "               31.7877644                31.7877644                 0.0000000 \n",
       "          Promo2SinceWeek           Promo2SinceYear             PromoInterval \n",
       "               49.9436202                49.9436202                49.9436202 \n",
       "                   months                       Day                   Quarter \n",
       "                0.0000000                 0.0000000                 0.0000000 \n",
       "                   Season \n",
       "                0.0000000 "
      ]
     },
     "metadata": {},
     "output_type": "display_data"
    }
   ],
   "source": [
    "# Handling missing data\n",
    "(sapply(data, function(x) sum(is.na (x))))*100/dim(data)[1]"
   ]
  },
  {
   "cell_type": "markdown",
   "metadata": {},
   "source": [
    "We drop features with gretaer than 30 percent missing data"
   ]
  },
  {
   "cell_type": "code",
   "execution_count": 20,
   "metadata": {},
   "outputs": [],
   "source": [
    "i<-'CompetitionDistance'\n",
    "data[is.na(data[,i]), i] <- mean(data[,i], na.rm = TRUE)\n",
    "data$Date <- NULL"
   ]
  },
  {
   "cell_type": "code",
   "execution_count": 21,
   "metadata": {},
   "outputs": [],
   "source": [
    "#Drop columns\n",
    "data_new<-data[!sapply(data, function(x) any(is.na(x)))]\n"
   ]
  },
  {
   "cell_type": "code",
   "execution_count": 22,
   "metadata": {},
   "outputs": [
    {
     "data": {
      "text/html": [
       "<table>\n",
       "<thead><tr><th scope=col>Store</th><th scope=col>DayOfWeek</th><th scope=col>Sales</th><th scope=col>Customers</th><th scope=col>Open</th><th scope=col>Promo</th><th scope=col>StateHoliday</th><th scope=col>SchoolHoliday</th><th scope=col>StoreType</th><th scope=col>Assortment</th><th scope=col>CompetitionDistance</th><th scope=col>Promo2</th><th scope=col>months</th><th scope=col>Day</th><th scope=col>Quarter</th><th scope=col>Season</th></tr></thead>\n",
       "<tbody>\n",
       "\t<tr><td>1     </td><td>5     </td><td>5263  </td><td>555   </td><td>1     </td><td>1     </td><td>0     </td><td>1     </td><td>c     </td><td>a     </td><td>1270  </td><td>0     </td><td> 7    </td><td>5     </td><td>3     </td><td>Summer</td></tr>\n",
       "\t<tr><td>1     </td><td>6     </td><td>4952  </td><td>646   </td><td>1     </td><td>0     </td><td>0     </td><td>0     </td><td>c     </td><td>a     </td><td>1270  </td><td>0     </td><td> 1    </td><td>6     </td><td>1     </td><td>Winter</td></tr>\n",
       "\t<tr><td>1     </td><td>5     </td><td>4190  </td><td>552   </td><td>1     </td><td>0     </td><td>0     </td><td>1     </td><td>c     </td><td>a     </td><td>1270  </td><td>0     </td><td> 1    </td><td>5     </td><td>1     </td><td>Winter</td></tr>\n",
       "\t<tr><td>1     </td><td>3     </td><td>6454  </td><td>695   </td><td>1     </td><td>1     </td><td>0     </td><td>0     </td><td>c     </td><td>a     </td><td>1270  </td><td>0     </td><td>12    </td><td>3     </td><td>4     </td><td>Fall  </td></tr>\n",
       "\t<tr><td>1     </td><td>3     </td><td>3310  </td><td>464   </td><td>1     </td><td>0     </td><td>0     </td><td>0     </td><td>c     </td><td>a     </td><td>1270  </td><td>0     </td><td>11    </td><td>3     </td><td>4     </td><td>Fall  </td></tr>\n",
       "\t<tr><td>1     </td><td>7     </td><td>   0  </td><td>  0   </td><td>0     </td><td>0     </td><td>0     </td><td>0     </td><td>c     </td><td>a     </td><td>1270  </td><td>0     </td><td>10    </td><td>0     </td><td>4     </td><td>Fall  </td></tr>\n",
       "</tbody>\n",
       "</table>\n"
      ],
      "text/latex": [
       "\\begin{tabular}{r|llllllllllllllll}\n",
       " Store & DayOfWeek & Sales & Customers & Open & Promo & StateHoliday & SchoolHoliday & StoreType & Assortment & CompetitionDistance & Promo2 & months & Day & Quarter & Season\\\\\n",
       "\\hline\n",
       "\t 1      & 5      & 5263   & 555    & 1      & 1      & 0      & 1      & c      & a      & 1270   & 0      &  7     & 5      & 3      & Summer\\\\\n",
       "\t 1      & 6      & 4952   & 646    & 1      & 0      & 0      & 0      & c      & a      & 1270   & 0      &  1     & 6      & 1      & Winter\\\\\n",
       "\t 1      & 5      & 4190   & 552    & 1      & 0      & 0      & 1      & c      & a      & 1270   & 0      &  1     & 5      & 1      & Winter\\\\\n",
       "\t 1      & 3      & 6454   & 695    & 1      & 1      & 0      & 0      & c      & a      & 1270   & 0      & 12     & 3      & 4      & Fall  \\\\\n",
       "\t 1      & 3      & 3310   & 464    & 1      & 0      & 0      & 0      & c      & a      & 1270   & 0      & 11     & 3      & 4      & Fall  \\\\\n",
       "\t 1      & 7      &    0   &   0    & 0      & 0      & 0      & 0      & c      & a      & 1270   & 0      & 10     & 0      & 4      & Fall  \\\\\n",
       "\\end{tabular}\n"
      ],
      "text/markdown": [
       "\n",
       "| Store | DayOfWeek | Sales | Customers | Open | Promo | StateHoliday | SchoolHoliday | StoreType | Assortment | CompetitionDistance | Promo2 | months | Day | Quarter | Season |\n",
       "|---|---|---|---|---|---|---|---|---|---|---|---|---|---|---|---|\n",
       "| 1      | 5      | 5263   | 555    | 1      | 1      | 0      | 1      | c      | a      | 1270   | 0      |  7     | 5      | 3      | Summer |\n",
       "| 1      | 6      | 4952   | 646    | 1      | 0      | 0      | 0      | c      | a      | 1270   | 0      |  1     | 6      | 1      | Winter |\n",
       "| 1      | 5      | 4190   | 552    | 1      | 0      | 0      | 1      | c      | a      | 1270   | 0      |  1     | 5      | 1      | Winter |\n",
       "| 1      | 3      | 6454   | 695    | 1      | 1      | 0      | 0      | c      | a      | 1270   | 0      | 12     | 3      | 4      | Fall   |\n",
       "| 1      | 3      | 3310   | 464    | 1      | 0      | 0      | 0      | c      | a      | 1270   | 0      | 11     | 3      | 4      | Fall   |\n",
       "| 1      | 7      |    0   |   0    | 0      | 0      | 0      | 0      | c      | a      | 1270   | 0      | 10     | 0      | 4      | Fall   |\n",
       "\n"
      ],
      "text/plain": [
       "  Store DayOfWeek Sales Customers Open Promo StateHoliday SchoolHoliday\n",
       "1 1     5         5263  555       1    1     0            1            \n",
       "2 1     6         4952  646       1    0     0            0            \n",
       "3 1     5         4190  552       1    0     0            1            \n",
       "4 1     3         6454  695       1    1     0            0            \n",
       "5 1     3         3310  464       1    0     0            0            \n",
       "6 1     7            0    0       0    0     0            0            \n",
       "  StoreType Assortment CompetitionDistance Promo2 months Day Quarter Season\n",
       "1 c         a          1270                0       7     5   3       Summer\n",
       "2 c         a          1270                0       1     6   1       Winter\n",
       "3 c         a          1270                0       1     5   1       Winter\n",
       "4 c         a          1270                0      12     3   4       Fall  \n",
       "5 c         a          1270                0      11     3   4       Fall  \n",
       "6 c         a          1270                0      10     0   4       Fall  "
      ]
     },
     "metadata": {},
     "output_type": "display_data"
    }
   ],
   "source": [
    "\n",
    "head(data_new)"
   ]
  },
  {
   "cell_type": "markdown",
   "metadata": {},
   "source": [
    "stateholiday should have 0 or 1, to indicate if there is holiday or not"
   ]
  },
  {
   "cell_type": "code",
   "execution_count": 23,
   "metadata": {},
   "outputs": [
    {
     "data": {
      "text/html": [
       "<table>\n",
       "<thead><tr><th scope=col>Store</th><th scope=col>DayOfWeek</th><th scope=col>Sales</th><th scope=col>Customers</th><th scope=col>Open</th><th scope=col>Promo</th><th scope=col>StateHoliday</th><th scope=col>SchoolHoliday</th><th scope=col>StoreType</th><th scope=col>Assortment</th><th scope=col>CompetitionDistance</th><th scope=col>Promo2</th><th scope=col>months</th><th scope=col>Day</th><th scope=col>Quarter</th><th scope=col>Season</th></tr></thead>\n",
       "<tbody>\n",
       "\t<tr><td>1     </td><td>5     </td><td>5263  </td><td>555   </td><td>1     </td><td>1     </td><td>0     </td><td>1     </td><td>c     </td><td>a     </td><td>1270  </td><td>0     </td><td> 7    </td><td>5     </td><td>3     </td><td>Summer</td></tr>\n",
       "\t<tr><td>1     </td><td>6     </td><td>4952  </td><td>646   </td><td>1     </td><td>0     </td><td>0     </td><td>0     </td><td>c     </td><td>a     </td><td>1270  </td><td>0     </td><td> 1    </td><td>6     </td><td>1     </td><td>Winter</td></tr>\n",
       "\t<tr><td>1     </td><td>5     </td><td>4190  </td><td>552   </td><td>1     </td><td>0     </td><td>0     </td><td>1     </td><td>c     </td><td>a     </td><td>1270  </td><td>0     </td><td> 1    </td><td>5     </td><td>1     </td><td>Winter</td></tr>\n",
       "\t<tr><td>1     </td><td>3     </td><td>6454  </td><td>695   </td><td>1     </td><td>1     </td><td>0     </td><td>0     </td><td>c     </td><td>a     </td><td>1270  </td><td>0     </td><td>12    </td><td>3     </td><td>4     </td><td>Fall  </td></tr>\n",
       "\t<tr><td>1     </td><td>3     </td><td>3310  </td><td>464   </td><td>1     </td><td>0     </td><td>0     </td><td>0     </td><td>c     </td><td>a     </td><td>1270  </td><td>0     </td><td>11    </td><td>3     </td><td>4     </td><td>Fall  </td></tr>\n",
       "\t<tr><td>1     </td><td>7     </td><td>   0  </td><td>  0   </td><td>0     </td><td>0     </td><td>0     </td><td>0     </td><td>c     </td><td>a     </td><td>1270  </td><td>0     </td><td>10    </td><td>0     </td><td>4     </td><td>Fall  </td></tr>\n",
       "\t<tr><td>1     </td><td>3     </td><td>3591  </td><td>453   </td><td>1     </td><td>0     </td><td>0     </td><td>0     </td><td>c     </td><td>a     </td><td>1270  </td><td>0     </td><td> 6    </td><td>3     </td><td>2     </td><td>Spring</td></tr>\n",
       "\t<tr><td>1     </td><td>1     </td><td>4770  </td><td>542   </td><td>1     </td><td>1     </td><td>0     </td><td>0     </td><td>c     </td><td>a     </td><td>1270  </td><td>0     </td><td> 9    </td><td>1     </td><td>3     </td><td>Fall  </td></tr>\n",
       "\t<tr><td>1     </td><td>5     </td><td>3836  </td><td>466   </td><td>1     </td><td>0     </td><td>0     </td><td>0     </td><td>c     </td><td>a     </td><td>1270  </td><td>0     </td><td> 9    </td><td>5     </td><td>3     </td><td>Summer</td></tr>\n",
       "\t<tr><td>1     </td><td>1     </td><td>3722  </td><td>480   </td><td>1     </td><td>0     </td><td>0     </td><td>0     </td><td>c     </td><td>a     </td><td>1270  </td><td>0     </td><td> 4    </td><td>1     </td><td>2     </td><td>Spring</td></tr>\n",
       "\t<tr><td>1     </td><td>6     </td><td>4461  </td><td>553   </td><td>1     </td><td>0     </td><td>0     </td><td>1     </td><td>c     </td><td>a     </td><td>1270  </td><td>0     </td><td> 8    </td><td>6     </td><td>3     </td><td>Summer</td></tr>\n",
       "\t<tr><td>1     </td><td>3     </td><td>3775  </td><td>451   </td><td>1     </td><td>0     </td><td>0     </td><td>0     </td><td>c     </td><td>a     </td><td>1270  </td><td>0     </td><td>10    </td><td>3     </td><td>4     </td><td>Fall  </td></tr>\n",
       "\t<tr><td>1     </td><td>6     </td><td>5289  </td><td>640   </td><td>1     </td><td>0     </td><td>0     </td><td>0     </td><td>c     </td><td>a     </td><td>1270  </td><td>0     </td><td> 2    </td><td>6     </td><td>1     </td><td>Winter</td></tr>\n",
       "\t<tr><td>1     </td><td>4     </td><td>3661  </td><td>461   </td><td>1     </td><td>0     </td><td>0     </td><td>0     </td><td>c     </td><td>a     </td><td>1270  </td><td>0     </td><td> 6    </td><td>4     </td><td>2     </td><td>Spring</td></tr>\n",
       "\t<tr><td>1     </td><td>3     </td><td>5229  </td><td>570   </td><td>1     </td><td>1     </td><td>0     </td><td>0     </td><td>c     </td><td>a     </td><td>1270  </td><td>0     </td><td> 6    </td><td>3     </td><td>2     </td><td>Spring</td></tr>\n",
       "\t<tr><td>1     </td><td>4     </td><td>3716  </td><td>457   </td><td>1     </td><td>1     </td><td>0     </td><td>1     </td><td>c     </td><td>a     </td><td>1270  </td><td>0     </td><td> 1    </td><td>4     </td><td>1     </td><td>Winter</td></tr>\n",
       "\t<tr><td>1     </td><td>2     </td><td>4492  </td><td>560   </td><td>1     </td><td>1     </td><td>0     </td><td>0     </td><td>c     </td><td>a     </td><td>1270  </td><td>0     </td><td> 4    </td><td>2     </td><td>2     </td><td>Spring</td></tr>\n",
       "\t<tr><td>1     </td><td>1     </td><td>6803  </td><td>693   </td><td>1     </td><td>1     </td><td>0     </td><td>1     </td><td>c     </td><td>a     </td><td>1270  </td><td>0     </td><td> 4    </td><td>1     </td><td>2     </td><td>Spring</td></tr>\n",
       "\t<tr><td>1     </td><td>6     </td><td>4820  </td><td>623   </td><td>1     </td><td>0     </td><td>0     </td><td>0     </td><td>c     </td><td>a     </td><td>1270  </td><td>0     </td><td> 2    </td><td>6     </td><td>1     </td><td>Winter</td></tr>\n",
       "\t<tr><td>1     </td><td>7     </td><td>   0  </td><td>  0   </td><td>0     </td><td>0     </td><td>0     </td><td>0     </td><td>c     </td><td>a     </td><td>1270  </td><td>0     </td><td> 3    </td><td>0     </td><td>1     </td><td>Winter</td></tr>\n",
       "\t<tr><td>1     </td><td>4     </td><td>   0  </td><td>  0   </td><td>0     </td><td>0     </td><td>1     </td><td>0     </td><td>c     </td><td>a     </td><td>1270  </td><td>0     </td><td> 5    </td><td>4     </td><td>2     </td><td>Spring</td></tr>\n",
       "\t<tr><td>1     </td><td>3     </td><td>5031  </td><td>581   </td><td>1     </td><td>1     </td><td>0     </td><td>0     </td><td>c     </td><td>a     </td><td>1270  </td><td>0     </td><td> 2    </td><td>3     </td><td>1     </td><td>Winter</td></tr>\n",
       "\t<tr><td>1     </td><td>4     </td><td>5020  </td><td>546   </td><td>1     </td><td>1     </td><td>0     </td><td>1     </td><td>c     </td><td>a     </td><td>1270  </td><td>0     </td><td> 7    </td><td>4     </td><td>3     </td><td>Summer</td></tr>\n",
       "\t<tr><td>1     </td><td>5     </td><td>4881  </td><td>592   </td><td>1     </td><td>1     </td><td>0     </td><td>1     </td><td>c     </td><td>a     </td><td>1270  </td><td>0     </td><td> 1    </td><td>5     </td><td>1     </td><td>Winter</td></tr>\n",
       "\t<tr><td>1     </td><td>4     </td><td>4969  </td><td>618   </td><td>1     </td><td>0     </td><td>0     </td><td>1     </td><td>c     </td><td>a     </td><td>1270  </td><td>0     </td><td> 1    </td><td>4     </td><td>1     </td><td>Winter</td></tr>\n",
       "\t<tr><td>1     </td><td>4     </td><td>3906  </td><td>481   </td><td>1     </td><td>0     </td><td>0     </td><td>1     </td><td>c     </td><td>a     </td><td>1270  </td><td>0     </td><td> 8    </td><td>4     </td><td>3     </td><td>Summer</td></tr>\n",
       "\t<tr><td>1     </td><td>3     </td><td>4868  </td><td>566   </td><td>1     </td><td>1     </td><td>0     </td><td>1     </td><td>c     </td><td>a     </td><td>1270  </td><td>0     </td><td>10    </td><td>3     </td><td>4     </td><td>Fall  </td></tr>\n",
       "\t<tr><td>1     </td><td>6     </td><td>4347  </td><td>535   </td><td>1     </td><td>0     </td><td>0     </td><td>0     </td><td>c     </td><td>a     </td><td>1270  </td><td>0     </td><td>10    </td><td>6     </td><td>4     </td><td>Fall  </td></tr>\n",
       "\t<tr><td>1     </td><td>7     </td><td>   0  </td><td>  0   </td><td>0     </td><td>0     </td><td>0     </td><td>0     </td><td>c     </td><td>a     </td><td>1270  </td><td>0     </td><td> 9    </td><td>0     </td><td>3     </td><td>Fall  </td></tr>\n",
       "\t<tr><td>1     </td><td>6     </td><td>4276  </td><td>506   </td><td>1     </td><td>0     </td><td>0     </td><td>0     </td><td>c     </td><td>a     </td><td>1270  </td><td>0     </td><td> 5    </td><td>6     </td><td>2     </td><td>Spring</td></tr>\n",
       "\t<tr><td>...</td><td>...</td><td>...</td><td>...</td><td>...</td><td>...</td><td>...</td><td>...</td><td>...</td><td>...</td><td>...</td><td>...</td><td>...</td><td>...</td><td>...</td><td>...</td></tr>\n",
       "\t<tr><td>1115  </td><td>6     </td><td> 6603 </td><td>501   </td><td>1     </td><td>0     </td><td>0     </td><td>0     </td><td>d     </td><td>c     </td><td>5350  </td><td>1     </td><td> 4    </td><td>6     </td><td>2     </td><td>Spring</td></tr>\n",
       "\t<tr><td>1115  </td><td>5     </td><td> 6623 </td><td>442   </td><td>1     </td><td>1     </td><td>0     </td><td>0     </td><td>d     </td><td>c     </td><td>5350  </td><td>1     </td><td>11    </td><td>5     </td><td>4     </td><td>Fall  </td></tr>\n",
       "\t<tr><td>1115  </td><td>5     </td><td> 6986 </td><td>457   </td><td>1     </td><td>1     </td><td>0     </td><td>0     </td><td>d     </td><td>c     </td><td>5350  </td><td>1     </td><td> 2    </td><td>5     </td><td>1     </td><td>Winter</td></tr>\n",
       "\t<tr><td>1115  </td><td>4     </td><td> 4591 </td><td>342   </td><td>1     </td><td>0     </td><td>0     </td><td>0     </td><td>d     </td><td>c     </td><td>5350  </td><td>1     </td><td> 2    </td><td>4     </td><td>1     </td><td>Winter</td></tr>\n",
       "\t<tr><td>1115  </td><td>4     </td><td> 4409 </td><td>349   </td><td>1     </td><td>0     </td><td>0     </td><td>0     </td><td>d     </td><td>c     </td><td>5350  </td><td>1     </td><td> 9    </td><td>4     </td><td>3     </td><td>Fall  </td></tr>\n",
       "\t<tr><td>1115  </td><td>5     </td><td> 6816 </td><td>475   </td><td>1     </td><td>1     </td><td>0     </td><td>1     </td><td>d     </td><td>c     </td><td>5350  </td><td>1     </td><td> 1    </td><td>5     </td><td>1     </td><td>Winter</td></tr>\n",
       "\t<tr><td>1115  </td><td>2     </td><td> 4307 </td><td>365   </td><td>1     </td><td>0     </td><td>0     </td><td>1     </td><td>d     </td><td>c     </td><td>5350  </td><td>1     </td><td>12    </td><td>2     </td><td>4     </td><td>Winter</td></tr>\n",
       "\t<tr><td>1115  </td><td>2     </td><td> 5074 </td><td>352   </td><td>1     </td><td>0     </td><td>0     </td><td>0     </td><td>d     </td><td>c     </td><td>5350  </td><td>1     </td><td> 7    </td><td>2     </td><td>3     </td><td>Summer</td></tr>\n",
       "\t<tr><td>1115  </td><td>3     </td><td> 3697 </td><td>305   </td><td>1     </td><td>0     </td><td>0     </td><td>1     </td><td>d     </td><td>c     </td><td>5350  </td><td>1     </td><td> 1    </td><td>3     </td><td>1     </td><td>Winter</td></tr>\n",
       "\t<tr><td>1115  </td><td>7     </td><td>    0 </td><td>  0   </td><td>0     </td><td>0     </td><td>0     </td><td>0     </td><td>d     </td><td>c     </td><td>5350  </td><td>1     </td><td>11    </td><td>0     </td><td>4     </td><td>Fall  </td></tr>\n",
       "\t<tr><td>1115  </td><td>2     </td><td> 6095 </td><td>423   </td><td>1     </td><td>1     </td><td>0     </td><td>0     </td><td>d     </td><td>c     </td><td>5350  </td><td>1     </td><td> 8    </td><td>2     </td><td>3     </td><td>Summer</td></tr>\n",
       "\t<tr><td>1115  </td><td>7     </td><td>    0 </td><td>  0   </td><td>0     </td><td>0     </td><td>0     </td><td>0     </td><td>d     </td><td>c     </td><td>5350  </td><td>1     </td><td> 5    </td><td>0     </td><td>2     </td><td>Spring</td></tr>\n",
       "\t<tr><td>1115  </td><td>5     </td><td> 6703 </td><td>461   </td><td>1     </td><td>1     </td><td>0     </td><td>0     </td><td>d     </td><td>c     </td><td>5350  </td><td>1     </td><td> 9    </td><td>5     </td><td>3     </td><td>Summer</td></tr>\n",
       "\t<tr><td>1115  </td><td>2     </td><td> 4594 </td><td>373   </td><td>1     </td><td>0     </td><td>0     </td><td>0     </td><td>d     </td><td>c     </td><td>5350  </td><td>1     </td><td> 3    </td><td>2     </td><td>1     </td><td>Spring</td></tr>\n",
       "\t<tr><td>1115  </td><td>5     </td><td> 5354 </td><td>387   </td><td>1     </td><td>0     </td><td>0     </td><td>1     </td><td>d     </td><td>c     </td><td>5350  </td><td>1     </td><td> 4    </td><td>5     </td><td>2     </td><td>Spring</td></tr>\n",
       "\t<tr><td>1115  </td><td>7     </td><td>    0 </td><td>  0   </td><td>0     </td><td>0     </td><td>0     </td><td>0     </td><td>d     </td><td>c     </td><td>5350  </td><td>1     </td><td> 7    </td><td>0     </td><td>3     </td><td>Summer</td></tr>\n",
       "\t<tr><td>1115  </td><td>4     </td><td> 7648 </td><td>453   </td><td>1     </td><td>1     </td><td>0     </td><td>1     </td><td>d     </td><td>c     </td><td>5350  </td><td>1     </td><td> 8    </td><td>4     </td><td>3     </td><td>Summer</td></tr>\n",
       "\t<tr><td>1115  </td><td>3     </td><td> 7007 </td><td>429   </td><td>1     </td><td>1     </td><td>0     </td><td>0     </td><td>d     </td><td>c     </td><td>5350  </td><td>1     </td><td> 2    </td><td>3     </td><td>1     </td><td>Winter</td></tr>\n",
       "\t<tr><td>1115  </td><td>1     </td><td> 7212 </td><td>477   </td><td>1     </td><td>1     </td><td>0     </td><td>0     </td><td>d     </td><td>c     </td><td>5350  </td><td>1     </td><td> 6    </td><td>1     </td><td>2     </td><td>Spring</td></tr>\n",
       "\t<tr><td>1115  </td><td>7     </td><td>    0 </td><td>  0   </td><td>0     </td><td>0     </td><td>0     </td><td>0     </td><td>d     </td><td>c     </td><td>5350  </td><td>1     </td><td> 5    </td><td>0     </td><td>2     </td><td>Spring</td></tr>\n",
       "\t<tr><td>1115  </td><td>5     </td><td> 6572 </td><td>485   </td><td>1     </td><td>1     </td><td>0     </td><td>0     </td><td>d     </td><td>c     </td><td>5350  </td><td>1     </td><td> 4    </td><td>5     </td><td>2     </td><td>Spring</td></tr>\n",
       "\t<tr><td>1115  </td><td>6     </td><td> 5007 </td><td>410   </td><td>1     </td><td>0     </td><td>0     </td><td>0     </td><td>d     </td><td>c     </td><td>5350  </td><td>1     </td><td> 4    </td><td>6     </td><td>2     </td><td>Spring</td></tr>\n",
       "\t<tr><td>1115  </td><td>3     </td><td> 8120 </td><td>528   </td><td>1     </td><td>1     </td><td>0     </td><td>1     </td><td>d     </td><td>c     </td><td>5350  </td><td>1     </td><td> 3    </td><td>3     </td><td>1     </td><td>Spring</td></tr>\n",
       "\t<tr><td>1115  </td><td>7     </td><td>    0 </td><td>  0   </td><td>0     </td><td>0     </td><td>0     </td><td>0     </td><td>d     </td><td>c     </td><td>5350  </td><td>1     </td><td> 3    </td><td>0     </td><td>1     </td><td>Winter</td></tr>\n",
       "\t<tr><td>1115  </td><td>4     </td><td> 5650 </td><td>378   </td><td>1     </td><td>1     </td><td>0     </td><td>0     </td><td>d     </td><td>c     </td><td>5350  </td><td>1     </td><td> 2    </td><td>4     </td><td>1     </td><td>Winter</td></tr>\n",
       "\t<tr><td>1115  </td><td>3     </td><td> 3982 </td><td>319   </td><td>1     </td><td>0     </td><td>0     </td><td>0     </td><td>d     </td><td>c     </td><td>5350  </td><td>1     </td><td> 2    </td><td>3     </td><td>1     </td><td>Winter</td></tr>\n",
       "\t<tr><td>1115  </td><td>4     </td><td> 5915 </td><td>399   </td><td>1     </td><td>1     </td><td>0     </td><td>1     </td><td>d     </td><td>c     </td><td>5350  </td><td>1     </td><td> 1    </td><td>4     </td><td>1     </td><td>Winter</td></tr>\n",
       "\t<tr><td>1115  </td><td>1     </td><td> 6083 </td><td>440   </td><td>1     </td><td>0     </td><td>0     </td><td>0     </td><td>d     </td><td>c     </td><td>5350  </td><td>1     </td><td> 7    </td><td>1     </td><td>3     </td><td>Summer</td></tr>\n",
       "\t<tr><td>1115  </td><td>1     </td><td>11768 </td><td>893   </td><td>1     </td><td>0     </td><td>0     </td><td>1     </td><td>d     </td><td>c     </td><td>5350  </td><td>1     </td><td>12    </td><td>1     </td><td>4     </td><td>Winter</td></tr>\n",
       "\t<tr><td>1115  </td><td>2     </td><td>    0 </td><td>  0   </td><td>0     </td><td>0     </td><td>1     </td><td>1     </td><td>d     </td><td>c     </td><td>5350  </td><td>1     </td><td> 1    </td><td>2     </td><td>1     </td><td>Winter</td></tr>\n",
       "</tbody>\n",
       "</table>\n"
      ],
      "text/latex": [
       "\\begin{tabular}{r|llllllllllllllll}\n",
       " Store & DayOfWeek & Sales & Customers & Open & Promo & StateHoliday & SchoolHoliday & StoreType & Assortment & CompetitionDistance & Promo2 & months & Day & Quarter & Season\\\\\n",
       "\\hline\n",
       "\t 1      & 5      & 5263   & 555    & 1      & 1      & 0      & 1      & c      & a      & 1270   & 0      &  7     & 5      & 3      & Summer\\\\\n",
       "\t 1      & 6      & 4952   & 646    & 1      & 0      & 0      & 0      & c      & a      & 1270   & 0      &  1     & 6      & 1      & Winter\\\\\n",
       "\t 1      & 5      & 4190   & 552    & 1      & 0      & 0      & 1      & c      & a      & 1270   & 0      &  1     & 5      & 1      & Winter\\\\\n",
       "\t 1      & 3      & 6454   & 695    & 1      & 1      & 0      & 0      & c      & a      & 1270   & 0      & 12     & 3      & 4      & Fall  \\\\\n",
       "\t 1      & 3      & 3310   & 464    & 1      & 0      & 0      & 0      & c      & a      & 1270   & 0      & 11     & 3      & 4      & Fall  \\\\\n",
       "\t 1      & 7      &    0   &   0    & 0      & 0      & 0      & 0      & c      & a      & 1270   & 0      & 10     & 0      & 4      & Fall  \\\\\n",
       "\t 1      & 3      & 3591   & 453    & 1      & 0      & 0      & 0      & c      & a      & 1270   & 0      &  6     & 3      & 2      & Spring\\\\\n",
       "\t 1      & 1      & 4770   & 542    & 1      & 1      & 0      & 0      & c      & a      & 1270   & 0      &  9     & 1      & 3      & Fall  \\\\\n",
       "\t 1      & 5      & 3836   & 466    & 1      & 0      & 0      & 0      & c      & a      & 1270   & 0      &  9     & 5      & 3      & Summer\\\\\n",
       "\t 1      & 1      & 3722   & 480    & 1      & 0      & 0      & 0      & c      & a      & 1270   & 0      &  4     & 1      & 2      & Spring\\\\\n",
       "\t 1      & 6      & 4461   & 553    & 1      & 0      & 0      & 1      & c      & a      & 1270   & 0      &  8     & 6      & 3      & Summer\\\\\n",
       "\t 1      & 3      & 3775   & 451    & 1      & 0      & 0      & 0      & c      & a      & 1270   & 0      & 10     & 3      & 4      & Fall  \\\\\n",
       "\t 1      & 6      & 5289   & 640    & 1      & 0      & 0      & 0      & c      & a      & 1270   & 0      &  2     & 6      & 1      & Winter\\\\\n",
       "\t 1      & 4      & 3661   & 461    & 1      & 0      & 0      & 0      & c      & a      & 1270   & 0      &  6     & 4      & 2      & Spring\\\\\n",
       "\t 1      & 3      & 5229   & 570    & 1      & 1      & 0      & 0      & c      & a      & 1270   & 0      &  6     & 3      & 2      & Spring\\\\\n",
       "\t 1      & 4      & 3716   & 457    & 1      & 1      & 0      & 1      & c      & a      & 1270   & 0      &  1     & 4      & 1      & Winter\\\\\n",
       "\t 1      & 2      & 4492   & 560    & 1      & 1      & 0      & 0      & c      & a      & 1270   & 0      &  4     & 2      & 2      & Spring\\\\\n",
       "\t 1      & 1      & 6803   & 693    & 1      & 1      & 0      & 1      & c      & a      & 1270   & 0      &  4     & 1      & 2      & Spring\\\\\n",
       "\t 1      & 6      & 4820   & 623    & 1      & 0      & 0      & 0      & c      & a      & 1270   & 0      &  2     & 6      & 1      & Winter\\\\\n",
       "\t 1      & 7      &    0   &   0    & 0      & 0      & 0      & 0      & c      & a      & 1270   & 0      &  3     & 0      & 1      & Winter\\\\\n",
       "\t 1      & 4      &    0   &   0    & 0      & 0      & 1      & 0      & c      & a      & 1270   & 0      &  5     & 4      & 2      & Spring\\\\\n",
       "\t 1      & 3      & 5031   & 581    & 1      & 1      & 0      & 0      & c      & a      & 1270   & 0      &  2     & 3      & 1      & Winter\\\\\n",
       "\t 1      & 4      & 5020   & 546    & 1      & 1      & 0      & 1      & c      & a      & 1270   & 0      &  7     & 4      & 3      & Summer\\\\\n",
       "\t 1      & 5      & 4881   & 592    & 1      & 1      & 0      & 1      & c      & a      & 1270   & 0      &  1     & 5      & 1      & Winter\\\\\n",
       "\t 1      & 4      & 4969   & 618    & 1      & 0      & 0      & 1      & c      & a      & 1270   & 0      &  1     & 4      & 1      & Winter\\\\\n",
       "\t 1      & 4      & 3906   & 481    & 1      & 0      & 0      & 1      & c      & a      & 1270   & 0      &  8     & 4      & 3      & Summer\\\\\n",
       "\t 1      & 3      & 4868   & 566    & 1      & 1      & 0      & 1      & c      & a      & 1270   & 0      & 10     & 3      & 4      & Fall  \\\\\n",
       "\t 1      & 6      & 4347   & 535    & 1      & 0      & 0      & 0      & c      & a      & 1270   & 0      & 10     & 6      & 4      & Fall  \\\\\n",
       "\t 1      & 7      &    0   &   0    & 0      & 0      & 0      & 0      & c      & a      & 1270   & 0      &  9     & 0      & 3      & Fall  \\\\\n",
       "\t 1      & 6      & 4276   & 506    & 1      & 0      & 0      & 0      & c      & a      & 1270   & 0      &  5     & 6      & 2      & Spring\\\\\n",
       "\t ... & ... & ... & ... & ... & ... & ... & ... & ... & ... & ... & ... & ... & ... & ... & ...\\\\\n",
       "\t 1115   & 6      &  6603  & 501    & 1      & 0      & 0      & 0      & d      & c      & 5350   & 1      &  4     & 6      & 2      & Spring\\\\\n",
       "\t 1115   & 5      &  6623  & 442    & 1      & 1      & 0      & 0      & d      & c      & 5350   & 1      & 11     & 5      & 4      & Fall  \\\\\n",
       "\t 1115   & 5      &  6986  & 457    & 1      & 1      & 0      & 0      & d      & c      & 5350   & 1      &  2     & 5      & 1      & Winter\\\\\n",
       "\t 1115   & 4      &  4591  & 342    & 1      & 0      & 0      & 0      & d      & c      & 5350   & 1      &  2     & 4      & 1      & Winter\\\\\n",
       "\t 1115   & 4      &  4409  & 349    & 1      & 0      & 0      & 0      & d      & c      & 5350   & 1      &  9     & 4      & 3      & Fall  \\\\\n",
       "\t 1115   & 5      &  6816  & 475    & 1      & 1      & 0      & 1      & d      & c      & 5350   & 1      &  1     & 5      & 1      & Winter\\\\\n",
       "\t 1115   & 2      &  4307  & 365    & 1      & 0      & 0      & 1      & d      & c      & 5350   & 1      & 12     & 2      & 4      & Winter\\\\\n",
       "\t 1115   & 2      &  5074  & 352    & 1      & 0      & 0      & 0      & d      & c      & 5350   & 1      &  7     & 2      & 3      & Summer\\\\\n",
       "\t 1115   & 3      &  3697  & 305    & 1      & 0      & 0      & 1      & d      & c      & 5350   & 1      &  1     & 3      & 1      & Winter\\\\\n",
       "\t 1115   & 7      &     0  &   0    & 0      & 0      & 0      & 0      & d      & c      & 5350   & 1      & 11     & 0      & 4      & Fall  \\\\\n",
       "\t 1115   & 2      &  6095  & 423    & 1      & 1      & 0      & 0      & d      & c      & 5350   & 1      &  8     & 2      & 3      & Summer\\\\\n",
       "\t 1115   & 7      &     0  &   0    & 0      & 0      & 0      & 0      & d      & c      & 5350   & 1      &  5     & 0      & 2      & Spring\\\\\n",
       "\t 1115   & 5      &  6703  & 461    & 1      & 1      & 0      & 0      & d      & c      & 5350   & 1      &  9     & 5      & 3      & Summer\\\\\n",
       "\t 1115   & 2      &  4594  & 373    & 1      & 0      & 0      & 0      & d      & c      & 5350   & 1      &  3     & 2      & 1      & Spring\\\\\n",
       "\t 1115   & 5      &  5354  & 387    & 1      & 0      & 0      & 1      & d      & c      & 5350   & 1      &  4     & 5      & 2      & Spring\\\\\n",
       "\t 1115   & 7      &     0  &   0    & 0      & 0      & 0      & 0      & d      & c      & 5350   & 1      &  7     & 0      & 3      & Summer\\\\\n",
       "\t 1115   & 4      &  7648  & 453    & 1      & 1      & 0      & 1      & d      & c      & 5350   & 1      &  8     & 4      & 3      & Summer\\\\\n",
       "\t 1115   & 3      &  7007  & 429    & 1      & 1      & 0      & 0      & d      & c      & 5350   & 1      &  2     & 3      & 1      & Winter\\\\\n",
       "\t 1115   & 1      &  7212  & 477    & 1      & 1      & 0      & 0      & d      & c      & 5350   & 1      &  6     & 1      & 2      & Spring\\\\\n",
       "\t 1115   & 7      &     0  &   0    & 0      & 0      & 0      & 0      & d      & c      & 5350   & 1      &  5     & 0      & 2      & Spring\\\\\n",
       "\t 1115   & 5      &  6572  & 485    & 1      & 1      & 0      & 0      & d      & c      & 5350   & 1      &  4     & 5      & 2      & Spring\\\\\n",
       "\t 1115   & 6      &  5007  & 410    & 1      & 0      & 0      & 0      & d      & c      & 5350   & 1      &  4     & 6      & 2      & Spring\\\\\n",
       "\t 1115   & 3      &  8120  & 528    & 1      & 1      & 0      & 1      & d      & c      & 5350   & 1      &  3     & 3      & 1      & Spring\\\\\n",
       "\t 1115   & 7      &     0  &   0    & 0      & 0      & 0      & 0      & d      & c      & 5350   & 1      &  3     & 0      & 1      & Winter\\\\\n",
       "\t 1115   & 4      &  5650  & 378    & 1      & 1      & 0      & 0      & d      & c      & 5350   & 1      &  2     & 4      & 1      & Winter\\\\\n",
       "\t 1115   & 3      &  3982  & 319    & 1      & 0      & 0      & 0      & d      & c      & 5350   & 1      &  2     & 3      & 1      & Winter\\\\\n",
       "\t 1115   & 4      &  5915  & 399    & 1      & 1      & 0      & 1      & d      & c      & 5350   & 1      &  1     & 4      & 1      & Winter\\\\\n",
       "\t 1115   & 1      &  6083  & 440    & 1      & 0      & 0      & 0      & d      & c      & 5350   & 1      &  7     & 1      & 3      & Summer\\\\\n",
       "\t 1115   & 1      & 11768  & 893    & 1      & 0      & 0      & 1      & d      & c      & 5350   & 1      & 12     & 1      & 4      & Winter\\\\\n",
       "\t 1115   & 2      &     0  &   0    & 0      & 0      & 1      & 1      & d      & c      & 5350   & 1      &  1     & 2      & 1      & Winter\\\\\n",
       "\\end{tabular}\n"
      ],
      "text/markdown": [
       "\n",
       "| Store | DayOfWeek | Sales | Customers | Open | Promo | StateHoliday | SchoolHoliday | StoreType | Assortment | CompetitionDistance | Promo2 | months | Day | Quarter | Season |\n",
       "|---|---|---|---|---|---|---|---|---|---|---|---|---|---|---|---|\n",
       "| 1      | 5      | 5263   | 555    | 1      | 1      | 0      | 1      | c      | a      | 1270   | 0      |  7     | 5      | 3      | Summer |\n",
       "| 1      | 6      | 4952   | 646    | 1      | 0      | 0      | 0      | c      | a      | 1270   | 0      |  1     | 6      | 1      | Winter |\n",
       "| 1      | 5      | 4190   | 552    | 1      | 0      | 0      | 1      | c      | a      | 1270   | 0      |  1     | 5      | 1      | Winter |\n",
       "| 1      | 3      | 6454   | 695    | 1      | 1      | 0      | 0      | c      | a      | 1270   | 0      | 12     | 3      | 4      | Fall   |\n",
       "| 1      | 3      | 3310   | 464    | 1      | 0      | 0      | 0      | c      | a      | 1270   | 0      | 11     | 3      | 4      | Fall   |\n",
       "| 1      | 7      |    0   |   0    | 0      | 0      | 0      | 0      | c      | a      | 1270   | 0      | 10     | 0      | 4      | Fall   |\n",
       "| 1      | 3      | 3591   | 453    | 1      | 0      | 0      | 0      | c      | a      | 1270   | 0      |  6     | 3      | 2      | Spring |\n",
       "| 1      | 1      | 4770   | 542    | 1      | 1      | 0      | 0      | c      | a      | 1270   | 0      |  9     | 1      | 3      | Fall   |\n",
       "| 1      | 5      | 3836   | 466    | 1      | 0      | 0      | 0      | c      | a      | 1270   | 0      |  9     | 5      | 3      | Summer |\n",
       "| 1      | 1      | 3722   | 480    | 1      | 0      | 0      | 0      | c      | a      | 1270   | 0      |  4     | 1      | 2      | Spring |\n",
       "| 1      | 6      | 4461   | 553    | 1      | 0      | 0      | 1      | c      | a      | 1270   | 0      |  8     | 6      | 3      | Summer |\n",
       "| 1      | 3      | 3775   | 451    | 1      | 0      | 0      | 0      | c      | a      | 1270   | 0      | 10     | 3      | 4      | Fall   |\n",
       "| 1      | 6      | 5289   | 640    | 1      | 0      | 0      | 0      | c      | a      | 1270   | 0      |  2     | 6      | 1      | Winter |\n",
       "| 1      | 4      | 3661   | 461    | 1      | 0      | 0      | 0      | c      | a      | 1270   | 0      |  6     | 4      | 2      | Spring |\n",
       "| 1      | 3      | 5229   | 570    | 1      | 1      | 0      | 0      | c      | a      | 1270   | 0      |  6     | 3      | 2      | Spring |\n",
       "| 1      | 4      | 3716   | 457    | 1      | 1      | 0      | 1      | c      | a      | 1270   | 0      |  1     | 4      | 1      | Winter |\n",
       "| 1      | 2      | 4492   | 560    | 1      | 1      | 0      | 0      | c      | a      | 1270   | 0      |  4     | 2      | 2      | Spring |\n",
       "| 1      | 1      | 6803   | 693    | 1      | 1      | 0      | 1      | c      | a      | 1270   | 0      |  4     | 1      | 2      | Spring |\n",
       "| 1      | 6      | 4820   | 623    | 1      | 0      | 0      | 0      | c      | a      | 1270   | 0      |  2     | 6      | 1      | Winter |\n",
       "| 1      | 7      |    0   |   0    | 0      | 0      | 0      | 0      | c      | a      | 1270   | 0      |  3     | 0      | 1      | Winter |\n",
       "| 1      | 4      |    0   |   0    | 0      | 0      | 1      | 0      | c      | a      | 1270   | 0      |  5     | 4      | 2      | Spring |\n",
       "| 1      | 3      | 5031   | 581    | 1      | 1      | 0      | 0      | c      | a      | 1270   | 0      |  2     | 3      | 1      | Winter |\n",
       "| 1      | 4      | 5020   | 546    | 1      | 1      | 0      | 1      | c      | a      | 1270   | 0      |  7     | 4      | 3      | Summer |\n",
       "| 1      | 5      | 4881   | 592    | 1      | 1      | 0      | 1      | c      | a      | 1270   | 0      |  1     | 5      | 1      | Winter |\n",
       "| 1      | 4      | 4969   | 618    | 1      | 0      | 0      | 1      | c      | a      | 1270   | 0      |  1     | 4      | 1      | Winter |\n",
       "| 1      | 4      | 3906   | 481    | 1      | 0      | 0      | 1      | c      | a      | 1270   | 0      |  8     | 4      | 3      | Summer |\n",
       "| 1      | 3      | 4868   | 566    | 1      | 1      | 0      | 1      | c      | a      | 1270   | 0      | 10     | 3      | 4      | Fall   |\n",
       "| 1      | 6      | 4347   | 535    | 1      | 0      | 0      | 0      | c      | a      | 1270   | 0      | 10     | 6      | 4      | Fall   |\n",
       "| 1      | 7      |    0   |   0    | 0      | 0      | 0      | 0      | c      | a      | 1270   | 0      |  9     | 0      | 3      | Fall   |\n",
       "| 1      | 6      | 4276   | 506    | 1      | 0      | 0      | 0      | c      | a      | 1270   | 0      |  5     | 6      | 2      | Spring |\n",
       "| ... | ... | ... | ... | ... | ... | ... | ... | ... | ... | ... | ... | ... | ... | ... | ... |\n",
       "| 1115   | 6      |  6603  | 501    | 1      | 0      | 0      | 0      | d      | c      | 5350   | 1      |  4     | 6      | 2      | Spring |\n",
       "| 1115   | 5      |  6623  | 442    | 1      | 1      | 0      | 0      | d      | c      | 5350   | 1      | 11     | 5      | 4      | Fall   |\n",
       "| 1115   | 5      |  6986  | 457    | 1      | 1      | 0      | 0      | d      | c      | 5350   | 1      |  2     | 5      | 1      | Winter |\n",
       "| 1115   | 4      |  4591  | 342    | 1      | 0      | 0      | 0      | d      | c      | 5350   | 1      |  2     | 4      | 1      | Winter |\n",
       "| 1115   | 4      |  4409  | 349    | 1      | 0      | 0      | 0      | d      | c      | 5350   | 1      |  9     | 4      | 3      | Fall   |\n",
       "| 1115   | 5      |  6816  | 475    | 1      | 1      | 0      | 1      | d      | c      | 5350   | 1      |  1     | 5      | 1      | Winter |\n",
       "| 1115   | 2      |  4307  | 365    | 1      | 0      | 0      | 1      | d      | c      | 5350   | 1      | 12     | 2      | 4      | Winter |\n",
       "| 1115   | 2      |  5074  | 352    | 1      | 0      | 0      | 0      | d      | c      | 5350   | 1      |  7     | 2      | 3      | Summer |\n",
       "| 1115   | 3      |  3697  | 305    | 1      | 0      | 0      | 1      | d      | c      | 5350   | 1      |  1     | 3      | 1      | Winter |\n",
       "| 1115   | 7      |     0  |   0    | 0      | 0      | 0      | 0      | d      | c      | 5350   | 1      | 11     | 0      | 4      | Fall   |\n",
       "| 1115   | 2      |  6095  | 423    | 1      | 1      | 0      | 0      | d      | c      | 5350   | 1      |  8     | 2      | 3      | Summer |\n",
       "| 1115   | 7      |     0  |   0    | 0      | 0      | 0      | 0      | d      | c      | 5350   | 1      |  5     | 0      | 2      | Spring |\n",
       "| 1115   | 5      |  6703  | 461    | 1      | 1      | 0      | 0      | d      | c      | 5350   | 1      |  9     | 5      | 3      | Summer |\n",
       "| 1115   | 2      |  4594  | 373    | 1      | 0      | 0      | 0      | d      | c      | 5350   | 1      |  3     | 2      | 1      | Spring |\n",
       "| 1115   | 5      |  5354  | 387    | 1      | 0      | 0      | 1      | d      | c      | 5350   | 1      |  4     | 5      | 2      | Spring |\n",
       "| 1115   | 7      |     0  |   0    | 0      | 0      | 0      | 0      | d      | c      | 5350   | 1      |  7     | 0      | 3      | Summer |\n",
       "| 1115   | 4      |  7648  | 453    | 1      | 1      | 0      | 1      | d      | c      | 5350   | 1      |  8     | 4      | 3      | Summer |\n",
       "| 1115   | 3      |  7007  | 429    | 1      | 1      | 0      | 0      | d      | c      | 5350   | 1      |  2     | 3      | 1      | Winter |\n",
       "| 1115   | 1      |  7212  | 477    | 1      | 1      | 0      | 0      | d      | c      | 5350   | 1      |  6     | 1      | 2      | Spring |\n",
       "| 1115   | 7      |     0  |   0    | 0      | 0      | 0      | 0      | d      | c      | 5350   | 1      |  5     | 0      | 2      | Spring |\n",
       "| 1115   | 5      |  6572  | 485    | 1      | 1      | 0      | 0      | d      | c      | 5350   | 1      |  4     | 5      | 2      | Spring |\n",
       "| 1115   | 6      |  5007  | 410    | 1      | 0      | 0      | 0      | d      | c      | 5350   | 1      |  4     | 6      | 2      | Spring |\n",
       "| 1115   | 3      |  8120  | 528    | 1      | 1      | 0      | 1      | d      | c      | 5350   | 1      |  3     | 3      | 1      | Spring |\n",
       "| 1115   | 7      |     0  |   0    | 0      | 0      | 0      | 0      | d      | c      | 5350   | 1      |  3     | 0      | 1      | Winter |\n",
       "| 1115   | 4      |  5650  | 378    | 1      | 1      | 0      | 0      | d      | c      | 5350   | 1      |  2     | 4      | 1      | Winter |\n",
       "| 1115   | 3      |  3982  | 319    | 1      | 0      | 0      | 0      | d      | c      | 5350   | 1      |  2     | 3      | 1      | Winter |\n",
       "| 1115   | 4      |  5915  | 399    | 1      | 1      | 0      | 1      | d      | c      | 5350   | 1      |  1     | 4      | 1      | Winter |\n",
       "| 1115   | 1      |  6083  | 440    | 1      | 0      | 0      | 0      | d      | c      | 5350   | 1      |  7     | 1      | 3      | Summer |\n",
       "| 1115   | 1      | 11768  | 893    | 1      | 0      | 0      | 1      | d      | c      | 5350   | 1      | 12     | 1      | 4      | Winter |\n",
       "| 1115   | 2      |     0  |   0    | 0      | 0      | 1      | 1      | d      | c      | 5350   | 1      |  1     | 2      | 1      | Winter |\n",
       "\n"
      ],
      "text/plain": [
       "        Store DayOfWeek Sales Customers Open Promo StateHoliday SchoolHoliday\n",
       "1       1     5         5263  555       1    1     0            1            \n",
       "2       1     6         4952  646       1    0     0            0            \n",
       "3       1     5         4190  552       1    0     0            1            \n",
       "4       1     3         6454  695       1    1     0            0            \n",
       "5       1     3         3310  464       1    0     0            0            \n",
       "6       1     7            0    0       0    0     0            0            \n",
       "7       1     3         3591  453       1    0     0            0            \n",
       "8       1     1         4770  542       1    1     0            0            \n",
       "9       1     5         3836  466       1    0     0            0            \n",
       "10      1     1         3722  480       1    0     0            0            \n",
       "11      1     6         4461  553       1    0     0            1            \n",
       "12      1     3         3775  451       1    0     0            0            \n",
       "13      1     6         5289  640       1    0     0            0            \n",
       "14      1     4         3661  461       1    0     0            0            \n",
       "15      1     3         5229  570       1    1     0            0            \n",
       "16      1     4         3716  457       1    1     0            1            \n",
       "17      1     2         4492  560       1    1     0            0            \n",
       "18      1     1         6803  693       1    1     0            1            \n",
       "19      1     6         4820  623       1    0     0            0            \n",
       "20      1     7            0    0       0    0     0            0            \n",
       "21      1     4            0    0       0    0     1            0            \n",
       "22      1     3         5031  581       1    1     0            0            \n",
       "23      1     4         5020  546       1    1     0            1            \n",
       "24      1     5         4881  592       1    1     0            1            \n",
       "25      1     4         4969  618       1    0     0            1            \n",
       "26      1     4         3906  481       1    0     0            1            \n",
       "27      1     3         4868  566       1    1     0            1            \n",
       "28      1     6         4347  535       1    0     0            0            \n",
       "29      1     7            0    0       0    0     0            0            \n",
       "30      1     6         4276  506       1    0     0            0            \n",
       "...     ...   ...       ...   ...       ...  ...   ...          ...          \n",
       "1017180 1115  6          6603 501       1    0     0            0            \n",
       "1017181 1115  5          6623 442       1    1     0            0            \n",
       "1017182 1115  5          6986 457       1    1     0            0            \n",
       "1017183 1115  4          4591 342       1    0     0            0            \n",
       "1017184 1115  4          4409 349       1    0     0            0            \n",
       "1017185 1115  5          6816 475       1    1     0            1            \n",
       "1017186 1115  2          4307 365       1    0     0            1            \n",
       "1017187 1115  2          5074 352       1    0     0            0            \n",
       "1017188 1115  3          3697 305       1    0     0            1            \n",
       "1017189 1115  7             0   0       0    0     0            0            \n",
       "1017190 1115  2          6095 423       1    1     0            0            \n",
       "1017191 1115  7             0   0       0    0     0            0            \n",
       "1017192 1115  5          6703 461       1    1     0            0            \n",
       "1017193 1115  2          4594 373       1    0     0            0            \n",
       "1017194 1115  5          5354 387       1    0     0            1            \n",
       "1017195 1115  7             0   0       0    0     0            0            \n",
       "1017196 1115  4          7648 453       1    1     0            1            \n",
       "1017197 1115  3          7007 429       1    1     0            0            \n",
       "1017198 1115  1          7212 477       1    1     0            0            \n",
       "1017199 1115  7             0   0       0    0     0            0            \n",
       "1017200 1115  5          6572 485       1    1     0            0            \n",
       "1017201 1115  6          5007 410       1    0     0            0            \n",
       "1017202 1115  3          8120 528       1    1     0            1            \n",
       "1017203 1115  7             0   0       0    0     0            0            \n",
       "1017204 1115  4          5650 378       1    1     0            0            \n",
       "1017205 1115  3          3982 319       1    0     0            0            \n",
       "1017206 1115  4          5915 399       1    1     0            1            \n",
       "1017207 1115  1          6083 440       1    0     0            0            \n",
       "1017208 1115  1         11768 893       1    0     0            1            \n",
       "1017209 1115  2             0   0       0    0     1            1            \n",
       "        StoreType Assortment CompetitionDistance Promo2 months Day Quarter\n",
       "1       c         a          1270                0       7     5   3      \n",
       "2       c         a          1270                0       1     6   1      \n",
       "3       c         a          1270                0       1     5   1      \n",
       "4       c         a          1270                0      12     3   4      \n",
       "5       c         a          1270                0      11     3   4      \n",
       "6       c         a          1270                0      10     0   4      \n",
       "7       c         a          1270                0       6     3   2      \n",
       "8       c         a          1270                0       9     1   3      \n",
       "9       c         a          1270                0       9     5   3      \n",
       "10      c         a          1270                0       4     1   2      \n",
       "11      c         a          1270                0       8     6   3      \n",
       "12      c         a          1270                0      10     3   4      \n",
       "13      c         a          1270                0       2     6   1      \n",
       "14      c         a          1270                0       6     4   2      \n",
       "15      c         a          1270                0       6     3   2      \n",
       "16      c         a          1270                0       1     4   1      \n",
       "17      c         a          1270                0       4     2   2      \n",
       "18      c         a          1270                0       4     1   2      \n",
       "19      c         a          1270                0       2     6   1      \n",
       "20      c         a          1270                0       3     0   1      \n",
       "21      c         a          1270                0       5     4   2      \n",
       "22      c         a          1270                0       2     3   1      \n",
       "23      c         a          1270                0       7     4   3      \n",
       "24      c         a          1270                0       1     5   1      \n",
       "25      c         a          1270                0       1     4   1      \n",
       "26      c         a          1270                0       8     4   3      \n",
       "27      c         a          1270                0      10     3   4      \n",
       "28      c         a          1270                0      10     6   4      \n",
       "29      c         a          1270                0       9     0   3      \n",
       "30      c         a          1270                0       5     6   2      \n",
       "...     ...       ...        ...                 ...    ...    ... ...    \n",
       "1017180 d         c          5350                1       4     6   2      \n",
       "1017181 d         c          5350                1      11     5   4      \n",
       "1017182 d         c          5350                1       2     5   1      \n",
       "1017183 d         c          5350                1       2     4   1      \n",
       "1017184 d         c          5350                1       9     4   3      \n",
       "1017185 d         c          5350                1       1     5   1      \n",
       "1017186 d         c          5350                1      12     2   4      \n",
       "1017187 d         c          5350                1       7     2   3      \n",
       "1017188 d         c          5350                1       1     3   1      \n",
       "1017189 d         c          5350                1      11     0   4      \n",
       "1017190 d         c          5350                1       8     2   3      \n",
       "1017191 d         c          5350                1       5     0   2      \n",
       "1017192 d         c          5350                1       9     5   3      \n",
       "1017193 d         c          5350                1       3     2   1      \n",
       "1017194 d         c          5350                1       4     5   2      \n",
       "1017195 d         c          5350                1       7     0   3      \n",
       "1017196 d         c          5350                1       8     4   3      \n",
       "1017197 d         c          5350                1       2     3   1      \n",
       "1017198 d         c          5350                1       6     1   2      \n",
       "1017199 d         c          5350                1       5     0   2      \n",
       "1017200 d         c          5350                1       4     5   2      \n",
       "1017201 d         c          5350                1       4     6   2      \n",
       "1017202 d         c          5350                1       3     3   1      \n",
       "1017203 d         c          5350                1       3     0   1      \n",
       "1017204 d         c          5350                1       2     4   1      \n",
       "1017205 d         c          5350                1       2     3   1      \n",
       "1017206 d         c          5350                1       1     4   1      \n",
       "1017207 d         c          5350                1       7     1   3      \n",
       "1017208 d         c          5350                1      12     1   4      \n",
       "1017209 d         c          5350                1       1     2   1      \n",
       "        Season\n",
       "1       Summer\n",
       "2       Winter\n",
       "3       Winter\n",
       "4       Fall  \n",
       "5       Fall  \n",
       "6       Fall  \n",
       "7       Spring\n",
       "8       Fall  \n",
       "9       Summer\n",
       "10      Spring\n",
       "11      Summer\n",
       "12      Fall  \n",
       "13      Winter\n",
       "14      Spring\n",
       "15      Spring\n",
       "16      Winter\n",
       "17      Spring\n",
       "18      Spring\n",
       "19      Winter\n",
       "20      Winter\n",
       "21      Spring\n",
       "22      Winter\n",
       "23      Summer\n",
       "24      Winter\n",
       "25      Winter\n",
       "26      Summer\n",
       "27      Fall  \n",
       "28      Fall  \n",
       "29      Fall  \n",
       "30      Spring\n",
       "...     ...   \n",
       "1017180 Spring\n",
       "1017181 Fall  \n",
       "1017182 Winter\n",
       "1017183 Winter\n",
       "1017184 Fall  \n",
       "1017185 Winter\n",
       "1017186 Winter\n",
       "1017187 Summer\n",
       "1017188 Winter\n",
       "1017189 Fall  \n",
       "1017190 Summer\n",
       "1017191 Spring\n",
       "1017192 Summer\n",
       "1017193 Spring\n",
       "1017194 Spring\n",
       "1017195 Summer\n",
       "1017196 Summer\n",
       "1017197 Winter\n",
       "1017198 Spring\n",
       "1017199 Spring\n",
       "1017200 Spring\n",
       "1017201 Spring\n",
       "1017202 Spring\n",
       "1017203 Winter\n",
       "1017204 Winter\n",
       "1017205 Winter\n",
       "1017206 Winter\n",
       "1017207 Summer\n",
       "1017208 Winter\n",
       "1017209 Winter"
      ]
     },
     "metadata": {},
     "output_type": "display_data"
    }
   ],
   "source": [
    "data_new$StateHoliday <- recode(data_new$StateHoliday, \n",
    "         \"0\"=0,                   \n",
    "        \"a\"=1,\n",
    "        \"b\"=1,\n",
    "        \"c\"=1)\n",
    "data_new"
   ]
  },
  {
   "cell_type": "code",
   "execution_count": 24,
   "metadata": {},
   "outputs": [],
   "source": [
    "data_new$Season <- recode(data_new$Season, \n",
    "         \"Summer\"=0,                   \n",
    "        \"Winter\"=1,\n",
    "        \"Fall\"=2,\n",
    "        \"Spring\"=3)"
   ]
  },
  {
   "cell_type": "code",
   "execution_count": 25,
   "metadata": {},
   "outputs": [],
   "source": [
    "data_new$StoreType<- as.numeric(data_new$StoreType)\n"
   ]
  },
  {
   "cell_type": "code",
   "execution_count": 26,
   "metadata": {
    "scrolled": true
   },
   "outputs": [],
   "source": [
    "#One hot encoding\n",
    "dmy <- dummyVars(\" ~ .\", data = data_new)\n",
    "data_ohe <- data.frame(predict(dmy, newdata = data_new))\n"
   ]
  },
  {
   "cell_type": "markdown",
   "metadata": {},
   "source": [
    "## implementing decision tree for prediction"
   ]
  },
  {
   "cell_type": "code",
   "execution_count": 46,
   "metadata": {},
   "outputs": [
    {
     "data": {
      "text/html": [
       "305163"
      ],
      "text/latex": [
       "305163"
      ],
      "text/markdown": [
       "305163"
      ],
      "text/plain": [
       "[1] 305163"
      ]
     },
     "metadata": {},
     "output_type": "display_data"
    }
   ],
   "source": [
    "1017209-712046"
   ]
  },
  {
   "cell_type": "code",
   "execution_count": 27,
   "metadata": {},
   "outputs": [],
   "source": [
    "set.seed(101)\n",
    "train=sample(1:nrow(data_ohe), 712046)\n"
   ]
  },
  {
   "cell_type": "code",
   "execution_count": 38,
   "metadata": {},
   "outputs": [
    {
     "data": {
      "text/html": [
       "<table>\n",
       "<thead><tr><th></th><th scope=col>Store</th><th scope=col>DayOfWeek</th><th scope=col>Sales</th><th scope=col>Customers</th><th scope=col>Open</th><th scope=col>Promo</th><th scope=col>StateHoliday</th><th scope=col>SchoolHoliday</th><th scope=col>StoreType</th><th scope=col>Assortment.a</th><th scope=col>Assortment.b</th><th scope=col>Assortment.c</th><th scope=col>CompetitionDistance</th><th scope=col>Promo2</th><th scope=col>months</th><th scope=col>Day</th><th scope=col>Quarter</th><th scope=col>Season</th></tr></thead>\n",
       "<tbody>\n",
       "\t<tr><th scope=row>527161</th><td>578  </td><td>2    </td><td>9022 </td><td> 823 </td><td>1    </td><td>1    </td><td>0    </td><td>1    </td><td>4    </td><td>1    </td><td>0    </td><td>0    </td><td>12700</td><td>0    </td><td> 3   </td><td>2    </td><td>1    </td><td>3    </td></tr>\n",
       "\t<tr><th scope=row>895071</th><td>982  </td><td>6    </td><td>5616 </td><td> 496 </td><td>1    </td><td>0    </td><td>0    </td><td>0    </td><td>4    </td><td>1    </td><td>0    </td><td>0    </td><td>21930</td><td>0    </td><td> 2   </td><td>6    </td><td>1    </td><td>1    </td></tr>\n",
       "\t<tr><th scope=row>412881</th><td>453  </td><td>6    </td><td>8857 </td><td>1128 </td><td>1    </td><td>0    </td><td>0    </td><td>0    </td><td>1    </td><td>0    </td><td>0    </td><td>1    </td><td>75860</td><td>0    </td><td> 5   </td><td>6    </td><td>2    </td><td>3    </td></tr>\n",
       "\t<tr><th scope=row>611679</th><td>672  </td><td>3    </td><td>8860 </td><td>1341 </td><td>1    </td><td>1    </td><td>0    </td><td>1    </td><td>3    </td><td>1    </td><td>0    </td><td>0    </td><td>  240</td><td>0    </td><td> 8   </td><td>3    </td><td>3    </td><td>0    </td></tr>\n",
       "\t<tr><th scope=row>822204</th><td>902  </td><td>7    </td><td>   0 </td><td>   0 </td><td>0    </td><td>0    </td><td>0    </td><td>0    </td><td>1    </td><td>1    </td><td>0    </td><td>0    </td><td>  310</td><td>1    </td><td>10   </td><td>0    </td><td>4    </td><td>2    </td></tr>\n",
       "\t<tr><th scope=row>701686</th><td>771  </td><td>1    </td><td>5269 </td><td> 588 </td><td>1    </td><td>0    </td><td>0    </td><td>0    </td><td>1    </td><td>1    </td><td>0    </td><td>0    </td><td>20640</td><td>0    </td><td> 9   </td><td>1    </td><td>3    </td><td>2    </td></tr>\n",
       "</tbody>\n",
       "</table>\n"
      ],
      "text/latex": [
       "\\begin{tabular}{r|llllllllllllllllll}\n",
       "  & Store & DayOfWeek & Sales & Customers & Open & Promo & StateHoliday & SchoolHoliday & StoreType & Assortment.a & Assortment.b & Assortment.c & CompetitionDistance & Promo2 & months & Day & Quarter & Season\\\\\n",
       "\\hline\n",
       "\t527161 & 578   & 2     & 9022  &  823  & 1     & 1     & 0     & 1     & 4     & 1     & 0     & 0     & 12700 & 0     &  3    & 2     & 1     & 3    \\\\\n",
       "\t895071 & 982   & 6     & 5616  &  496  & 1     & 0     & 0     & 0     & 4     & 1     & 0     & 0     & 21930 & 0     &  2    & 6     & 1     & 1    \\\\\n",
       "\t412881 & 453   & 6     & 8857  & 1128  & 1     & 0     & 0     & 0     & 1     & 0     & 0     & 1     & 75860 & 0     &  5    & 6     & 2     & 3    \\\\\n",
       "\t611679 & 672   & 3     & 8860  & 1341  & 1     & 1     & 0     & 1     & 3     & 1     & 0     & 0     &   240 & 0     &  8    & 3     & 3     & 0    \\\\\n",
       "\t822204 & 902   & 7     &    0  &    0  & 0     & 0     & 0     & 0     & 1     & 1     & 0     & 0     &   310 & 1     & 10    & 0     & 4     & 2    \\\\\n",
       "\t701686 & 771   & 1     & 5269  &  588  & 1     & 0     & 0     & 0     & 1     & 1     & 0     & 0     & 20640 & 0     &  9    & 1     & 3     & 2    \\\\\n",
       "\\end{tabular}\n"
      ],
      "text/markdown": [
       "\n",
       "| <!--/--> | Store | DayOfWeek | Sales | Customers | Open | Promo | StateHoliday | SchoolHoliday | StoreType | Assortment.a | Assortment.b | Assortment.c | CompetitionDistance | Promo2 | months | Day | Quarter | Season |\n",
       "|---|---|---|---|---|---|---|---|---|---|---|---|---|---|---|---|---|---|---|\n",
       "| 527161 | 578   | 2     | 9022  |  823  | 1     | 1     | 0     | 1     | 4     | 1     | 0     | 0     | 12700 | 0     |  3    | 2     | 1     | 3     |\n",
       "| 895071 | 982   | 6     | 5616  |  496  | 1     | 0     | 0     | 0     | 4     | 1     | 0     | 0     | 21930 | 0     |  2    | 6     | 1     | 1     |\n",
       "| 412881 | 453   | 6     | 8857  | 1128  | 1     | 0     | 0     | 0     | 1     | 0     | 0     | 1     | 75860 | 0     |  5    | 6     | 2     | 3     |\n",
       "| 611679 | 672   | 3     | 8860  | 1341  | 1     | 1     | 0     | 1     | 3     | 1     | 0     | 0     |   240 | 0     |  8    | 3     | 3     | 0     |\n",
       "| 822204 | 902   | 7     |    0  |    0  | 0     | 0     | 0     | 0     | 1     | 1     | 0     | 0     |   310 | 1     | 10    | 0     | 4     | 2     |\n",
       "| 701686 | 771   | 1     | 5269  |  588  | 1     | 0     | 0     | 0     | 1     | 1     | 0     | 0     | 20640 | 0     |  9    | 1     | 3     | 2     |\n",
       "\n"
      ],
      "text/plain": [
       "       Store DayOfWeek Sales Customers Open Promo StateHoliday SchoolHoliday\n",
       "527161 578   2         9022   823      1    1     0            1            \n",
       "895071 982   6         5616   496      1    0     0            0            \n",
       "412881 453   6         8857  1128      1    0     0            0            \n",
       "611679 672   3         8860  1341      1    1     0            1            \n",
       "822204 902   7            0     0      0    0     0            0            \n",
       "701686 771   1         5269   588      1    0     0            0            \n",
       "       StoreType Assortment.a Assortment.b Assortment.c CompetitionDistance\n",
       "527161 4         1            0            0            12700              \n",
       "895071 4         1            0            0            21930              \n",
       "412881 1         0            0            1            75860              \n",
       "611679 3         1            0            0              240              \n",
       "822204 1         1            0            0              310              \n",
       "701686 1         1            0            0            20640              \n",
       "       Promo2 months Day Quarter Season\n",
       "527161 0       3     2   1       3     \n",
       "895071 0       2     6   1       1     \n",
       "412881 0       5     6   2       3     \n",
       "611679 0       8     3   3       0     \n",
       "822204 1      10     0   4       2     \n",
       "701686 0       9     1   3       2     "
      ]
     },
     "metadata": {},
     "output_type": "display_data"
    }
   ],
   "source": [
    "head(data_ohe[train,])"
   ]
  },
  {
   "cell_type": "code",
   "execution_count": 49,
   "metadata": {},
   "outputs": [],
   "source": [
    "tree.data_ohe = tree(Sales~., data_ohe, subset=train)"
   ]
  },
  {
   "cell_type": "code",
   "execution_count": 50,
   "metadata": {},
   "outputs": [
    {
     "data": {
      "text/plain": [
       "\n",
       "Regression tree:\n",
       "tree(formula = Sales ~ ., data = data_ohe, subset = train)\n",
       "Variables actually used in tree construction:\n",
       "[1] \"Customers\"\n",
       "Number of terminal nodes:  6 \n",
       "Residual mean deviance:  2837000 = 2.02e+12 / 712000 \n",
       "Distribution of residuals:\n",
       "     Min.   1st Qu.    Median      Mean   3rd Qu.      Max. \n",
       "-10030.00   -930.70    -22.84      0.00    684.30  27560.00 "
      ]
     },
     "metadata": {},
     "output_type": "display_data"
    }
   ],
   "source": [
    "summary(tree.data_ohe)"
   ]
  },
  {
   "cell_type": "code",
   "execution_count": 51,
   "metadata": {},
   "outputs": [
    {
     "data": {
      "image/png": "[encoded data removed]",
      "text/plain": [
       "plot without title"
      ]
     },
     "metadata": {},
     "output_type": "display_data"
    }
   ],
   "source": [
    "plot(tree.data_ohe)\n",
    "text(tree.data_ohe, pretty = 0)"
   ]
  },
  {
   "cell_type": "code",
   "execution_count": 54,
   "metadata": {},
   "outputs": [
    {
     "name": "stdout",
     "output_type": "stream",
     "text": [
      "Call:\n",
      "rpart(formula = Sales ~ ., data = data_ohe, subset = train)\n",
      "  n= 712046 \n",
      "\n",
      "          CP nsplit rel error    xerror         xstd\n",
      "1 0.49492346      0 1.0000000 1.0000019 0.0023045684\n",
      "2 0.18009503      1 0.5050765 0.5051680 0.0017152960\n",
      "3 0.05480775      2 0.3249815 0.3253250 0.0010245031\n",
      "4 0.04131814      3 0.2701738 0.2703941 0.0010265816\n",
      "5 0.03788555      4 0.2288556 0.2290851 0.0007483962\n",
      "6 0.01000000      5 0.1909701 0.1912368 0.0006811867\n",
      "\n",
      "Variable importance\n",
      "   Customers         Open    DayOfWeek          Day StateHoliday Assortment.b \n",
      "          44           20           16           16            3            1 \n",
      "\n",
      "Node number 1: 712046 observations,    complexity param=0.4949235\n",
      "  mean=5776.885, MSE=1.485663e+07 \n",
      "  left son=2 (193180 obs) right son=3 (518866 obs)\n",
      "  Primary splits:\n",
      "      Customers < 427.5  to the left,  improve=0.4949235, (0 missing)\n",
      "      Open      < 0.5    to the left,  improve=0.4596231, (0 missing)\n",
      "      DayOfWeek < 6.5    to the right, improve=0.3466631, (0 missing)\n",
      "      Day       < 0.5    to the left,  improve=0.3466631, (0 missing)\n",
      "      Promo     < 0.5    to the left,  improve=0.2044441, (0 missing)\n",
      "  Surrogate splits:\n",
      "      Open         < 0.5    to the left,  agree=0.899, adj=0.626, (0 split)\n",
      "      DayOfWeek    < 6.5    to the right, agree=0.866, adj=0.505, (0 split)\n",
      "      Day          < 0.5    to the left,  agree=0.866, adj=0.505, (0 split)\n",
      "      StateHoliday < 0.5    to the right, agree=0.758, adj=0.107, (0 split)\n",
      "      Store        < 1114.5 to the right, agree=0.729, adj=0.001, (0 split)\n",
      "\n",
      "Node number 2: 193180 observations,    complexity param=0.05480775\n",
      "  mean=1332.867, MSE=3363122 \n",
      "  left son=4 (122903 obs) right son=5 (70277 obs)\n",
      "  Primary splits:\n",
      "      Customers < 198.5  to the left,  improve=0.89241230, (0 missing)\n",
      "      Open      < 0.5    to the left,  improve=0.88448490, (0 missing)\n",
      "      Day       < 0.5    to the left,  improve=0.54863000, (0 missing)\n",
      "      DayOfWeek < 6.5    to the right, improve=0.54863000, (0 missing)\n",
      "      Promo     < 0.5    to the left,  improve=0.07350263, (0 missing)\n",
      "  Surrogate splits:\n",
      "      Open      < 0.5    to the left,  agree=0.990, adj=0.972, (0 split)\n",
      "      DayOfWeek < 6.5    to the right, agree=0.874, adj=0.652, (0 split)\n",
      "      Day       < 0.5    to the left,  agree=0.874, adj=0.652, (0 split)\n",
      "      Promo     < 0.5    to the left,  agree=0.664, adj=0.077, (0 split)\n",
      "      Store     < 1102.5 to the left,  agree=0.638, adj=0.004, (0 split)\n",
      "\n",
      "Node number 3: 518866 observations,    complexity param=0.180095\n",
      "  mean=7431.445, MSE=9045337 \n",
      "  left son=6 (407463 obs) right son=7 (111403 obs)\n",
      "  Primary splits:\n",
      "      Customers < 978.5  to the left,  improve=0.40592910, (0 missing)\n",
      "      Promo     < 0.5    to the left,  improve=0.10530470, (0 missing)\n",
      "      Day       < 1.5    to the right, improve=0.03180854, (0 missing)\n",
      "      DayOfWeek < 1.5    to the right, improve=0.02926169, (0 missing)\n",
      "      months    < 11.5   to the left,  improve=0.02036160, (0 missing)\n",
      "  Surrogate splits:\n",
      "      Assortment.b        < 0.5    to the left,  agree=0.794, adj=0.043, (0 split)\n",
      "      DayOfWeek           < 6.5    to the left,  agree=0.787, adj=0.009, (0 split)\n",
      "      Day                 < 0.5    to the right, agree=0.787, adj=0.009, (0 split)\n",
      "      CompetitionDistance < 95     to the right, agree=0.786, adj=0.003, (0 split)\n",
      "      Store               < 1113.5 to the left,  agree=0.786, adj=0.002, (0 split)\n",
      "\n",
      "Node number 4: 122903 observations\n",
      "  mean=22.84236, MSE=34900.59 \n",
      "\n",
      "Node number 5: 70277 observations\n",
      "  mean=3623.886, MSE=933577.5 \n",
      "\n",
      "Node number 6: 407463 observations,    complexity param=0.03788555\n",
      "  mean=6429.505, MSE=3414633 \n",
      "  left son=12 (218605 obs) right son=13 (188858 obs)\n",
      "  Primary splits:\n",
      "      Customers           < 670.5  to the left,  improve=0.28805130, (0 missing)\n",
      "      Promo               < 0.5    to the left,  improve=0.16116910, (0 missing)\n",
      "      StoreType           < 3.5    to the left,  improve=0.06425375, (0 missing)\n",
      "      CompetitionDistance < 3945   to the left,  improve=0.03671876, (0 missing)\n",
      "      Assortment.c        < 0.5    to the left,  improve=0.02649607, (0 missing)\n",
      "  Surrogate splits:\n",
      "      CompetitionDistance < 495    to the right, agree=0.579, adj=0.091, (0 split)\n",
      "      Promo               < 0.5    to the left,  agree=0.576, adj=0.086, (0 split)\n",
      "      Promo2              < 0.5    to the right, agree=0.572, adj=0.077, (0 split)\n",
      "      StoreType           < 3.5    to the right, agree=0.567, adj=0.065, (0 split)\n",
      "      DayOfWeek           < 1.5    to the right, agree=0.550, adj=0.029, (0 split)\n",
      "\n",
      "Node number 7: 111403 observations,    complexity param=0.04131814\n",
      "  mean=11096.1, MSE=1.25385e+07 \n",
      "  left son=14 (93602 obs) right son=15 (17801 obs)\n",
      "  Primary splits:\n",
      "      Customers    < 1687.5 to the left,  improve=0.31291520, (0 missing)\n",
      "      Promo        < 0.5    to the left,  improve=0.04782130, (0 missing)\n",
      "      Store        < 1113.5 to the left,  improve=0.03700135, (0 missing)\n",
      "      Assortment.c < 0.5    to the left,  improve=0.03205252, (0 missing)\n",
      "      Day          < 1.5    to the right, improve=0.02844959, (0 missing)\n",
      "  Surrogate splits:\n",
      "      Assortment.b < 0.5    to the left,  agree=0.854, adj=0.086, (0 split)\n",
      "      Store        < 1113.5 to the left,  agree=0.845, adj=0.031, (0 split)\n",
      "      DayOfWeek    < 6.5    to the left,  agree=0.843, adj=0.016, (0 split)\n",
      "      Day          < 0.5    to the right, agree=0.843, adj=0.016, (0 split)\n",
      "      StateHoliday < 0.5    to the left,  agree=0.841, adj=0.003, (0 split)\n",
      "\n",
      "Node number 12: 218605 observations\n",
      "  mean=5507.688, MSE=1786099 \n",
      "\n",
      "Node number 13: 188858 observations\n",
      "  mean=7496.517, MSE=3177573 \n",
      "\n",
      "Node number 14: 93602 observations\n",
      "  mean=10232.3, MSE=6583127 \n",
      "\n",
      "Node number 15: 17801 observations\n",
      "  mean=15638.2, MSE=1.929919e+07 \n",
      "\n"
     ]
    },
    {
     "name": "stderr",
     "output_type": "stream",
     "text": [
      "Warning message in data_ohe[-train]$Sales - predictions:\n",
      "\"longer object length is not a multiple of shorter object length\""
     ]
    },
    {
     "name": "stdout",
     "output_type": "stream",
     "text": [
      "[1] 26986903\n"
     ]
    }
   ],
   "source": [
    "fit <- rpart(Sales~., data=data_ohe,subset=train)\n",
    "# summarize the fit\n",
    "summary(fit)\n",
    "# make predictions\n",
    "predictions <- predict(fit, data_ohe[-train,])\n",
    "# summarize accuracy\n",
    "mse <- mean((data_ohe[-train]$Sales - predictions)^2)\n",
    "print(mse)"
   ]
  },
  {
   "cell_type": "code",
   "execution_count": null,
   "metadata": {},
   "outputs": [],
   "source": [
    "\n",
    "fit <- M5P(Sales~., data=data_ohe,subset=train)\n",
    "# summarize the fit\n",
    "summary(fit)\n",
    "# make predictions\n",
    "predictions <- predict(fit, data_ohe[-train,])\n",
    "# summarize accuracy\n",
    "mse <- mean((data_ohe[-train]$Sales - predictions)^2)\n",
    "print(mse)"
   ]
  },
  {
   "cell_type": "code",
   "execution_count": null,
   "metadata": {},
   "outputs": [],
   "source": [
    "fit <- M5Rules(Sales~., data=data_ohe,subset=train)\n",
    "# summarize the fit\n",
    "summary(fit)\n",
    "# make predictions\n",
    "predictions <- predict(fit, data_ohe[-train,])\n",
    "# summarize accuracy\n",
    "mse <- mean((data_ohe[-train]$Sales - predictions)^2)\n",
    "print(mse)"
   ]
  },
  {
   "cell_type": "code",
   "execution_count": 32,
   "metadata": {},
   "outputs": [
    {
     "data": {
      "text/plain": [
       "       Length Class      Mode   \n",
       "y      712046 -none-     numeric\n",
       "X          17 data.frame list   \n",
       "mtrees     25 -none-     list   \n",
       "OOB         1 -none-     logical\n",
       "comb        1 -none-     logical\n",
       "call        4 -none-     call   "
      ]
     },
     "metadata": {},
     "output_type": "display_data"
    },
    {
     "name": "stderr",
     "output_type": "stream",
     "text": [
      "Warning message in data_ohe[-train]$Sales - predictions:\n",
      "\"longer object length is not a multiple of shorter object length\""
     ]
    },
    {
     "name": "stdout",
     "output_type": "stream",
     "text": [
      "[1] 26893718\n"
     ]
    }
   ],
   "source": [
    "fit <- bagging(Sales~., data=data_ohe,subset=train)\n",
    "# summarize the fit\n",
    "summary(fit)\n",
    "# make predictions\n",
    "predictions <- predict(fit, data_ohe[-train,])\n",
    "# summarize accuracy\n",
    "mse <- mean((data_ohe[-train]$Sales - predictions)^2)\n",
    "print(mse)"
   ]
  },
  {
   "cell_type": "code",
   "execution_count": 33,
   "metadata": {},
   "outputs": [
    {
     "ename": "ERROR",
     "evalue": "Error: cannot allocate vector of size 2.7 Gb\n",
     "output_type": "error",
     "traceback": [
      "Error: cannot allocate vector of size 2.7 Gb\nTraceback:\n",
      "1. randomForest(Sales ~ ., data = data_ohe, subset = train)",
      "2. randomForest.formula(Sales ~ ., data = data_ohe, subset = train)",
      "3. randomForest.default(m, y, ...)",
      "4. matrix(integer(nrnodes * nt), ncol = nt)"
     ]
    }
   ],
   "source": [
    "\n",
    "fit <- randomForest(Sales~., data=data_ohe,subset=train)\n",
    "# summarize the fit\n",
    "summary(fit)\n",
    "# make predictions\n",
    "predictions <- predict(fit, data_ohe[-train,])\n",
    "# summarize accuracy\n",
    "mse <- mean((data_ohe[-train]$Sales - predictions)^2)\n",
    "print(mse)"
   ]
  },
  {
   "cell_type": "code",
   "execution_count": null,
   "metadata": {},
   "outputs": [],
   "source": [
    "\n",
    "fit <- gbm(Sales~., data=data_ohe,subset=train,distribution=\"gaussian\")\n",
    "# summarize the fit\n",
    "summary(fit)\n",
    "# make predictions\n",
    "predictions <- predict(fit, data_ohe[-train,])\n",
    "# summarize accuracy\n",
    "mse <- mean((data_ohe[-train]$Sales - predictions)^2)\n",
    "print(mse)"
   ]
  },
  {
   "cell_type": "code",
   "execution_count": null,
   "metadata": {},
   "outputs": [],
   "source": [
    "# for reproducibility\n",
    "set.seed(123)\n",
    "\n",
    "# train GBM model\n",
    "gbm.fit <- gbm(\n",
    "  formula = Sales ~ .,\n",
    "  distribution = \"gaussian\",\n",
    "  data = data_ohe[train,],\n",
    "  n.trees = 1000,\n",
    "  interaction.depth = 1,\n",
    "  shrinkage = 0.001,\n",
    "  cv.folds = 5,\n",
    "  n.cores = NULL, # will use all cores by default\n",
    "  verbose = FALSE\n",
    "  )  \n",
    "\n",
    "# print results\n",
    "print(gbm.fit)"
   ]
  },
  {
   "cell_type": "code",
   "execution_count": null,
   "metadata": {},
   "outputs": [],
   "source": [
    "# get MSE and compute RMSE\n",
    "sqrt(min(gbm.fit$cv.error))\n",
    "\n",
    "\n"
   ]
  },
  {
   "cell_type": "code",
   "execution_count": null,
   "metadata": {},
   "outputs": [],
   "source": [
    "# plot loss function as a result of n trees added to the ensemble\n",
    "gbm.perf(gbm.fit, method = \"cv\")"
   ]
  },
  {
   "cell_type": "code",
   "execution_count": 42,
   "metadata": {},
   "outputs": [
    {
     "data": {
      "text/html": [
       "81"
      ],
      "text/latex": [
       "81"
      ],
      "text/markdown": [
       "81"
      ],
      "text/plain": [
       "[1] 81"
      ]
     },
     "metadata": {},
     "output_type": "display_data"
    }
   ],
   "source": [
    "train=data_ohe[train,]\n",
    "test=data_ohe[-train]\n",
    "# variable names\n",
    "features <- setdiff(names(train), \"Sales\")\n",
    "\n",
    "# Create the treatment plan from the training data\n",
    "treatplan <- vtreat::designTreatmentsZ(train, features, verbose = FALSE)\n",
    "\n",
    "# Get the \"clean\" variable names from the scoreFrame\n",
    "new_vars <- treatplan %>%\n",
    "  magrittr::use_series(scoreFrame) %>%        \n",
    "  dplyr::filter(code %in% c(\"clean\", \"lev\")) %>% \n",
    "  magrittr::use_series(varName)     \n",
    "\n",
    "# Prepare the training data\n",
    "features_train <- vtreat::prepare(treatplan, train, varRestriction = new_vars) %>% as.matrix()\n",
    "response_train <- ames_train$Sale_Price\n",
    "\n",
    "# Prepare the test data\n",
    "features_test <- vtreat::prepare(treatplan, test, varRestriction = new_vars) %>% as.matrix()\n",
    "response_test <- ames_test$Sale_Price\n",
    "\n",
    "# dimensions of one-hot encoded data\n",
    "print(dim(features_train))\n",
    "dim(features_test)"
   ]
  },
  {
   "cell_type": "code",
   "execution_count": null,
   "metadata": {},
   "outputs": [],
   "source": [
    "# reproducibility\n",
    "set.seed(123)\n",
    "\n",
    "xgb.fit1 <- xgb.cv(\n",
    "  data = features_train,\n",
    "  label = response_train,\n",
    "  nrounds = 1000,\n",
    "  nfold = 5,\n",
    "  objective = \"reg:linear\",  # for regression models\n",
    "  verbose = 0               # silent,\n",
    ")"
   ]
  },
  {
   "cell_type": "code",
   "execution_count": null,
   "metadata": {},
   "outputs": [],
   "source": [
    "# get number of trees that minimize error\n",
    "xgb.fit1$evaluation_log %>%\n",
    "  dplyr::summarise(\n",
    "    ntrees.train = which(train_rmse_mean == min(train_rmse_mean))[1],\n",
    "    rmse.train   = min(train_rmse_mean),\n",
    "    ntrees.test  = which(test_rmse_mean == min(test_rmse_mean))[1],\n",
    "    rmse.test   = min(test_rmse_mean),\n",
    "  )\n",
    "##   ntrees.train rmse.train ntrees.test rmse.test\n",
    "## 1          965  0.5022836          60  27572.31\n",
    "\n",
    "# plot error vs number trees\n",
    "ggplot(xgb.fit1$evaluation_log) +\n",
    "  geom_line(aes(iter, train_rmse_mean), color = \"red\") +\n",
    "  geom_line(aes(iter, test_rmse_mean), color = \"blue\")"
   ]
  },
  {
   "cell_type": "code",
   "execution_count": null,
   "metadata": {},
   "outputs": [],
   "source": [
    "# reproducibility\n",
    "set.seed(123)\n",
    "\n",
    "xgb.fit2 <- xgb.cv(\n",
    "  data = features_train,\n",
    "  label = response_train,\n",
    "  nrounds = 1000,\n",
    "  nfold = 5,\n",
    "  objective = \"reg:linear\",  # for regression models\n",
    "  verbose = 0,               # silent,\n",
    "  early_stopping_rounds = 10 # stop if no improvement for 10 consecutive trees\n",
    ")\n",
    "\n",
    "# plot error vs number trees\n",
    "ggplot(xgb.fit2$evaluation_log) +\n",
    "  geom_line(aes(iter, train_rmse_mean), color = \"red\") +\n",
    "  geom_line(aes(iter, test_rmse_mean), color = \"blue\")"
   ]
  },
  {
   "cell_type": "code",
   "execution_count": null,
   "metadata": {},
   "outputs": [],
   "source": [
    "# create parameter list\n",
    "  params <- list(\n",
    "    eta = .1,\n",
    "    max_depth = 5,\n",
    "    min_child_weight = 2,\n",
    "    subsample = .8,\n",
    "    colsample_bytree = .9\n",
    "  )\n",
    "\n",
    "# reproducibility\n",
    "set.seed(123)\n",
    "\n",
    "# train model\n",
    "xgb.fit3 <- xgb.cv(\n",
    "  params = params,\n",
    "  data = features_train,\n",
    "  label = response_train,\n",
    "  nrounds = 1000,\n",
    "  nfold = 5,\n",
    "  objective = \"reg:linear\",  # for regression models\n",
    "  verbose = 0,               # silent,\n",
    "  early_stopping_rounds = 10 # stop if no improvement for 10 consecutive trees\n",
    ")\n",
    "\n",
    "# assess results\n",
    "xgb.fit3$evaluation_log %>%\n",
    "  dplyr::summarise(\n",
    "    ntrees.train = which(train_rmse_mean == min(train_rmse_mean))[1],\n",
    "    rmse.train   = min(train_rmse_mean),\n",
    "    ntrees.test  = which(test_rmse_mean == min(test_rmse_mean))[1],\n",
    "    rmse.test   = min(test_rmse_mean),\n",
    "  )"
   ]
  },
  {
   "cell_type": "code",
   "execution_count": null,
   "metadata": {},
   "outputs": [],
   "source": [
    "# create hyperparameter grid\n",
    "hyper_grid <- expand.grid(\n",
    "  eta = c(.01, .05, .1, .3),\n",
    "  max_depth = c(1, 3, 5, 7),\n",
    "  min_child_weight = c(1, 3, 5, 7),\n",
    "  subsample = c(.65, .8, 1), \n",
    "  colsample_bytree = c(.8, .9, 1),\n",
    "  optimal_trees = 0,               # a place to dump results\n",
    "  min_RMSE = 0                     # a place to dump results\n",
    ")"
   ]
  },
  {
   "cell_type": "code",
   "execution_count": null,
   "metadata": {},
   "outputs": [],
   "source": [
    "# grid search \n",
    "for(i in 1:nrow(hyper_grid)) {\n",
    "  \n",
    "  # create parameter list\n",
    "  params <- list(\n",
    "    eta = hyper_grid$eta[i],\n",
    "    max_depth = hyper_grid$max_depth[i],\n",
    "    min_child_weight = hyper_grid$min_child_weight[i],\n",
    "    subsample = hyper_grid$subsample[i],\n",
    "    colsample_bytree = hyper_grid$colsample_bytree[i]\n",
    "  )\n",
    "  \n",
    "  # reproducibility\n",
    "  set.seed(123)\n",
    "  \n",
    "  # train model\n",
    "  xgb.tune <- xgb.cv(\n",
    "    params = params,\n",
    "    data = features_train,\n",
    "    label = response_train,\n",
    "    nrounds = 5000,\n",
    "    nfold = 5,\n",
    "    objective = \"reg:linear\",  # for regression models\n",
    "    verbose = 0,               # silent,\n",
    "    early_stopping_rounds = 10 # stop if no improvement for 10 consecutive trees\n",
    "  )\n",
    "  \n",
    "  # add min training error and trees to grid\n",
    "  hyper_grid$optimal_trees[i] <- which.min(xgb.tune$evaluation_log$test_rmse_mean)\n",
    "  hyper_grid$min_RMSE[i] <- min(xgb.tune$evaluation_log$test_rmse_mean)\n",
    "}\n",
    "\n",
    "hyper_grid %>%\n",
    "  dplyr::arrange(min_RMSE) %>%\n",
    "  head(10)"
   ]
  }
 ],
 "metadata": {
  "kernelspec": {
   "display_name": "R",
   "language": "R",
   "name": "ir"
  },
  "language_info": {
   "codemirror_mode": "r",
   "file_extension": ".r",
   "mimetype": "text/x-r-source",
   "name": "R",
   "pygments_lexer": "r",
   "version": "3.6.1"
  }
 },
 "nbformat": 4,
 "nbformat_minor": 4
}
