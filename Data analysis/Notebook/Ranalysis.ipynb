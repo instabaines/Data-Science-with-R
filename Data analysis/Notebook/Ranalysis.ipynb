{
 "cells": [
  {
   "cell_type": "markdown",
   "metadata": {},
   "source": [
    "## CMM507 Professional Development and Research Skills"
   ]
  },
  {
   "cell_type": "code",
   "execution_count": 1,
   "metadata": {},
   "outputs": [],
   "source": [
    "#Load data\n",
    "pwd<-read.csv(\".\\\\passwords.csv\", header = TRUE)\n",
    "wsite<-read.csv(\".\\\\wsites.csv\", header = TRUE)"
   ]
  },
  {
   "cell_type": "code",
   "execution_count": 27,
   "metadata": {},
   "outputs": [
    {
     "data": {
      "text/html": [
       "<table>\n",
       "<thead><tr><th scope=col>URL</th><th scope=col>URL_LENGTH</th><th scope=col>NUMBER_SPECIAL_CHARACTERS</th><th scope=col>CHARSET</th><th scope=col>SERVER</th><th scope=col>CONTENT_LENGTH</th><th scope=col>WHOIS_COUNTRY</th><th scope=col>REMOTE_IPS</th><th scope=col>APP_BYTES</th><th scope=col>APP_PACKETS</th><th scope=col>Type</th></tr></thead>\n",
       "<tbody>\n",
       "\t<tr><td>M1_2                 </td><td>45                   </td><td>10                   </td><td>ISO-8859-1           </td><td>Apache               </td><td>  NA                 </td><td>None                 </td><td> 2                   </td><td> 531                 </td><td> 6                   </td><td>MALICIOUS            </td></tr>\n",
       "\t<tr><td>M0_105               </td><td>50                   </td><td>13                   </td><td>UTF-8                </td><td>Apache               </td><td>  NA                 </td><td>CZ                   </td><td> 1                   </td><td>3386                 </td><td>51                   </td><td>MALICIOUS            </td></tr>\n",
       "\t<tr><td>M0_178               </td><td>69                   </td><td>13                   </td><td>UTF-8                </td><td>Apache               </td><td> 194                 </td><td>US                   </td><td> 4                   </td><td> 903                 </td><td>14                   </td><td>MALICIOUS            </td></tr>\n",
       "\t<tr><td>M0_98                </td><td>49                   </td><td>13                   </td><td>UTF-8                </td><td>Apache               </td><td>  NA                 </td><td>CZ                   </td><td> 2                   </td><td>3571                 </td><td>52                   </td><td>MALICIOUS            </td></tr>\n",
       "\t<tr><td>M0_146               </td><td>48                   </td><td>11                   </td><td>UTF-8                </td><td>nginx                </td><td> 640                 </td><td>None                 </td><td> 4                   </td><td>2912                 </td><td>31                   </td><td>MALICIOUS            </td></tr>\n",
       "\t<tr><td>M0_151               </td><td>38                   </td><td>11                   </td><td>UTF-8                </td><td>nginx                </td><td> 661                 </td><td>None                 </td><td> 5                   </td><td>2813                 </td><td>30                   </td><td>MALICIOUS            </td></tr>\n",
       "\t<tr><td>M0_97                </td><td>21                   </td><td> 7                   </td><td>ISO-8859-1           </td><td>nginx                </td><td> 686                 </td><td>RU                   </td><td> 2                   </td><td> 603                 </td><td> 8                   </td><td>MALICIOUS            </td></tr>\n",
       "\t<tr><td>M0_153               </td><td>43                   </td><td>11                   </td><td>UTF-8                </td><td>nginx                </td><td> 673                 </td><td>None                 </td><td> 5                   </td><td>2188                 </td><td>24                   </td><td>MALICIOUS            </td></tr>\n",
       "\t<tr><td>M0_81                </td><td>49                   </td><td>12                   </td><td>UTF-8                </td><td>nginx/1.12.0         </td><td>4877                 </td><td>US                   </td><td> 2                   </td><td> 811                 </td><td>10                   </td><td>MALICIOUS            </td></tr>\n",
       "\t<tr><td>M0_83                </td><td>58                   </td><td>13                   </td><td>UTF-8                </td><td>nginx/1.12.0         </td><td>5962                 </td><td>US                   </td><td> 2                   </td><td>1692                 </td><td>14                   </td><td>MALICIOUS            </td></tr>\n",
       "\t<tr><td>M0_108               </td><td>35                   </td><td> 9                   </td><td>ISO-8859-1           </td><td>Apache               </td><td>7314                 </td><td>None                 </td><td> 2                   </td><td>3240                 </td><td>45                   </td><td>MALICIOUS            </td></tr>\n",
       "\t<tr><td>M0_116               </td><td>41                   </td><td>13                   </td><td>UTF-8                </td><td>nginx                </td><td> 643                 </td><td>None                 </td><td> 3                   </td><td>1142                 </td><td>13                   </td><td>MALICIOUS            </td></tr>\n",
       "\t<tr><td>M0_111               </td><td>26                   </td><td> 8                   </td><td>UTF-8                </td><td>nginx                </td><td>  NA                 </td><td>None                 </td><td> 2                   </td><td>1052                 </td><td>14                   </td><td>MALICIOUS            </td></tr>\n",
       "\t<tr><td>M0_112               </td><td>30                   </td><td> 8                   </td><td>ISO-8859-1           </td><td>Apache               </td><td> 177                 </td><td>None                 </td><td> 2                   </td><td> 666                 </td><td> 9                   </td><td>MALICIOUS            </td></tr>\n",
       "\t<tr><td>M0_176               </td><td>37                   </td><td>11                   </td><td>ISO-8859-1           </td><td>Apache               </td><td>  NA                 </td><td>None                 </td><td>10                   </td><td>5009                 </td><td>50                   </td><td>MALICIOUS            </td></tr>\n",
       "\t<tr><td>M0_144               </td><td>39                   </td><td>11                   </td><td>UTF-8                </td><td>nginx                </td><td> 640                 </td><td>None                 </td><td> 4                   </td><td>1266                 </td><td>15                   </td><td>MALICIOUS            </td></tr>\n",
       "\t<tr><td>M0_169               </td><td>36                   </td><td> 8                   </td><td>ISO-8859-1           </td><td>cloudflare-nginx     </td><td>  NA                 </td><td>ru                   </td><td> 4                   </td><td> 372                 </td><td> 8                   </td><td>MALICIOUS            </td></tr>\n",
       "\t<tr><td>M0_123               </td><td>35                   </td><td>11                   </td><td>UTF-8                </td><td>nginx                </td><td> 652                 </td><td>None                 </td><td> 5                   </td><td>1635                 </td><td>21                   </td><td>MALICIOUS            </td></tr>\n",
       "\t<tr><td>M0_143               </td><td>40                   </td><td>13                   </td><td>UTF-8                </td><td>nginx                </td><td> 643                 </td><td>None                 </td><td> 4                   </td><td>1266                 </td><td>15                   </td><td>MALICIOUS            </td></tr>\n",
       "\t<tr><td>M0_94                </td><td>28                   </td><td> 7                   </td><td>US-ASCII             </td><td>Microsoft-HTTPAPI/2.0</td><td> 324                 </td><td>US                   </td><td> 2                   </td><td> 556                 </td><td> 9                   </td><td>MALICIOUS            </td></tr>\n",
       "\t<tr><td>M0_69                </td><td>22                   </td><td> 7                   </td><td>US-ASCII             </td><td>Microsoft-HTTPAPI/2.0</td><td> 324                 </td><td>US                   </td><td> 4                   </td><td> 850                 </td><td>11                   </td><td>MALICIOUS            </td></tr>\n",
       "\t<tr><td>M0_137               </td><td>35                   </td><td>11                   </td><td>UTF-8                </td><td>nginx                </td><td> 652                 </td><td>None                 </td><td> 5                   </td><td>2157                 </td><td>24                   </td><td>MALICIOUS            </td></tr>\n",
       "\t<tr><td>M0_62                </td><td>75                   </td><td>13                   </td><td>UTF-8                </td><td>Apache               </td><td> 193                 </td><td>US                   </td><td> 6                   </td><td> 801                 </td><td>10                   </td><td>MALICIOUS            </td></tr>\n",
       "\t<tr><td>M0_157               </td><td>36                   </td><td>11                   </td><td>UTF-8                </td><td>nginx                </td><td> 655                 </td><td>None                 </td><td> 5                   </td><td>2227                 </td><td>27                   </td><td>MALICIOUS            </td></tr>\n",
       "\t<tr><td>M0_136               </td><td>32                   </td><td>11                   </td><td>UTF-8                </td><td>nginx                </td><td> 643                 </td><td>None                 </td><td> 5                   </td><td>2783                 </td><td>30                   </td><td>MALICIOUS            </td></tr>\n",
       "\t<tr><td>M0_74                </td><td>29                   </td><td> 7                   </td><td>US-ASCII             </td><td>Microsoft-HTTPAPI/2.0</td><td> 324                 </td><td>UG                   </td><td> 2                   </td><td> 593                 </td><td> 7                   </td><td>MALICIOUS            </td></tr>\n",
       "\t<tr><td>M0_129               </td><td>36                   </td><td>11                   </td><td>UTF-8                </td><td>nginx                </td><td> 655                 </td><td>None                 </td><td> 5                   </td><td> 466                 </td><td>11                   </td><td>MALICIOUS            </td></tr>\n",
       "\t<tr><td>M0_39                </td><td>40                   </td><td>10                   </td><td>UTF-8                </td><td>Apache               </td><td>3016                 </td><td>None                 </td><td> 2                   </td><td>1285                 </td><td>17                   </td><td>MALICIOUS            </td></tr>\n",
       "\t<tr><td>M0_88                </td><td>50                   </td><td>11                   </td><td>ISO-8859-1           </td><td>nginx/1.12.0         </td><td>1108                 </td><td>UA                   </td><td> 2                   </td><td> 746                 </td><td> 9                   </td><td>MALICIOUS            </td></tr>\n",
       "\t<tr><td>M0_106               </td><td>29                   </td><td> 7                   </td><td>ISO-8859-1           </td><td>Apache               </td><td>7314                 </td><td>US                   </td><td> 2                   </td><td>2934                 </td><td>40                   </td><td>MALICIOUS            </td></tr>\n",
       "\t<tr><td>...</td><td>...</td><td>...</td><td>...</td><td>...</td><td>...</td><td>...</td><td>...</td><td>...</td><td>...</td><td>...</td></tr>\n",
       "\t<tr><td>B0_2062              </td><td>56                   </td><td>10                   </td><td>UTF-8                </td><td>None                 </td><td>   NA                </td><td>US                   </td><td> 2                   </td><td> 432                 </td><td> 4                   </td><td>BENIGN               </td></tr>\n",
       "\t<tr><td>B0_2303              </td><td>21                   </td><td> 6                   </td><td>US-ASCII             </td><td>Microsoft-HTTPAPI/2.0</td><td>  324                </td><td>None                 </td><td> 3                   </td><td> 618                 </td><td> 7                   </td><td>BENIGN               </td></tr>\n",
       "\t<tr><td>B0_2031              </td><td>58                   </td><td> 9                   </td><td>ISO-8859-1           </td><td>nginx/1.12.0         </td><td>   NA                </td><td>US                   </td><td> 3                   </td><td> 474                 </td><td> 5                   </td><td>BENIGN               </td></tr>\n",
       "\t<tr><td>B0_241               </td><td>23                   </td><td> 6                   </td><td>UTF-8                </td><td>None                 </td><td>   NA                </td><td>GB                   </td><td> 6                   </td><td>1980                 </td><td>23                   </td><td>BENIGN               </td></tr>\n",
       "\t<tr><td>B0_184               </td><td>38                   </td><td> 8                   </td><td>ISO-8859-1           </td><td>None                 </td><td> 1819                </td><td>US                   </td><td>11                   </td><td>5509                 </td><td>47                   </td><td>BENIGN               </td></tr>\n",
       "\t<tr><td>B0_685               </td><td>40                   </td><td> 8                   </td><td>ISO-8859-1           </td><td>nginx                </td><td>   NA                </td><td>US                   </td><td> 5                   </td><td>1615                 </td><td>20                   </td><td>BENIGN               </td></tr>\n",
       "\t<tr><td>B0_964               </td><td>78                   </td><td>17                   </td><td>ISO-8859-1           </td><td>Apache               </td><td>   NA                </td><td>US                   </td><td> 0                   </td><td>   0                 </td><td> 0                   </td><td>BENIGN               </td></tr>\n",
       "\t<tr><td>B0_1370              </td><td>50                   </td><td>10                   </td><td>ISO-8859-1           </td><td>Apache               </td><td>13076                </td><td>US                   </td><td> 0                   </td><td>   0                 </td><td> 0                   </td><td>BENIGN               </td></tr>\n",
       "\t<tr><td>B0_501               </td><td>31                   </td><td> 7                   </td><td>UTF-8                </td><td>nginx                </td><td>   NA                </td><td>US                   </td><td>13                   </td><td>2773                 </td><td>32                   </td><td>BENIGN               </td></tr>\n",
       "\t<tr><td>B0_663               </td><td>49                   </td><td>10                   </td><td>ISO-8859-1           </td><td>nginx                </td><td> 1505                </td><td>US                   </td><td>15                   </td><td>5371                 </td><td>49                   </td><td>BENIGN               </td></tr>\n",
       "\t<tr><td>B0_2015              </td><td>32                   </td><td> 6                   </td><td>UTF-8                </td><td>None                 </td><td>   NA                </td><td>None                 </td><td> 2                   </td><td> 432                 </td><td> 4                   </td><td>BENIGN               </td></tr>\n",
       "\t<tr><td>B0_643               </td><td>67                   </td><td>11                   </td><td>UTF-8                </td><td>Apache               </td><td>26117                </td><td>US                   </td><td> 5                   </td><td>2381                 </td><td>20                   </td><td>BENIGN               </td></tr>\n",
       "\t<tr><td>B0_923               </td><td>49                   </td><td> 9                   </td><td>ISO-8859-1           </td><td>None                 </td><td>   NA                </td><td>US                   </td><td> 0                   </td><td>   0                 </td><td> 0                   </td><td>BENIGN               </td></tr>\n",
       "\t<tr><td>B0_1353              </td><td>27                   </td><td> 6                   </td><td>US-ASCII             </td><td>Microsoft-HTTPAPI/2.0</td><td>  324                </td><td>US                   </td><td> 0                   </td><td>   0                 </td><td> 0                   </td><td>BENIGN               </td></tr>\n",
       "\t<tr><td>B0_875               </td><td>71                   </td><td>15                   </td><td>US-ASCII             </td><td>Microsoft-HTTPAPI/2.0</td><td>  324                </td><td>TR                   </td><td> 0                   </td><td>   0                 </td><td> 0                   </td><td>BENIGN               </td></tr>\n",
       "\t<tr><td>B0_1026              </td><td>50                   </td><td>12                   </td><td>ISO-8859-1           </td><td>None                 </td><td> 1819                </td><td>US                   </td><td> 0                   </td><td>   0                 </td><td> 0                   </td><td>BENIGN               </td></tr>\n",
       "\t<tr><td>B0_326               </td><td>24                   </td><td> 7                   </td><td>ISO-8859-1           </td><td>Apache               </td><td>  318                </td><td>None                 </td><td> 8                   </td><td>1606                 </td><td>25                   </td><td>BENIGN               </td></tr>\n",
       "\t<tr><td>B0_660               </td><td>26                   </td><td> 6                   </td><td>UTF-8                </td><td>cloudflare-nginx     </td><td>   NA                </td><td>US                   </td><td> 2                   </td><td> 984                 </td><td>11                   </td><td>BENIGN               </td></tr>\n",
       "\t<tr><td>B0_2061              </td><td>28                   </td><td> 7                   </td><td>US-ASCII             </td><td>None                 </td><td>   NA                </td><td>US                   </td><td> 3                   </td><td> 552                 </td><td> 6                   </td><td>BENIGN               </td></tr>\n",
       "\t<tr><td>B0_328               </td><td>42                   </td><td> 8                   </td><td>UTF-8                </td><td>None                 </td><td>   NA                </td><td>US                   </td><td> 2                   </td><td>2780                 </td><td>32                   </td><td>BENIGN               </td></tr>\n",
       "\t<tr><td>B0_959               </td><td>55                   </td><td>11                   </td><td>US-ASCII             </td><td>Microsoft-HTTPAPI/2.0</td><td>  324                </td><td>AU                   </td><td> 0                   </td><td>   0                 </td><td> 0                   </td><td>BENIGN               </td></tr>\n",
       "\t<tr><td>B0_2251              </td><td>74                   </td><td>12                   </td><td>US-ASCII             </td><td>Microsoft-HTTPAPI/2.0</td><td>  324                </td><td>CA                   </td><td> 2                   </td><td> 486                 </td><td> 5                   </td><td>BENIGN               </td></tr>\n",
       "\t<tr><td>B0_155               </td><td>39                   </td><td> 8                   </td><td>UTF-8                </td><td>nginx                </td><td>   NA                </td><td>FR                   </td><td> 2                   </td><td>1059                 </td><td>12                   </td><td>BENIGN               </td></tr>\n",
       "\t<tr><td>B0_390               </td><td>41                   </td><td> 8                   </td><td>UTF-8                </td><td>Apache               </td><td>   NA                </td><td>US                   </td><td> 8                   </td><td>2657                 </td><td>30                   </td><td>BENIGN               </td></tr>\n",
       "\t<tr><td>B0_2008              </td><td>43                   </td><td> 7                   </td><td>UTF-8                </td><td>Apache               </td><td>   NA                </td><td>US                   </td><td> 4                   </td><td>1110                 </td><td>15                   </td><td>BENIGN               </td></tr>\n",
       "\t<tr><td>B0_1405              </td><td>44                   </td><td> 7                   </td><td>US-ASCII             </td><td>Microsoft-HTTPAPI/2.0</td><td>  324                </td><td>US                   </td><td> 0                   </td><td>   0                 </td><td> 0                   </td><td>BENIGN               </td></tr>\n",
       "\t<tr><td>B0_2168              </td><td>60                   </td><td>13                   </td><td>ISO-8859-1           </td><td>None                 </td><td> 1819                </td><td>US                   </td><td> 1                   </td><td> 202                 </td><td> 1                   </td><td>BENIGN               </td></tr>\n",
       "\t<tr><td>B0_306               </td><td>46                   </td><td>10                   </td><td>ISO-8859-1           </td><td>nginx                </td><td> 1510                </td><td>US                   </td><td> 6                   </td><td>3089                 </td><td>24                   </td><td>BENIGN               </td></tr>\n",
       "\t<tr><td>B0_240               </td><td>61                   </td><td>11                   </td><td>UTF-8                </td><td>Apache               </td><td> 8864                </td><td>None                 </td><td> 4                   </td><td>3798                 </td><td>34                   </td><td>BENIGN               </td></tr>\n",
       "\t<tr><td>B0_746               </td><td>34                   </td><td> 8                   </td><td>ISO-8859-1           </td><td>nginx                </td><td>  996                </td><td>US                   </td><td> 2                   </td><td> 716                 </td><td>11                   </td><td>BENIGN               </td></tr>\n",
       "</tbody>\n",
       "</table>\n"
      ],
      "text/latex": [
       "\\begin{tabular}{r|lllllllllll}\n",
       " URL & URL\\_LENGTH & NUMBER\\_SPECIAL\\_CHARACTERS & CHARSET & SERVER & CONTENT\\_LENGTH & WHOIS\\_COUNTRY & REMOTE\\_IPS & APP\\_BYTES & APP\\_PACKETS & Type\\\\\n",
       "\\hline\n",
       "\t M1\\_2                & 45                    & 10                    & ISO-8859-1            & Apache                &   NA                  & None                  &  2                    &  531                  &  6                    & MALICIOUS            \\\\\n",
       "\t M0\\_105              & 50                    & 13                    & UTF-8                 & Apache                &   NA                  & CZ                    &  1                    & 3386                  & 51                    & MALICIOUS            \\\\\n",
       "\t M0\\_178              & 69                    & 13                    & UTF-8                 & Apache                &  194                  & US                    &  4                    &  903                  & 14                    & MALICIOUS            \\\\\n",
       "\t M0\\_98               & 49                    & 13                    & UTF-8                 & Apache                &   NA                  & CZ                    &  2                    & 3571                  & 52                    & MALICIOUS            \\\\\n",
       "\t M0\\_146              & 48                    & 11                    & UTF-8                 & nginx                 &  640                  & None                  &  4                    & 2912                  & 31                    & MALICIOUS            \\\\\n",
       "\t M0\\_151              & 38                    & 11                    & UTF-8                 & nginx                 &  661                  & None                  &  5                    & 2813                  & 30                    & MALICIOUS            \\\\\n",
       "\t M0\\_97               & 21                    &  7                    & ISO-8859-1            & nginx                 &  686                  & RU                    &  2                    &  603                  &  8                    & MALICIOUS            \\\\\n",
       "\t M0\\_153              & 43                    & 11                    & UTF-8                 & nginx                 &  673                  & None                  &  5                    & 2188                  & 24                    & MALICIOUS            \\\\\n",
       "\t M0\\_81               & 49                    & 12                    & UTF-8                 & nginx/1.12.0          & 4877                  & US                    &  2                    &  811                  & 10                    & MALICIOUS            \\\\\n",
       "\t M0\\_83               & 58                    & 13                    & UTF-8                 & nginx/1.12.0          & 5962                  & US                    &  2                    & 1692                  & 14                    & MALICIOUS            \\\\\n",
       "\t M0\\_108              & 35                    &  9                    & ISO-8859-1            & Apache                & 7314                  & None                  &  2                    & 3240                  & 45                    & MALICIOUS            \\\\\n",
       "\t M0\\_116              & 41                    & 13                    & UTF-8                 & nginx                 &  643                  & None                  &  3                    & 1142                  & 13                    & MALICIOUS            \\\\\n",
       "\t M0\\_111              & 26                    &  8                    & UTF-8                 & nginx                 &   NA                  & None                  &  2                    & 1052                  & 14                    & MALICIOUS            \\\\\n",
       "\t M0\\_112              & 30                    &  8                    & ISO-8859-1            & Apache                &  177                  & None                  &  2                    &  666                  &  9                    & MALICIOUS            \\\\\n",
       "\t M0\\_176              & 37                    & 11                    & ISO-8859-1            & Apache                &   NA                  & None                  & 10                    & 5009                  & 50                    & MALICIOUS            \\\\\n",
       "\t M0\\_144              & 39                    & 11                    & UTF-8                 & nginx                 &  640                  & None                  &  4                    & 1266                  & 15                    & MALICIOUS            \\\\\n",
       "\t M0\\_169              & 36                    &  8                    & ISO-8859-1            & cloudflare-nginx      &   NA                  & ru                    &  4                    &  372                  &  8                    & MALICIOUS            \\\\\n",
       "\t M0\\_123              & 35                    & 11                    & UTF-8                 & nginx                 &  652                  & None                  &  5                    & 1635                  & 21                    & MALICIOUS            \\\\\n",
       "\t M0\\_143              & 40                    & 13                    & UTF-8                 & nginx                 &  643                  & None                  &  4                    & 1266                  & 15                    & MALICIOUS            \\\\\n",
       "\t M0\\_94               & 28                    &  7                    & US-ASCII              & Microsoft-HTTPAPI/2.0 &  324                  & US                    &  2                    &  556                  &  9                    & MALICIOUS            \\\\\n",
       "\t M0\\_69               & 22                    &  7                    & US-ASCII              & Microsoft-HTTPAPI/2.0 &  324                  & US                    &  4                    &  850                  & 11                    & MALICIOUS            \\\\\n",
       "\t M0\\_137              & 35                    & 11                    & UTF-8                 & nginx                 &  652                  & None                  &  5                    & 2157                  & 24                    & MALICIOUS            \\\\\n",
       "\t M0\\_62               & 75                    & 13                    & UTF-8                 & Apache                &  193                  & US                    &  6                    &  801                  & 10                    & MALICIOUS            \\\\\n",
       "\t M0\\_157              & 36                    & 11                    & UTF-8                 & nginx                 &  655                  & None                  &  5                    & 2227                  & 27                    & MALICIOUS            \\\\\n",
       "\t M0\\_136              & 32                    & 11                    & UTF-8                 & nginx                 &  643                  & None                  &  5                    & 2783                  & 30                    & MALICIOUS            \\\\\n",
       "\t M0\\_74               & 29                    &  7                    & US-ASCII              & Microsoft-HTTPAPI/2.0 &  324                  & UG                    &  2                    &  593                  &  7                    & MALICIOUS            \\\\\n",
       "\t M0\\_129              & 36                    & 11                    & UTF-8                 & nginx                 &  655                  & None                  &  5                    &  466                  & 11                    & MALICIOUS            \\\\\n",
       "\t M0\\_39               & 40                    & 10                    & UTF-8                 & Apache                & 3016                  & None                  &  2                    & 1285                  & 17                    & MALICIOUS            \\\\\n",
       "\t M0\\_88               & 50                    & 11                    & ISO-8859-1            & nginx/1.12.0          & 1108                  & UA                    &  2                    &  746                  &  9                    & MALICIOUS            \\\\\n",
       "\t M0\\_106              & 29                    &  7                    & ISO-8859-1            & Apache                & 7314                  & US                    &  2                    & 2934                  & 40                    & MALICIOUS            \\\\\n",
       "\t ... & ... & ... & ... & ... & ... & ... & ... & ... & ... & ...\\\\\n",
       "\t B0\\_2062             & 56                    & 10                    & UTF-8                 & None                  &    NA                 & US                    &  2                    &  432                  &  4                    & BENIGN               \\\\\n",
       "\t B0\\_2303             & 21                    &  6                    & US-ASCII              & Microsoft-HTTPAPI/2.0 &   324                 & None                  &  3                    &  618                  &  7                    & BENIGN               \\\\\n",
       "\t B0\\_2031             & 58                    &  9                    & ISO-8859-1            & nginx/1.12.0          &    NA                 & US                    &  3                    &  474                  &  5                    & BENIGN               \\\\\n",
       "\t B0\\_241              & 23                    &  6                    & UTF-8                 & None                  &    NA                 & GB                    &  6                    & 1980                  & 23                    & BENIGN               \\\\\n",
       "\t B0\\_184              & 38                    &  8                    & ISO-8859-1            & None                  &  1819                 & US                    & 11                    & 5509                  & 47                    & BENIGN               \\\\\n",
       "\t B0\\_685              & 40                    &  8                    & ISO-8859-1            & nginx                 &    NA                 & US                    &  5                    & 1615                  & 20                    & BENIGN               \\\\\n",
       "\t B0\\_964              & 78                    & 17                    & ISO-8859-1            & Apache                &    NA                 & US                    &  0                    &    0                  &  0                    & BENIGN               \\\\\n",
       "\t B0\\_1370             & 50                    & 10                    & ISO-8859-1            & Apache                & 13076                 & US                    &  0                    &    0                  &  0                    & BENIGN               \\\\\n",
       "\t B0\\_501              & 31                    &  7                    & UTF-8                 & nginx                 &    NA                 & US                    & 13                    & 2773                  & 32                    & BENIGN               \\\\\n",
       "\t B0\\_663              & 49                    & 10                    & ISO-8859-1            & nginx                 &  1505                 & US                    & 15                    & 5371                  & 49                    & BENIGN               \\\\\n",
       "\t B0\\_2015             & 32                    &  6                    & UTF-8                 & None                  &    NA                 & None                  &  2                    &  432                  &  4                    & BENIGN               \\\\\n",
       "\t B0\\_643              & 67                    & 11                    & UTF-8                 & Apache                & 26117                 & US                    &  5                    & 2381                  & 20                    & BENIGN               \\\\\n",
       "\t B0\\_923              & 49                    &  9                    & ISO-8859-1            & None                  &    NA                 & US                    &  0                    &    0                  &  0                    & BENIGN               \\\\\n",
       "\t B0\\_1353             & 27                    &  6                    & US-ASCII              & Microsoft-HTTPAPI/2.0 &   324                 & US                    &  0                    &    0                  &  0                    & BENIGN               \\\\\n",
       "\t B0\\_875              & 71                    & 15                    & US-ASCII              & Microsoft-HTTPAPI/2.0 &   324                 & TR                    &  0                    &    0                  &  0                    & BENIGN               \\\\\n",
       "\t B0\\_1026             & 50                    & 12                    & ISO-8859-1            & None                  &  1819                 & US                    &  0                    &    0                  &  0                    & BENIGN               \\\\\n",
       "\t B0\\_326              & 24                    &  7                    & ISO-8859-1            & Apache                &   318                 & None                  &  8                    & 1606                  & 25                    & BENIGN               \\\\\n",
       "\t B0\\_660              & 26                    &  6                    & UTF-8                 & cloudflare-nginx      &    NA                 & US                    &  2                    &  984                  & 11                    & BENIGN               \\\\\n",
       "\t B0\\_2061             & 28                    &  7                    & US-ASCII              & None                  &    NA                 & US                    &  3                    &  552                  &  6                    & BENIGN               \\\\\n",
       "\t B0\\_328              & 42                    &  8                    & UTF-8                 & None                  &    NA                 & US                    &  2                    & 2780                  & 32                    & BENIGN               \\\\\n",
       "\t B0\\_959              & 55                    & 11                    & US-ASCII              & Microsoft-HTTPAPI/2.0 &   324                 & AU                    &  0                    &    0                  &  0                    & BENIGN               \\\\\n",
       "\t B0\\_2251             & 74                    & 12                    & US-ASCII              & Microsoft-HTTPAPI/2.0 &   324                 & CA                    &  2                    &  486                  &  5                    & BENIGN               \\\\\n",
       "\t B0\\_155              & 39                    &  8                    & UTF-8                 & nginx                 &    NA                 & FR                    &  2                    & 1059                  & 12                    & BENIGN               \\\\\n",
       "\t B0\\_390              & 41                    &  8                    & UTF-8                 & Apache                &    NA                 & US                    &  8                    & 2657                  & 30                    & BENIGN               \\\\\n",
       "\t B0\\_2008             & 43                    &  7                    & UTF-8                 & Apache                &    NA                 & US                    &  4                    & 1110                  & 15                    & BENIGN               \\\\\n",
       "\t B0\\_1405             & 44                    &  7                    & US-ASCII              & Microsoft-HTTPAPI/2.0 &   324                 & US                    &  0                    &    0                  &  0                    & BENIGN               \\\\\n",
       "\t B0\\_2168             & 60                    & 13                    & ISO-8859-1            & None                  &  1819                 & US                    &  1                    &  202                  &  1                    & BENIGN               \\\\\n",
       "\t B0\\_306              & 46                    & 10                    & ISO-8859-1            & nginx                 &  1510                 & US                    &  6                    & 3089                  & 24                    & BENIGN               \\\\\n",
       "\t B0\\_240              & 61                    & 11                    & UTF-8                 & Apache                &  8864                 & None                  &  4                    & 3798                  & 34                    & BENIGN               \\\\\n",
       "\t B0\\_746              & 34                    &  8                    & ISO-8859-1            & nginx                 &   996                 & US                    &  2                    &  716                  & 11                    & BENIGN               \\\\\n",
       "\\end{tabular}\n"
      ],
      "text/markdown": [
       "\n",
       "| URL | URL_LENGTH | NUMBER_SPECIAL_CHARACTERS | CHARSET | SERVER | CONTENT_LENGTH | WHOIS_COUNTRY | REMOTE_IPS | APP_BYTES | APP_PACKETS | Type |\n",
       "|---|---|---|---|---|---|---|---|---|---|---|\n",
       "| M1_2                  | 45                    | 10                    | ISO-8859-1            | Apache                |   NA                  | None                  |  2                    |  531                  |  6                    | MALICIOUS             |\n",
       "| M0_105                | 50                    | 13                    | UTF-8                 | Apache                |   NA                  | CZ                    |  1                    | 3386                  | 51                    | MALICIOUS             |\n",
       "| M0_178                | 69                    | 13                    | UTF-8                 | Apache                |  194                  | US                    |  4                    |  903                  | 14                    | MALICIOUS             |\n",
       "| M0_98                 | 49                    | 13                    | UTF-8                 | Apache                |   NA                  | CZ                    |  2                    | 3571                  | 52                    | MALICIOUS             |\n",
       "| M0_146                | 48                    | 11                    | UTF-8                 | nginx                 |  640                  | None                  |  4                    | 2912                  | 31                    | MALICIOUS             |\n",
       "| M0_151                | 38                    | 11                    | UTF-8                 | nginx                 |  661                  | None                  |  5                    | 2813                  | 30                    | MALICIOUS             |\n",
       "| M0_97                 | 21                    |  7                    | ISO-8859-1            | nginx                 |  686                  | RU                    |  2                    |  603                  |  8                    | MALICIOUS             |\n",
       "| M0_153                | 43                    | 11                    | UTF-8                 | nginx                 |  673                  | None                  |  5                    | 2188                  | 24                    | MALICIOUS             |\n",
       "| M0_81                 | 49                    | 12                    | UTF-8                 | nginx/1.12.0          | 4877                  | US                    |  2                    |  811                  | 10                    | MALICIOUS             |\n",
       "| M0_83                 | 58                    | 13                    | UTF-8                 | nginx/1.12.0          | 5962                  | US                    |  2                    | 1692                  | 14                    | MALICIOUS             |\n",
       "| M0_108                | 35                    |  9                    | ISO-8859-1            | Apache                | 7314                  | None                  |  2                    | 3240                  | 45                    | MALICIOUS             |\n",
       "| M0_116                | 41                    | 13                    | UTF-8                 | nginx                 |  643                  | None                  |  3                    | 1142                  | 13                    | MALICIOUS             |\n",
       "| M0_111                | 26                    |  8                    | UTF-8                 | nginx                 |   NA                  | None                  |  2                    | 1052                  | 14                    | MALICIOUS             |\n",
       "| M0_112                | 30                    |  8                    | ISO-8859-1            | Apache                |  177                  | None                  |  2                    |  666                  |  9                    | MALICIOUS             |\n",
       "| M0_176                | 37                    | 11                    | ISO-8859-1            | Apache                |   NA                  | None                  | 10                    | 5009                  | 50                    | MALICIOUS             |\n",
       "| M0_144                | 39                    | 11                    | UTF-8                 | nginx                 |  640                  | None                  |  4                    | 1266                  | 15                    | MALICIOUS             |\n",
       "| M0_169                | 36                    |  8                    | ISO-8859-1            | cloudflare-nginx      |   NA                  | ru                    |  4                    |  372                  |  8                    | MALICIOUS             |\n",
       "| M0_123                | 35                    | 11                    | UTF-8                 | nginx                 |  652                  | None                  |  5                    | 1635                  | 21                    | MALICIOUS             |\n",
       "| M0_143                | 40                    | 13                    | UTF-8                 | nginx                 |  643                  | None                  |  4                    | 1266                  | 15                    | MALICIOUS             |\n",
       "| M0_94                 | 28                    |  7                    | US-ASCII              | Microsoft-HTTPAPI/2.0 |  324                  | US                    |  2                    |  556                  |  9                    | MALICIOUS             |\n",
       "| M0_69                 | 22                    |  7                    | US-ASCII              | Microsoft-HTTPAPI/2.0 |  324                  | US                    |  4                    |  850                  | 11                    | MALICIOUS             |\n",
       "| M0_137                | 35                    | 11                    | UTF-8                 | nginx                 |  652                  | None                  |  5                    | 2157                  | 24                    | MALICIOUS             |\n",
       "| M0_62                 | 75                    | 13                    | UTF-8                 | Apache                |  193                  | US                    |  6                    |  801                  | 10                    | MALICIOUS             |\n",
       "| M0_157                | 36                    | 11                    | UTF-8                 | nginx                 |  655                  | None                  |  5                    | 2227                  | 27                    | MALICIOUS             |\n",
       "| M0_136                | 32                    | 11                    | UTF-8                 | nginx                 |  643                  | None                  |  5                    | 2783                  | 30                    | MALICIOUS             |\n",
       "| M0_74                 | 29                    |  7                    | US-ASCII              | Microsoft-HTTPAPI/2.0 |  324                  | UG                    |  2                    |  593                  |  7                    | MALICIOUS             |\n",
       "| M0_129                | 36                    | 11                    | UTF-8                 | nginx                 |  655                  | None                  |  5                    |  466                  | 11                    | MALICIOUS             |\n",
       "| M0_39                 | 40                    | 10                    | UTF-8                 | Apache                | 3016                  | None                  |  2                    | 1285                  | 17                    | MALICIOUS             |\n",
       "| M0_88                 | 50                    | 11                    | ISO-8859-1            | nginx/1.12.0          | 1108                  | UA                    |  2                    |  746                  |  9                    | MALICIOUS             |\n",
       "| M0_106                | 29                    |  7                    | ISO-8859-1            | Apache                | 7314                  | US                    |  2                    | 2934                  | 40                    | MALICIOUS             |\n",
       "| ... | ... | ... | ... | ... | ... | ... | ... | ... | ... | ... |\n",
       "| B0_2062               | 56                    | 10                    | UTF-8                 | None                  |    NA                 | US                    |  2                    |  432                  |  4                    | BENIGN                |\n",
       "| B0_2303               | 21                    |  6                    | US-ASCII              | Microsoft-HTTPAPI/2.0 |   324                 | None                  |  3                    |  618                  |  7                    | BENIGN                |\n",
       "| B0_2031               | 58                    |  9                    | ISO-8859-1            | nginx/1.12.0          |    NA                 | US                    |  3                    |  474                  |  5                    | BENIGN                |\n",
       "| B0_241                | 23                    |  6                    | UTF-8                 | None                  |    NA                 | GB                    |  6                    | 1980                  | 23                    | BENIGN                |\n",
       "| B0_184                | 38                    |  8                    | ISO-8859-1            | None                  |  1819                 | US                    | 11                    | 5509                  | 47                    | BENIGN                |\n",
       "| B0_685                | 40                    |  8                    | ISO-8859-1            | nginx                 |    NA                 | US                    |  5                    | 1615                  | 20                    | BENIGN                |\n",
       "| B0_964                | 78                    | 17                    | ISO-8859-1            | Apache                |    NA                 | US                    |  0                    |    0                  |  0                    | BENIGN                |\n",
       "| B0_1370               | 50                    | 10                    | ISO-8859-1            | Apache                | 13076                 | US                    |  0                    |    0                  |  0                    | BENIGN                |\n",
       "| B0_501                | 31                    |  7                    | UTF-8                 | nginx                 |    NA                 | US                    | 13                    | 2773                  | 32                    | BENIGN                |\n",
       "| B0_663                | 49                    | 10                    | ISO-8859-1            | nginx                 |  1505                 | US                    | 15                    | 5371                  | 49                    | BENIGN                |\n",
       "| B0_2015               | 32                    |  6                    | UTF-8                 | None                  |    NA                 | None                  |  2                    |  432                  |  4                    | BENIGN                |\n",
       "| B0_643                | 67                    | 11                    | UTF-8                 | Apache                | 26117                 | US                    |  5                    | 2381                  | 20                    | BENIGN                |\n",
       "| B0_923                | 49                    |  9                    | ISO-8859-1            | None                  |    NA                 | US                    |  0                    |    0                  |  0                    | BENIGN                |\n",
       "| B0_1353               | 27                    |  6                    | US-ASCII              | Microsoft-HTTPAPI/2.0 |   324                 | US                    |  0                    |    0                  |  0                    | BENIGN                |\n",
       "| B0_875                | 71                    | 15                    | US-ASCII              | Microsoft-HTTPAPI/2.0 |   324                 | TR                    |  0                    |    0                  |  0                    | BENIGN                |\n",
       "| B0_1026               | 50                    | 12                    | ISO-8859-1            | None                  |  1819                 | US                    |  0                    |    0                  |  0                    | BENIGN                |\n",
       "| B0_326                | 24                    |  7                    | ISO-8859-1            | Apache                |   318                 | None                  |  8                    | 1606                  | 25                    | BENIGN                |\n",
       "| B0_660                | 26                    |  6                    | UTF-8                 | cloudflare-nginx      |    NA                 | US                    |  2                    |  984                  | 11                    | BENIGN                |\n",
       "| B0_2061               | 28                    |  7                    | US-ASCII              | None                  |    NA                 | US                    |  3                    |  552                  |  6                    | BENIGN                |\n",
       "| B0_328                | 42                    |  8                    | UTF-8                 | None                  |    NA                 | US                    |  2                    | 2780                  | 32                    | BENIGN                |\n",
       "| B0_959                | 55                    | 11                    | US-ASCII              | Microsoft-HTTPAPI/2.0 |   324                 | AU                    |  0                    |    0                  |  0                    | BENIGN                |\n",
       "| B0_2251               | 74                    | 12                    | US-ASCII              | Microsoft-HTTPAPI/2.0 |   324                 | CA                    |  2                    |  486                  |  5                    | BENIGN                |\n",
       "| B0_155                | 39                    |  8                    | UTF-8                 | nginx                 |    NA                 | FR                    |  2                    | 1059                  | 12                    | BENIGN                |\n",
       "| B0_390                | 41                    |  8                    | UTF-8                 | Apache                |    NA                 | US                    |  8                    | 2657                  | 30                    | BENIGN                |\n",
       "| B0_2008               | 43                    |  7                    | UTF-8                 | Apache                |    NA                 | US                    |  4                    | 1110                  | 15                    | BENIGN                |\n",
       "| B0_1405               | 44                    |  7                    | US-ASCII              | Microsoft-HTTPAPI/2.0 |   324                 | US                    |  0                    |    0                  |  0                    | BENIGN                |\n",
       "| B0_2168               | 60                    | 13                    | ISO-8859-1            | None                  |  1819                 | US                    |  1                    |  202                  |  1                    | BENIGN                |\n",
       "| B0_306                | 46                    | 10                    | ISO-8859-1            | nginx                 |  1510                 | US                    |  6                    | 3089                  | 24                    | BENIGN                |\n",
       "| B0_240                | 61                    | 11                    | UTF-8                 | Apache                |  8864                 | None                  |  4                    | 3798                  | 34                    | BENIGN                |\n",
       "| B0_746                | 34                    |  8                    | ISO-8859-1            | nginx                 |   996                 | US                    |  2                    |  716                  | 11                    | BENIGN                |\n",
       "\n"
      ],
      "text/plain": [
       "    URL     URL_LENGTH NUMBER_SPECIAL_CHARACTERS CHARSET   \n",
       "1   M1_2    45         10                        ISO-8859-1\n",
       "2   M0_105  50         13                        UTF-8     \n",
       "3   M0_178  69         13                        UTF-8     \n",
       "4   M0_98   49         13                        UTF-8     \n",
       "5   M0_146  48         11                        UTF-8     \n",
       "6   M0_151  38         11                        UTF-8     \n",
       "7   M0_97   21          7                        ISO-8859-1\n",
       "8   M0_153  43         11                        UTF-8     \n",
       "9   M0_81   49         12                        UTF-8     \n",
       "10  M0_83   58         13                        UTF-8     \n",
       "11  M0_108  35          9                        ISO-8859-1\n",
       "12  M0_116  41         13                        UTF-8     \n",
       "13  M0_111  26          8                        UTF-8     \n",
       "14  M0_112  30          8                        ISO-8859-1\n",
       "15  M0_176  37         11                        ISO-8859-1\n",
       "16  M0_144  39         11                        UTF-8     \n",
       "17  M0_169  36          8                        ISO-8859-1\n",
       "18  M0_123  35         11                        UTF-8     \n",
       "19  M0_143  40         13                        UTF-8     \n",
       "20  M0_94   28          7                        US-ASCII  \n",
       "21  M0_69   22          7                        US-ASCII  \n",
       "22  M0_137  35         11                        UTF-8     \n",
       "23  M0_62   75         13                        UTF-8     \n",
       "24  M0_157  36         11                        UTF-8     \n",
       "25  M0_136  32         11                        UTF-8     \n",
       "26  M0_74   29          7                        US-ASCII  \n",
       "27  M0_129  36         11                        UTF-8     \n",
       "28  M0_39   40         10                        UTF-8     \n",
       "29  M0_88   50         11                        ISO-8859-1\n",
       "30  M0_106  29          7                        ISO-8859-1\n",
       "... ...     ...        ...                       ...       \n",
       "161 B0_2062 56         10                        UTF-8     \n",
       "162 B0_2303 21          6                        US-ASCII  \n",
       "163 B0_2031 58          9                        ISO-8859-1\n",
       "164 B0_241  23          6                        UTF-8     \n",
       "165 B0_184  38          8                        ISO-8859-1\n",
       "166 B0_685  40          8                        ISO-8859-1\n",
       "167 B0_964  78         17                        ISO-8859-1\n",
       "168 B0_1370 50         10                        ISO-8859-1\n",
       "169 B0_501  31          7                        UTF-8     \n",
       "170 B0_663  49         10                        ISO-8859-1\n",
       "171 B0_2015 32          6                        UTF-8     \n",
       "172 B0_643  67         11                        UTF-8     \n",
       "173 B0_923  49          9                        ISO-8859-1\n",
       "174 B0_1353 27          6                        US-ASCII  \n",
       "175 B0_875  71         15                        US-ASCII  \n",
       "176 B0_1026 50         12                        ISO-8859-1\n",
       "177 B0_326  24          7                        ISO-8859-1\n",
       "178 B0_660  26          6                        UTF-8     \n",
       "179 B0_2061 28          7                        US-ASCII  \n",
       "180 B0_328  42          8                        UTF-8     \n",
       "181 B0_959  55         11                        US-ASCII  \n",
       "182 B0_2251 74         12                        US-ASCII  \n",
       "183 B0_155  39          8                        UTF-8     \n",
       "184 B0_390  41          8                        UTF-8     \n",
       "185 B0_2008 43          7                        UTF-8     \n",
       "186 B0_1405 44          7                        US-ASCII  \n",
       "187 B0_2168 60         13                        ISO-8859-1\n",
       "188 B0_306  46         10                        ISO-8859-1\n",
       "189 B0_240  61         11                        UTF-8     \n",
       "190 B0_746  34          8                        ISO-8859-1\n",
       "    SERVER                CONTENT_LENGTH WHOIS_COUNTRY REMOTE_IPS APP_BYTES\n",
       "1   Apache                  NA           None           2          531     \n",
       "2   Apache                  NA           CZ             1         3386     \n",
       "3   Apache                 194           US             4          903     \n",
       "4   Apache                  NA           CZ             2         3571     \n",
       "5   nginx                  640           None           4         2912     \n",
       "6   nginx                  661           None           5         2813     \n",
       "7   nginx                  686           RU             2          603     \n",
       "8   nginx                  673           None           5         2188     \n",
       "9   nginx/1.12.0          4877           US             2          811     \n",
       "10  nginx/1.12.0          5962           US             2         1692     \n",
       "11  Apache                7314           None           2         3240     \n",
       "12  nginx                  643           None           3         1142     \n",
       "13  nginx                   NA           None           2         1052     \n",
       "14  Apache                 177           None           2          666     \n",
       "15  Apache                  NA           None          10         5009     \n",
       "16  nginx                  640           None           4         1266     \n",
       "17  cloudflare-nginx        NA           ru             4          372     \n",
       "18  nginx                  652           None           5         1635     \n",
       "19  nginx                  643           None           4         1266     \n",
       "20  Microsoft-HTTPAPI/2.0  324           US             2          556     \n",
       "21  Microsoft-HTTPAPI/2.0  324           US             4          850     \n",
       "22  nginx                  652           None           5         2157     \n",
       "23  Apache                 193           US             6          801     \n",
       "24  nginx                  655           None           5         2227     \n",
       "25  nginx                  643           None           5         2783     \n",
       "26  Microsoft-HTTPAPI/2.0  324           UG             2          593     \n",
       "27  nginx                  655           None           5          466     \n",
       "28  Apache                3016           None           2         1285     \n",
       "29  nginx/1.12.0          1108           UA             2          746     \n",
       "30  Apache                7314           US             2         2934     \n",
       "... ...                   ...            ...           ...        ...      \n",
       "161 None                     NA          US             2          432     \n",
       "162 Microsoft-HTTPAPI/2.0   324          None           3          618     \n",
       "163 nginx/1.12.0             NA          US             3          474     \n",
       "164 None                     NA          GB             6         1980     \n",
       "165 None                   1819          US            11         5509     \n",
       "166 nginx                    NA          US             5         1615     \n",
       "167 Apache                   NA          US             0            0     \n",
       "168 Apache                13076          US             0            0     \n",
       "169 nginx                    NA          US            13         2773     \n",
       "170 nginx                  1505          US            15         5371     \n",
       "171 None                     NA          None           2          432     \n",
       "172 Apache                26117          US             5         2381     \n",
       "173 None                     NA          US             0            0     \n",
       "174 Microsoft-HTTPAPI/2.0   324          US             0            0     \n",
       "175 Microsoft-HTTPAPI/2.0   324          TR             0            0     \n",
       "176 None                   1819          US             0            0     \n",
       "177 Apache                  318          None           8         1606     \n",
       "178 cloudflare-nginx         NA          US             2          984     \n",
       "179 None                     NA          US             3          552     \n",
       "180 None                     NA          US             2         2780     \n",
       "181 Microsoft-HTTPAPI/2.0   324          AU             0            0     \n",
       "182 Microsoft-HTTPAPI/2.0   324          CA             2          486     \n",
       "183 nginx                    NA          FR             2         1059     \n",
       "184 Apache                   NA          US             8         2657     \n",
       "185 Apache                   NA          US             4         1110     \n",
       "186 Microsoft-HTTPAPI/2.0   324          US             0            0     \n",
       "187 None                   1819          US             1          202     \n",
       "188 nginx                  1510          US             6         3089     \n",
       "189 Apache                 8864          None           4         3798     \n",
       "190 nginx                   996          US             2          716     \n",
       "    APP_PACKETS Type     \n",
       "1    6          MALICIOUS\n",
       "2   51          MALICIOUS\n",
       "3   14          MALICIOUS\n",
       "4   52          MALICIOUS\n",
       "5   31          MALICIOUS\n",
       "6   30          MALICIOUS\n",
       "7    8          MALICIOUS\n",
       "8   24          MALICIOUS\n",
       "9   10          MALICIOUS\n",
       "10  14          MALICIOUS\n",
       "11  45          MALICIOUS\n",
       "12  13          MALICIOUS\n",
       "13  14          MALICIOUS\n",
       "14   9          MALICIOUS\n",
       "15  50          MALICIOUS\n",
       "16  15          MALICIOUS\n",
       "17   8          MALICIOUS\n",
       "18  21          MALICIOUS\n",
       "19  15          MALICIOUS\n",
       "20   9          MALICIOUS\n",
       "21  11          MALICIOUS\n",
       "22  24          MALICIOUS\n",
       "23  10          MALICIOUS\n",
       "24  27          MALICIOUS\n",
       "25  30          MALICIOUS\n",
       "26   7          MALICIOUS\n",
       "27  11          MALICIOUS\n",
       "28  17          MALICIOUS\n",
       "29   9          MALICIOUS\n",
       "30  40          MALICIOUS\n",
       "... ...         ...      \n",
       "161  4          BENIGN   \n",
       "162  7          BENIGN   \n",
       "163  5          BENIGN   \n",
       "164 23          BENIGN   \n",
       "165 47          BENIGN   \n",
       "166 20          BENIGN   \n",
       "167  0          BENIGN   \n",
       "168  0          BENIGN   \n",
       "169 32          BENIGN   \n",
       "170 49          BENIGN   \n",
       "171  4          BENIGN   \n",
       "172 20          BENIGN   \n",
       "173  0          BENIGN   \n",
       "174  0          BENIGN   \n",
       "175  0          BENIGN   \n",
       "176  0          BENIGN   \n",
       "177 25          BENIGN   \n",
       "178 11          BENIGN   \n",
       "179  6          BENIGN   \n",
       "180 32          BENIGN   \n",
       "181  0          BENIGN   \n",
       "182  5          BENIGN   \n",
       "183 12          BENIGN   \n",
       "184 30          BENIGN   \n",
       "185 15          BENIGN   \n",
       "186  0          BENIGN   \n",
       "187  1          BENIGN   \n",
       "188 24          BENIGN   \n",
       "189 34          BENIGN   \n",
       "190 11          BENIGN   "
      ]
     },
     "metadata": {},
     "output_type": "display_data"
    }
   ],
   "source": [
    "wsite"
   ]
  },
  {
   "cell_type": "code",
   "execution_count": 178,
   "metadata": {},
   "outputs": [
    {
     "data": {
      "text/html": [
       "<ol class=list-inline>\n",
       "\t<li>2</li>\n",
       "\t<li>1</li>\n",
       "\t<li>4</li>\n",
       "\t<li>2</li>\n",
       "\t<li>4</li>\n",
       "\t<li>5</li>\n",
       "\t<li>2</li>\n",
       "\t<li>5</li>\n",
       "\t<li>2</li>\n",
       "\t<li>2</li>\n",
       "\t<li>2</li>\n",
       "\t<li>3</li>\n",
       "\t<li>2</li>\n",
       "\t<li>2</li>\n",
       "\t<li>10</li>\n",
       "\t<li>4</li>\n",
       "\t<li>4</li>\n",
       "\t<li>5</li>\n",
       "\t<li>4</li>\n",
       "\t<li>2</li>\n",
       "\t<li>4</li>\n",
       "\t<li>5</li>\n",
       "\t<li>6</li>\n",
       "\t<li>5</li>\n",
       "\t<li>5</li>\n",
       "\t<li>2</li>\n",
       "\t<li>5</li>\n",
       "\t<li>2</li>\n",
       "\t<li>2</li>\n",
       "\t<li>2</li>\n",
       "\t<li>5</li>\n",
       "\t<li>5</li>\n",
       "\t<li>2</li>\n",
       "\t<li>5</li>\n",
       "\t<li>6</li>\n",
       "\t<li>4</li>\n",
       "\t<li>4</li>\n",
       "\t<li>6</li>\n",
       "\t<li>1</li>\n",
       "\t<li>5</li>\n",
       "\t<li>2</li>\n",
       "\t<li>3</li>\n",
       "\t<li>7</li>\n",
       "\t<li>12</li>\n",
       "\t<li>0</li>\n",
       "\t<li>0</li>\n",
       "\t<li>0</li>\n",
       "\t<li>0</li>\n",
       "\t<li>2</li>\n",
       "\t<li>0</li>\n",
       "\t<li>7</li>\n",
       "\t<li>0</li>\n",
       "\t<li>7</li>\n",
       "\t<li>2</li>\n",
       "\t<li>0</li>\n",
       "\t<li>2</li>\n",
       "\t<li>11</li>\n",
       "\t<li>3</li>\n",
       "\t<li>5</li>\n",
       "\t<li>0</li>\n",
       "\t<li>3</li>\n",
       "\t<li>0</li>\n",
       "\t<li>0</li>\n",
       "\t<li>3</li>\n",
       "\t<li>3</li>\n",
       "\t<li>0</li>\n",
       "\t<li>0</li>\n",
       "\t<li>0</li>\n",
       "\t<li>7</li>\n",
       "\t<li>3</li>\n",
       "\t<li>2</li>\n",
       "\t<li>2</li>\n",
       "\t<li>2</li>\n",
       "\t<li>0</li>\n",
       "\t<li>0</li>\n",
       "\t<li>1</li>\n",
       "\t<li>0</li>\n",
       "\t<li>0</li>\n",
       "\t<li>5</li>\n",
       "\t<li>0</li>\n",
       "\t<li>0</li>\n",
       "\t<li>3</li>\n",
       "\t<li>0</li>\n",
       "\t<li>0</li>\n",
       "\t<li>2</li>\n",
       "\t<li>0</li>\n",
       "\t<li>0</li>\n",
       "\t<li>1</li>\n",
       "\t<li>8</li>\n",
       "\t<li>0</li>\n",
       "\t<li>5</li>\n",
       "\t<li>0</li>\n",
       "\t<li>5</li>\n",
       "\t<li>3</li>\n",
       "\t<li>3</li>\n",
       "\t<li>6</li>\n",
       "\t<li>12</li>\n",
       "\t<li>0</li>\n",
       "\t<li>3</li>\n",
       "\t<li>0</li>\n",
       "\t<li>5</li>\n",
       "\t<li>0</li>\n",
       "\t<li>3</li>\n",
       "\t<li>0</li>\n",
       "\t<li>0</li>\n",
       "\t<li>2</li>\n",
       "\t<li>0</li>\n",
       "\t<li>0</li>\n",
       "\t<li>5</li>\n",
       "\t<li>0</li>\n",
       "\t<li>0</li>\n",
       "\t<li>9</li>\n",
       "\t<li>9</li>\n",
       "\t<li>4</li>\n",
       "\t<li>6</li>\n",
       "\t<li>0</li>\n",
       "\t<li>6</li>\n",
       "\t<li>0</li>\n",
       "\t<li>0</li>\n",
       "\t<li>0</li>\n",
       "\t<li>4</li>\n",
       "\t<li>4</li>\n",
       "\t<li>0</li>\n",
       "\t<li>2</li>\n",
       "\t<li>2</li>\n",
       "\t<li>6</li>\n",
       "\t<li>5</li>\n",
       "\t<li>0</li>\n",
       "\t<li>3</li>\n",
       "\t<li>9</li>\n",
       "\t<li>0</li>\n",
       "\t<li>3</li>\n",
       "\t<li>5</li>\n",
       "\t<li>9</li>\n",
       "\t<li>3</li>\n",
       "\t<li>0</li>\n",
       "\t<li>16</li>\n",
       "\t<li>0</li>\n",
       "\t<li>0</li>\n",
       "\t<li>0</li>\n",
       "\t<li>5</li>\n",
       "\t<li>0</li>\n",
       "\t<li>7</li>\n",
       "\t<li>0</li>\n",
       "\t<li>0</li>\n",
       "\t<li>5</li>\n",
       "\t<li>0</li>\n",
       "\t<li>3</li>\n",
       "\t<li>0</li>\n",
       "\t<li>0</li>\n",
       "\t<li>7</li>\n",
       "\t<li>3</li>\n",
       "\t<li>12</li>\n",
       "\t<li>0</li>\n",
       "\t<li>12</li>\n",
       "\t<li>9</li>\n",
       "\t<li>0</li>\n",
       "\t<li>4</li>\n",
       "\t<li>8</li>\n",
       "\t<li>8</li>\n",
       "\t<li>2</li>\n",
       "\t<li>3</li>\n",
       "\t<li>3</li>\n",
       "\t<li>6</li>\n",
       "\t<li>11</li>\n",
       "\t<li>5</li>\n",
       "\t<li>0</li>\n",
       "\t<li>0</li>\n",
       "\t<li>13</li>\n",
       "\t<li>15</li>\n",
       "\t<li>2</li>\n",
       "\t<li>5</li>\n",
       "\t<li>0</li>\n",
       "\t<li>0</li>\n",
       "\t<li>0</li>\n",
       "\t<li>0</li>\n",
       "\t<li>8</li>\n",
       "\t<li>2</li>\n",
       "\t<li>3</li>\n",
       "\t<li>2</li>\n",
       "\t<li>0</li>\n",
       "\t<li>2</li>\n",
       "\t<li>2</li>\n",
       "\t<li>8</li>\n",
       "\t<li>4</li>\n",
       "\t<li>0</li>\n",
       "\t<li>1</li>\n",
       "\t<li>6</li>\n",
       "\t<li>4</li>\n",
       "\t<li>2</li>\n",
       "</ol>\n"
      ],
      "text/latex": [
       "\\begin{enumerate*}\n",
       "\\item 2\n",
       "\\item 1\n",
       "\\item 4\n",
       "\\item 2\n",
       "\\item 4\n",
       "\\item 5\n",
       "\\item 2\n",
       "\\item 5\n",
       "\\item 2\n",
       "\\item 2\n",
       "\\item 2\n",
       "\\item 3\n",
       "\\item 2\n",
       "\\item 2\n",
       "\\item 10\n",
       "\\item 4\n",
       "\\item 4\n",
       "\\item 5\n",
       "\\item 4\n",
       "\\item 2\n",
       "\\item 4\n",
       "\\item 5\n",
       "\\item 6\n",
       "\\item 5\n",
       "\\item 5\n",
       "\\item 2\n",
       "\\item 5\n",
       "\\item 2\n",
       "\\item 2\n",
       "\\item 2\n",
       "\\item 5\n",
       "\\item 5\n",
       "\\item 2\n",
       "\\item 5\n",
       "\\item 6\n",
       "\\item 4\n",
       "\\item 4\n",
       "\\item 6\n",
       "\\item 1\n",
       "\\item 5\n",
       "\\item 2\n",
       "\\item 3\n",
       "\\item 7\n",
       "\\item 12\n",
       "\\item 0\n",
       "\\item 0\n",
       "\\item 0\n",
       "\\item 0\n",
       "\\item 2\n",
       "\\item 0\n",
       "\\item 7\n",
       "\\item 0\n",
       "\\item 7\n",
       "\\item 2\n",
       "\\item 0\n",
       "\\item 2\n",
       "\\item 11\n",
       "\\item 3\n",
       "\\item 5\n",
       "\\item 0\n",
       "\\item 3\n",
       "\\item 0\n",
       "\\item 0\n",
       "\\item 3\n",
       "\\item 3\n",
       "\\item 0\n",
       "\\item 0\n",
       "\\item 0\n",
       "\\item 7\n",
       "\\item 3\n",
       "\\item 2\n",
       "\\item 2\n",
       "\\item 2\n",
       "\\item 0\n",
       "\\item 0\n",
       "\\item 1\n",
       "\\item 0\n",
       "\\item 0\n",
       "\\item 5\n",
       "\\item 0\n",
       "\\item 0\n",
       "\\item 3\n",
       "\\item 0\n",
       "\\item 0\n",
       "\\item 2\n",
       "\\item 0\n",
       "\\item 0\n",
       "\\item 1\n",
       "\\item 8\n",
       "\\item 0\n",
       "\\item 5\n",
       "\\item 0\n",
       "\\item 5\n",
       "\\item 3\n",
       "\\item 3\n",
       "\\item 6\n",
       "\\item 12\n",
       "\\item 0\n",
       "\\item 3\n",
       "\\item 0\n",
       "\\item 5\n",
       "\\item 0\n",
       "\\item 3\n",
       "\\item 0\n",
       "\\item 0\n",
       "\\item 2\n",
       "\\item 0\n",
       "\\item 0\n",
       "\\item 5\n",
       "\\item 0\n",
       "\\item 0\n",
       "\\item 9\n",
       "\\item 9\n",
       "\\item 4\n",
       "\\item 6\n",
       "\\item 0\n",
       "\\item 6\n",
       "\\item 0\n",
       "\\item 0\n",
       "\\item 0\n",
       "\\item 4\n",
       "\\item 4\n",
       "\\item 0\n",
       "\\item 2\n",
       "\\item 2\n",
       "\\item 6\n",
       "\\item 5\n",
       "\\item 0\n",
       "\\item 3\n",
       "\\item 9\n",
       "\\item 0\n",
       "\\item 3\n",
       "\\item 5\n",
       "\\item 9\n",
       "\\item 3\n",
       "\\item 0\n",
       "\\item 16\n",
       "\\item 0\n",
       "\\item 0\n",
       "\\item 0\n",
       "\\item 5\n",
       "\\item 0\n",
       "\\item 7\n",
       "\\item 0\n",
       "\\item 0\n",
       "\\item 5\n",
       "\\item 0\n",
       "\\item 3\n",
       "\\item 0\n",
       "\\item 0\n",
       "\\item 7\n",
       "\\item 3\n",
       "\\item 12\n",
       "\\item 0\n",
       "\\item 12\n",
       "\\item 9\n",
       "\\item 0\n",
       "\\item 4\n",
       "\\item 8\n",
       "\\item 8\n",
       "\\item 2\n",
       "\\item 3\n",
       "\\item 3\n",
       "\\item 6\n",
       "\\item 11\n",
       "\\item 5\n",
       "\\item 0\n",
       "\\item 0\n",
       "\\item 13\n",
       "\\item 15\n",
       "\\item 2\n",
       "\\item 5\n",
       "\\item 0\n",
       "\\item 0\n",
       "\\item 0\n",
       "\\item 0\n",
       "\\item 8\n",
       "\\item 2\n",
       "\\item 3\n",
       "\\item 2\n",
       "\\item 0\n",
       "\\item 2\n",
       "\\item 2\n",
       "\\item 8\n",
       "\\item 4\n",
       "\\item 0\n",
       "\\item 1\n",
       "\\item 6\n",
       "\\item 4\n",
       "\\item 2\n",
       "\\end{enumerate*}\n"
      ],
      "text/markdown": [
       "1. 2\n",
       "2. 1\n",
       "3. 4\n",
       "4. 2\n",
       "5. 4\n",
       "6. 5\n",
       "7. 2\n",
       "8. 5\n",
       "9. 2\n",
       "10. 2\n",
       "11. 2\n",
       "12. 3\n",
       "13. 2\n",
       "14. 2\n",
       "15. 10\n",
       "16. 4\n",
       "17. 4\n",
       "18. 5\n",
       "19. 4\n",
       "20. 2\n",
       "21. 4\n",
       "22. 5\n",
       "23. 6\n",
       "24. 5\n",
       "25. 5\n",
       "26. 2\n",
       "27. 5\n",
       "28. 2\n",
       "29. 2\n",
       "30. 2\n",
       "31. 5\n",
       "32. 5\n",
       "33. 2\n",
       "34. 5\n",
       "35. 6\n",
       "36. 4\n",
       "37. 4\n",
       "38. 6\n",
       "39. 1\n",
       "40. 5\n",
       "41. 2\n",
       "42. 3\n",
       "43. 7\n",
       "44. 12\n",
       "45. 0\n",
       "46. 0\n",
       "47. 0\n",
       "48. 0\n",
       "49. 2\n",
       "50. 0\n",
       "51. 7\n",
       "52. 0\n",
       "53. 7\n",
       "54. 2\n",
       "55. 0\n",
       "56. 2\n",
       "57. 11\n",
       "58. 3\n",
       "59. 5\n",
       "60. 0\n",
       "61. 3\n",
       "62. 0\n",
       "63. 0\n",
       "64. 3\n",
       "65. 3\n",
       "66. 0\n",
       "67. 0\n",
       "68. 0\n",
       "69. 7\n",
       "70. 3\n",
       "71. 2\n",
       "72. 2\n",
       "73. 2\n",
       "74. 0\n",
       "75. 0\n",
       "76. 1\n",
       "77. 0\n",
       "78. 0\n",
       "79. 5\n",
       "80. 0\n",
       "81. 0\n",
       "82. 3\n",
       "83. 0\n",
       "84. 0\n",
       "85. 2\n",
       "86. 0\n",
       "87. 0\n",
       "88. 1\n",
       "89. 8\n",
       "90. 0\n",
       "91. 5\n",
       "92. 0\n",
       "93. 5\n",
       "94. 3\n",
       "95. 3\n",
       "96. 6\n",
       "97. 12\n",
       "98. 0\n",
       "99. 3\n",
       "100. 0\n",
       "101. 5\n",
       "102. 0\n",
       "103. 3\n",
       "104. 0\n",
       "105. 0\n",
       "106. 2\n",
       "107. 0\n",
       "108. 0\n",
       "109. 5\n",
       "110. 0\n",
       "111. 0\n",
       "112. 9\n",
       "113. 9\n",
       "114. 4\n",
       "115. 6\n",
       "116. 0\n",
       "117. 6\n",
       "118. 0\n",
       "119. 0\n",
       "120. 0\n",
       "121. 4\n",
       "122. 4\n",
       "123. 0\n",
       "124. 2\n",
       "125. 2\n",
       "126. 6\n",
       "127. 5\n",
       "128. 0\n",
       "129. 3\n",
       "130. 9\n",
       "131. 0\n",
       "132. 3\n",
       "133. 5\n",
       "134. 9\n",
       "135. 3\n",
       "136. 0\n",
       "137. 16\n",
       "138. 0\n",
       "139. 0\n",
       "140. 0\n",
       "141. 5\n",
       "142. 0\n",
       "143. 7\n",
       "144. 0\n",
       "145. 0\n",
       "146. 5\n",
       "147. 0\n",
       "148. 3\n",
       "149. 0\n",
       "150. 0\n",
       "151. 7\n",
       "152. 3\n",
       "153. 12\n",
       "154. 0\n",
       "155. 12\n",
       "156. 9\n",
       "157. 0\n",
       "158. 4\n",
       "159. 8\n",
       "160. 8\n",
       "161. 2\n",
       "162. 3\n",
       "163. 3\n",
       "164. 6\n",
       "165. 11\n",
       "166. 5\n",
       "167. 0\n",
       "168. 0\n",
       "169. 13\n",
       "170. 15\n",
       "171. 2\n",
       "172. 5\n",
       "173. 0\n",
       "174. 0\n",
       "175. 0\n",
       "176. 0\n",
       "177. 8\n",
       "178. 2\n",
       "179. 3\n",
       "180. 2\n",
       "181. 0\n",
       "182. 2\n",
       "183. 2\n",
       "184. 8\n",
       "185. 4\n",
       "186. 0\n",
       "187. 1\n",
       "188. 6\n",
       "189. 4\n",
       "190. 2\n",
       "\n",
       "\n"
      ],
      "text/plain": [
       "  [1]  2  1  4  2  4  5  2  5  2  2  2  3  2  2 10  4  4  5  4  2  4  5  6  5  5\n",
       " [26]  2  5  2  2  2  5  5  2  5  6  4  4  6  1  5  2  3  7 12  0  0  0  0  2  0\n",
       " [51]  7  0  7  2  0  2 11  3  5  0  3  0  0  3  3  0  0  0  7  3  2  2  2  0  0\n",
       " [76]  1  0  0  5  0  0  3  0  0  2  0  0  1  8  0  5  0  5  3  3  6 12  0  3  0\n",
       "[101]  5  0  3  0  0  2  0  0  5  0  0  9  9  4  6  0  6  0  0  0  4  4  0  2  2\n",
       "[126]  6  5  0  3  9  0  3  5  9  3  0 16  0  0  0  5  0  7  0  0  5  0  3  0  0\n",
       "[151]  7  3 12  0 12  9  0  4  8  8  2  3  3  6 11  5  0  0 13 15  2  5  0  0  0\n",
       "[176]  0  8  2  3  2  0  2  2  8  4  0  1  6  4  2"
      ]
     },
     "metadata": {},
     "output_type": "display_data"
    }
   ],
   "source": [
    "wsite$REMOTE_IPS"
   ]
  },
  {
   "cell_type": "code",
   "execution_count": 31,
   "metadata": {},
   "outputs": [
    {
     "data": {
      "image/png": "[encoded data removed]",
      "text/plain": [
       "Plot with title \"Distribution plot of Remote_IPS\""
      ]
     },
     "metadata": {},
     "output_type": "display_data"
    }
   ],
   "source": [
    "#A plot showing the distribution of values for REMOTE_IPS\n",
    "plot(density(wsite$REMOTE_IPS), main=\"Distribution plot of Remote_IPS\")\n",
    "polygon(density(wsite$REMOTE_IPS), col=\"red\", border=\"blue\")"
   ]
  },
  {
   "cell_type": "markdown",
   "metadata": {},
   "source": [
    "* From the figure, the distribution is not normal\n",
    "* 0 is the  most frequent value\n",
    "* 2 is the second most frequent value"
   ]
  },
  {
   "cell_type": "code",
   "execution_count": 30,
   "metadata": {},
   "outputs": [
    {
     "data": {
      "image/png": "[encoded data removed]",
      "text/plain": [
       "Plot with title \"Boxplotof URL_LENGTH by Type of website\""
      ]
     },
     "metadata": {},
     "output_type": "display_data"
    }
   ],
   "source": [
    "#Boxplot of URL_LENGTH by Type of website. \n",
    "boxplot(split(wsite$URL_LENGTH,wsite$Type),main='Boxplotof URL_LENGTH by Type of website')"
   ]
  },
  {
   "cell_type": "markdown",
   "metadata": {},
   "source": [
    "* The malicious type had outliers\n",
    "* 26th value BENIGN  <-- 18\n",
    "* 26th value MALICIOUS  <-- 22"
   ]
  },
  {
   "cell_type": "code",
   "execution_count": 34,
   "metadata": {},
   "outputs": [
    {
     "data": {
      "image/png": "[encoded data removed]",
      "text/plain": [
       "plot without title"
      ]
     },
     "metadata": {},
     "output_type": "display_data"
    }
   ],
   "source": [
    "#A scatterplot of number of app packets.\n",
    "with(wsite,plot(APP_PACKETS))"
   ]
  },
  {
   "cell_type": "markdown",
   "metadata": {},
   "source": []
  },
  {
   "cell_type": "markdown",
   "metadata": {},
   "source": [
    "## A scatterplot of the number of app packets vs the app bytes according to type."
   ]
  },
  {
   "cell_type": "code",
   "execution_count": 37,
   "metadata": {},
   "outputs": [
    {
     "data": {
      "text/html": [
       "'numeric'"
      ],
      "text/latex": [
       "'numeric'"
      ],
      "text/markdown": [
       "'numeric'"
      ],
      "text/plain": [
       "[1] \"numeric\""
      ]
     },
     "metadata": {},
     "output_type": "display_data"
    }
   ],
   "source": [
    "mode(wsite$Type)"
   ]
  },
  {
   "cell_type": "code",
   "execution_count": 38,
   "metadata": {},
   "outputs": [],
   "source": [
    "wsite$Type = factor(wsite$Type)\n"
   ]
  },
  {
   "cell_type": "code",
   "execution_count": 39,
   "metadata": {},
   "outputs": [
    {
     "data": {
      "text/html": [
       "'numeric'"
      ],
      "text/latex": [
       "'numeric'"
      ],
      "text/markdown": [
       "'numeric'"
      ],
      "text/plain": [
       "[1] \"numeric\""
      ]
     },
     "metadata": {},
     "output_type": "display_data"
    }
   ],
   "source": [
    "mode(wsite$Type)"
   ]
  },
  {
   "cell_type": "code",
   "execution_count": 41,
   "metadata": {},
   "outputs": [
    {
     "data": {
      "text/html": [
       "<ol class=list-inline>\n",
       "\t<li>'BENIGN'</li>\n",
       "\t<li>'MALICIOUS'</li>\n",
       "</ol>\n"
      ],
      "text/latex": [
       "\\begin{enumerate*}\n",
       "\\item 'BENIGN'\n",
       "\\item 'MALICIOUS'\n",
       "\\end{enumerate*}\n"
      ],
      "text/markdown": [
       "1. 'BENIGN'\n",
       "2. 'MALICIOUS'\n",
       "\n",
       "\n"
      ],
      "text/plain": [
       "[1] \"BENIGN\"    \"MALICIOUS\""
      ]
     },
     "metadata": {},
     "output_type": "display_data"
    }
   ],
   "source": [
    "levels(wsite$Type)"
   ]
  },
  {
   "cell_type": "code",
   "execution_count": 42,
   "metadata": {},
   "outputs": [],
   "source": [
    "# There are 2 levels. The first step is to create a vector of color values:\n",
    "mycolors = c('red','blue')"
   ]
  },
  {
   "cell_type": "code",
   "execution_count": 45,
   "metadata": {},
   "outputs": [
    {
     "data": {
      "image/png": "[encoded data removed]",
      "text/plain": [
       "Plot with title \"scatterplot of the number of app packets vs the app bytes according\n",
       "to type \""
      ]
     },
     "metadata": {},
     "output_type": "display_data"
    }
   ],
   "source": [
    "with(wsite,plot(APP_PACKETS,APP_BYTES,col=mycolors[Type]))\n",
    "with(wsite,legend('topleft',legend=levels(Type),col=mycolors,pch=1,title='Type'))\n",
    "title('scatterplot of the number of app packets vs the app bytes according\n",
    "to type ')"
   ]
  },
  {
   "cell_type": "markdown",
   "metadata": {},
   "source": [
    "From the plot, it can be deduced that there is a correlation between APP_BYTES and APP_PACKETS"
   ]
  },
  {
   "cell_type": "markdown",
   "metadata": {},
   "source": [
    "## A pie chart of CHARSET showing both counts and percentages."
   ]
  },
  {
   "cell_type": "code",
   "execution_count": 190,
   "metadata": {},
   "outputs": [
    {
     "data": {
      "text/html": [
       "<table>\n",
       "<thead><tr><th scope=col>CHARSET</th><th scope=col>freq</th></tr></thead>\n",
       "<tbody>\n",
       "\t<tr><td>ISO-8859-1</td><td>81        </td></tr>\n",
       "\t<tr><td>US-ASCII  </td><td>26        </td></tr>\n",
       "\t<tr><td>UTF-8     </td><td>83        </td></tr>\n",
       "</tbody>\n",
       "</table>\n"
      ],
      "text/latex": [
       "\\begin{tabular}{r|ll}\n",
       " CHARSET & freq\\\\\n",
       "\\hline\n",
       "\t ISO-8859-1 & 81        \\\\\n",
       "\t US-ASCII   & 26        \\\\\n",
       "\t UTF-8      & 83        \\\\\n",
       "\\end{tabular}\n"
      ],
      "text/markdown": [
       "\n",
       "| CHARSET | freq |\n",
       "|---|---|\n",
       "| ISO-8859-1 | 81         |\n",
       "| US-ASCII   | 26         |\n",
       "| UTF-8      | 83         |\n",
       "\n"
      ],
      "text/plain": [
       "  CHARSET    freq\n",
       "1 ISO-8859-1 81  \n",
       "2 US-ASCII   26  \n",
       "3 UTF-8      83  "
      ]
     },
     "metadata": {},
     "output_type": "display_data"
    }
   ],
   "source": [
    "library(\"plyr\")\n",
    "count_u<-count(wsite, 'CHARSET')\n",
    "count_u\n"
   ]
  },
  {
   "cell_type": "code",
   "execution_count": 191,
   "metadata": {},
   "outputs": [],
   "source": [
    "label<-count_u$CHARSET\n"
   ]
  },
  {
   "cell_type": "code",
   "execution_count": 193,
   "metadata": {},
   "outputs": [
    {
     "data": {
      "image/png": "[encoded data removed]",
      "text/plain": [
       "Plot with title \"Pie Chart of Countries\""
      ]
     },
     "metadata": {},
     "output_type": "display_data"
    }
   ],
   "source": [
    "slices<-count_u$freq\n",
    "pct <- round(slices/sum(slices)*100)\n",
    "lbls <- paste(label, pct) # add percents to labels\n",
    "lbls <- paste(lbls,\"%\",sep=\"\") # ad % to labels\n",
    "pie(slices,labels = lbls, col=rainbow(length(lbls)),\n",
    "   main=\"Pie Chart of Countries\")"
   ]
  },
  {
   "cell_type": "code",
   "execution_count": 194,
   "metadata": {
    "scrolled": true
   },
   "outputs": [
    {
     "data": {
      "image/png": "[encoded data removed]",
      "text/plain": [
       "Plot with title \"Pie Chart of Countries\""
      ]
     },
     "metadata": {},
     "output_type": "display_data"
    }
   ],
   "source": [
    "slices<-count_u$freq\n",
    "lbls <- paste(label, slices) # add count to labels\n",
    "pie(slices,label=lbls, col=rainbow(length(lbls)),\n",
    "   main=\"Pie Chart of Countries\")"
   ]
  },
  {
   "cell_type": "markdown",
   "metadata": {},
   "source": [
    "US-ASCII has the lowest frequency in the data distribution while UTF-8 had the highest"
   ]
  },
  {
   "cell_type": "markdown",
   "metadata": {},
   "source": [
    "## A bar chart showing the frequency of each value in CHARSET according to the Type of website."
   ]
  },
  {
   "cell_type": "code",
   "execution_count": 183,
   "metadata": {},
   "outputs": [
    {
     "data": {
      "image/png": "[encoded data removed]",
      "text/plain": [
       "Plot with title \"CHARSET Distribution\""
      ]
     },
     "metadata": {},
     "output_type": "display_data"
    }
   ],
   "source": [
    "counts <- table(wsite$Type,wsite$CHARSET)\n",
    "barplot(counts, main=\"CHARSET Distribution\",\n",
    "   xlab=\"Number of Occurence\",col=c(\"darkblue\",\"red\"),\n",
    "  legend = rownames(counts))\n"
   ]
  },
  {
   "cell_type": "markdown",
   "metadata": {},
   "source": [
    "* This plot shows a similar distribution to the pie chart with the added informtion of the type of website. \n",
    "* It shows there is a larger representation of maliious website in the data"
   ]
  },
  {
   "cell_type": "markdown",
   "metadata": {},
   "source": [
    "## SECTION 2: TABLES & MEASURES – WSITES DATASET\n"
   ]
  },
  {
   "cell_type": "markdown",
   "metadata": {},
   "source": [
    "# A one-way table of frequencies (counts) and cumulative frequencies for WHOIS_COUNTRY. What country appears most times?"
   ]
  },
  {
   "cell_type": "code",
   "execution_count": 87,
   "metadata": {},
   "outputs": [
    {
     "data": {
      "text/html": [
       "<table>\n",
       "<thead><tr><th scope=col>WHOIS_COUNTRY</th><th scope=col>freq</th><th scope=col>cumFreq</th></tr></thead>\n",
       "<tbody>\n",
       "\t<tr><td>AU  </td><td>  3 </td><td>  3 </td></tr>\n",
       "\t<tr><td>BE  </td><td>  1 </td><td>  4 </td></tr>\n",
       "\t<tr><td>CA  </td><td>  7 </td><td> 11 </td></tr>\n",
       "\t<tr><td>CZ  </td><td>  3 </td><td> 14 </td></tr>\n",
       "\t<tr><td>ES  </td><td>  1 </td><td> 15 </td></tr>\n",
       "\t<tr><td>FR  </td><td>  1 </td><td> 16 </td></tr>\n",
       "\t<tr><td>GB  </td><td>  5 </td><td> 21 </td></tr>\n",
       "\t<tr><td>IL  </td><td>  1 </td><td> 22 </td></tr>\n",
       "\t<tr><td>None</td><td> 51 </td><td> 73 </td></tr>\n",
       "\t<tr><td>PA  </td><td>  2 </td><td> 75 </td></tr>\n",
       "\t<tr><td>ru  </td><td>  1 </td><td> 76 </td></tr>\n",
       "\t<tr><td>RU  </td><td>  1 </td><td> 77 </td></tr>\n",
       "\t<tr><td>se  </td><td>  1 </td><td> 78 </td></tr>\n",
       "\t<tr><td>SE  </td><td>  1 </td><td> 79 </td></tr>\n",
       "\t<tr><td>TR  </td><td>  1 </td><td> 80 </td></tr>\n",
       "\t<tr><td>UA  </td><td>  1 </td><td> 81 </td></tr>\n",
       "\t<tr><td>UG  </td><td>  1 </td><td> 82 </td></tr>\n",
       "\t<tr><td>UK  </td><td>  1 </td><td> 83 </td></tr>\n",
       "\t<tr><td>US  </td><td>107 </td><td>190 </td></tr>\n",
       "</tbody>\n",
       "</table>\n"
      ],
      "text/latex": [
       "\\begin{tabular}{r|lll}\n",
       " WHOIS\\_COUNTRY & freq & cumFreq\\\\\n",
       "\\hline\n",
       "\t AU   &   3  &   3 \\\\\n",
       "\t BE   &   1  &   4 \\\\\n",
       "\t CA   &   7  &  11 \\\\\n",
       "\t CZ   &   3  &  14 \\\\\n",
       "\t ES   &   1  &  15 \\\\\n",
       "\t FR   &   1  &  16 \\\\\n",
       "\t GB   &   5  &  21 \\\\\n",
       "\t IL   &   1  &  22 \\\\\n",
       "\t None &  51  &  73 \\\\\n",
       "\t PA   &   2  &  75 \\\\\n",
       "\t ru   &   1  &  76 \\\\\n",
       "\t RU   &   1  &  77 \\\\\n",
       "\t se   &   1  &  78 \\\\\n",
       "\t SE   &   1  &  79 \\\\\n",
       "\t TR   &   1  &  80 \\\\\n",
       "\t UA   &   1  &  81 \\\\\n",
       "\t UG   &   1  &  82 \\\\\n",
       "\t UK   &   1  &  83 \\\\\n",
       "\t US   & 107  & 190 \\\\\n",
       "\\end{tabular}\n"
      ],
      "text/markdown": [
       "\n",
       "| WHOIS_COUNTRY | freq | cumFreq |\n",
       "|---|---|---|\n",
       "| AU   |   3  |   3  |\n",
       "| BE   |   1  |   4  |\n",
       "| CA   |   7  |  11  |\n",
       "| CZ   |   3  |  14  |\n",
       "| ES   |   1  |  15  |\n",
       "| FR   |   1  |  16  |\n",
       "| GB   |   5  |  21  |\n",
       "| IL   |   1  |  22  |\n",
       "| None |  51  |  73  |\n",
       "| PA   |   2  |  75  |\n",
       "| ru   |   1  |  76  |\n",
       "| RU   |   1  |  77  |\n",
       "| se   |   1  |  78  |\n",
       "| SE   |   1  |  79  |\n",
       "| TR   |   1  |  80  |\n",
       "| UA   |   1  |  81  |\n",
       "| UG   |   1  |  82  |\n",
       "| UK   |   1  |  83  |\n",
       "| US   | 107  | 190  |\n",
       "\n"
      ],
      "text/plain": [
       "   WHOIS_COUNTRY freq cumFreq\n",
       "1  AU              3    3    \n",
       "2  BE              1    4    \n",
       "3  CA              7   11    \n",
       "4  CZ              3   14    \n",
       "5  ES              1   15    \n",
       "6  FR              1   16    \n",
       "7  GB              5   21    \n",
       "8  IL              1   22    \n",
       "9  None           51   73    \n",
       "10 PA              2   75    \n",
       "11 ru              1   76    \n",
       "12 RU              1   77    \n",
       "13 se              1   78    \n",
       "14 SE              1   79    \n",
       "15 TR              1   80    \n",
       "16 UA              1   81    \n",
       "17 UG              1   82    \n",
       "18 UK              1   83    \n",
       "19 US            107  190    "
      ]
     },
     "metadata": {},
     "output_type": "display_data"
    }
   ],
   "source": [
    "\n",
    "count_wh<-count(wsite, 'WHOIS_COUNTRY')\n",
    "count_wh <- transform(count_wh, cumFreq = cumsum(freq))\n",
    "count_wh"
   ]
  },
  {
   "cell_type": "markdown",
   "metadata": {},
   "source": [
    "* US appeared most times"
   ]
  },
  {
   "cell_type": "markdown",
   "metadata": {},
   "source": [
    "## A two-way table of Type (in rows) and CHARSET (in columns) showing frequencies. What is the number of benign websites using UTF-8?"
   ]
  },
  {
   "cell_type": "code",
   "execution_count": 95,
   "metadata": {},
   "outputs": [
    {
     "data": {
      "text/html": [
       "<!doctype html>\n",
       "<html>\n",
       "\t<head>\n",
       "\t\t<meta charset=\"utf-8\">\n",
       "\t\t<script title=\"htmlwidgets\" src=\"data:application/javascript;base64,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\"></script>\n",
       "\n",
       "<script title=\"pivottabler-binding\" src=\"data:application/javascript;base64,SFRNTFdpZGdldHMud2lkZ2V0KHsNCg0KICBuYW1lOiAicGl2b3R0YWJsZXIiLA0KDQogIHR5cGU6ICJvdXRwdXQiLA0KDQogIGZhY3Rvcnk6IGZ1bmN0aW9uKGVsLCB3aWR0aCwgaGVpZ2h0KSB7DQoNCiAgICB2YXIgcGl2b3RFbGVtZW50ID0gZWw7DQogICAgdmFyIGluaXRpYWxpc2VkID0gZmFsc2U7DQoNCiAgICByZXR1cm4gew0KICAgICAgcmVuZGVyVmFsdWU6IGZ1bmN0aW9uKHdpZGdldERhdGEpIHsNCg0KICAgICAgICBpZighaW5pdGlhbGlzZWQpIHsNCiAgICAgICAgICBpZih3aWRnZXREYXRhLnRhYmxlQ3NzICE9PSBudWxsKSB7DQogICAgICAgICAgICBkb2NIZWFkID0gZG9jdW1lbnQuaGVhZCB8fCBkb2N1bWVudC5nZXRFbGVtZW50c0J5VGFnTmFtZSgiaGVhZCIpWzBdOw0KICAgICAgICAgICAgdmFyIHN0eWxlcyA9IGRvY3VtZW50LmNyZWF0ZUVsZW1lbnQoInN0eWxlIik7DQogICAgICAgICAgICBzdHlsZXMuaW5uZXJIVE1MID0gd2lkZ2V0RGF0YS50YWJsZUNzczsNCiAgICAgICAgICAgIGRvY0hlYWQuYXBwZW5kQ2hpbGQoc3R5bGVzKTsNCiAgICAgICAgICB9DQogICAgICAgICAgaW5pdGlhbGlzZWQgPSB0cnVlOw0KICAgICAgICB9DQogICAgICAgIHBpdm90RWxlbWVudC5pbm5lckhUTUwgPSB3aWRnZXREYXRhLnRhYmxlSHRtbDsNCiAgICAgIH0sDQoNCiAgICAgIHJlc2l6ZTogZnVuY3Rpb24od2lkdGgsIGhlaWdodCkgew0KICAgICAgfSwNCg0KICAgIH07DQogIH0NCn0pOw0K\"></script>\n",
       "\t</head>\n",
       "\t<body>\n",
       "\t\t<div id=\"htmlwidget-ec22ff21a07965d14f29\" style=\"width:960px;height:500px;\" class=\"pivottabler html-widget\"></div>\n",
       "<script type=\"application/json\" data-for=\"htmlwidget-ec22ff21a07965d14f29\">{\"x\":{\"tableCss\":\".Table {display: table; border-collapse: collapse; }\\r\\n.ColumnHeader {font-family: Arial; font-size: 0.75em; border: 1px solid lightgray; vertical-align: middle; font-weight: bold; background-color: #F2F2F2; padding: 2px; text-align: center; }\\r\\n.RowHeader {font-family: Arial; font-size: 0.75em; border: 1px solid lightgray; vertical-align: middle; font-weight: bold; background-color: #F2F2F2; padding: 2px 8px 2px 2px; text-align: left; }\\r\\n.Cell {font-family: Arial; font-size: 0.75em; padding: 2px 2px 2px 8px; border: 1px solid lightgray; vertical-align: middle; text-align: right; }\\r\\n.OutlineColumnHeader {font-family: Arial; font-size: 0.75em; border: 1px solid lightgray; vertical-align: middle; font-weight: bold; background-color: #F2F2F2; padding: 2px; text-align: center; }\\r\\n.OutlineRowHeader {font-family: Arial; font-size: 0.75em; border: 1px solid lightgray; vertical-align: middle; font-weight: bold; background-color: #F2F2F2; padding: 2px 8px 2px 2px; text-align: left; }\\r\\n.OutlineCell {font-family: Arial; font-size: 0.75em; padding: 2px 2px 2px 8px; border: 1px solid lightgray; vertical-align: middle; text-align: right; background-color: #F8F8F8; font-weight: bold; }\\r\\n.Total {font-family: Arial; font-size: 0.75em; padding: 2px 2px 2px 8px; border: 1px solid lightgray; vertical-align: middle; text-align: right; }\\r\\n\",\"tableHtml\":\"<table class=\\\"Table\\\">\\n  <tr>\\n    <th class=\\\"RowHeader\\\">&nbsp;<\\/th>\\n    <th class=\\\"ColumnHeader\\\">ISO-8859-1<\\/th>\\n    <th class=\\\"ColumnHeader\\\">US-ASCII<\\/th>\\n    <th class=\\\"ColumnHeader\\\">UTF-8<\\/th>\\n    <th class=\\\"ColumnHeader\\\">Total<\\/th>\\n  <\\/tr>\\n  <tr>\\n    <th class=\\\"RowHeader\\\">BENIGN<\\/th>\\n    <td class=\\\"Cell\\\">70<\\/td>\\n    <td class=\\\"Cell\\\">23<\\/td>\\n    <td class=\\\"Cell\\\">54<\\/td>\\n    <td class=\\\"Total\\\">147<\\/td>\\n  <\\/tr>\\n  <tr>\\n    <th class=\\\"RowHeader\\\">MALICIOUS<\\/th>\\n    <td class=\\\"Cell\\\">11<\\/td>\\n    <td class=\\\"Cell\\\">3<\\/td>\\n    <td class=\\\"Cell\\\">29<\\/td>\\n    <td class=\\\"Total\\\">43<\\/td>\\n  <\\/tr>\\n  <tr>\\n    <th class=\\\"RowHeader\\\">Total<\\/th>\\n    <td class=\\\"Total\\\">81<\\/td>\\n    <td class=\\\"Total\\\">26<\\/td>\\n    <td class=\\\"Total\\\">83<\\/td>\\n    <td class=\\\"Total\\\">190<\\/td>\\n  <\\/tr>\\n<\\/table>\",\"settings\":[]},\"evals\":[],\"jsHooks\":[]}</script>\n",
       "\t</body>\n",
       "</html>\n"
      ],
      "text/plain": [
       "HTML widgets cannot be represented in plain text (need html)"
      ]
     },
     "metadata": {
      "text/html": {
       "isolated": true
      }
     },
     "output_type": "display_data"
    }
   ],
   "source": [
    "# arguments:  qhpvt(dataFrame, rows, columns, calculations, ...)\n",
    "# qhpvt(bhmtrains, \"TOC\", \"TrainCategory\", \"n()\") # TOC = Train Operating Company \n",
    "qhpvt(wsite,\"Type\",\"CHARSET\",\"n()\")"
   ]
  },
  {
   "cell_type": "markdown",
   "metadata": {},
   "source": [
    "What is the number of benign websites using UTF-8? \n",
    "* Answer: 58"
   ]
  },
  {
   "cell_type": "markdown",
   "metadata": {},
   "source": [
    "<h2>Obtain a summary of the data statistics for SERVER and CONTENT_LENGTH. Make at least one interesting observation on each for each of the attributes.</h2>\n"
   ]
  },
  {
   "cell_type": "code",
   "execution_count": 113,
   "metadata": {},
   "outputs": [
    {
     "data": {
      "text/plain": [
       "                   SERVER  \n",
       " Apache               :58  \n",
       " cloudflare-nginx     :14  \n",
       " Microsoft-HTTPAPI/2.0:25  \n",
       " nginx                :49  \n",
       " nginx/1.12.0         :12  \n",
       " None                 :32  "
      ]
     },
     "metadata": {},
     "output_type": "display_data"
    }
   ],
   "source": [
    "summary(wsite['SERVER'])\n"
   ]
  },
  {
   "cell_type": "markdown",
   "metadata": {},
   "source": [
    "There are 5 distinct server type being used and 32 users' server cannot be determined"
   ]
  },
  {
   "cell_type": "code",
   "execution_count": 114,
   "metadata": {},
   "outputs": [
    {
     "data": {
      "text/plain": [
       " CONTENT_LENGTH    \n",
       " Min.   :    34.0  \n",
       " 1st Qu.:   324.0  \n",
       " Median :   653.5  \n",
       " Mean   :  8897.1  \n",
       " 3rd Qu.:  3363.2  \n",
       " Max.   :435494.0  \n",
       " NA's   :78        "
      ]
     },
     "metadata": {},
     "output_type": "display_data"
    }
   ],
   "source": [
    "summary(wsite['CONTENT_LENGTH'])"
   ]
  },
  {
   "cell_type": "markdown",
   "metadata": {},
   "source": [
    "* The mean is skewed towards the Maximum and greater than 75% of the data. This might be indicative outliers"
   ]
  },
  {
   "cell_type": "markdown",
   "metadata": {},
   "source": [
    "## SECTION 3: SIGNIFICANCE TESTS - PASSWORDS DATASET"
   ]
  },
  {
   "cell_type": "markdown",
   "metadata": {},
   "source": [
    "<h2>Determine a 99% confidence interval for the mean value of Length\n",
    "(the length after training was given)</h2>"
   ]
  },
  {
   "cell_type": "code",
   "execution_count": 119,
   "metadata": {},
   "outputs": [
    {
     "data": {
      "text/plain": [
       "\n",
       "\tOne Sample t-test\n",
       "\n",
       "data:  pwd$LengthAfter\n",
       "t = 33.831, df = 38, p-value < 2.2e-16\n",
       "alternative hypothesis: true mean is not equal to 0\n",
       "99 percent confidence interval:\n",
       "  8.741395 10.264758\n",
       "sample estimates:\n",
       "mean of x \n",
       " 9.503077 \n"
      ]
     },
     "metadata": {},
     "output_type": "display_data"
    }
   ],
   "source": [
    "t.test(pwd$LengthAfter,conf.level = 0.99)\n"
   ]
  },
  {
   "cell_type": "markdown",
   "metadata": {},
   "source": [
    "<h2>Use a parametric test for matched pairs to test for evidence in\n",
    "increase in length of passwords after training. Use a significance level\n",
    "of 0.05.</h2>"
   ]
  },
  {
   "cell_type": "markdown",
   "metadata": {},
   "source": [
    "we define null hypothesis (H0) as follow:\n",
    "* H0:m>0 where m is the difference in mean and alternate hypothesis as Ha:m<0  "
   ]
  },
  {
   "cell_type": "code",
   "execution_count": 137,
   "metadata": {
    "scrolled": true
   },
   "outputs": [
    {
     "data": {
      "text/plain": [
       "\n",
       "\tPaired t-test\n",
       "\n",
       "data:  x and y\n",
       "t = -0.10981, df = 38, p-value = 0.5434\n",
       "alternative hypothesis: true difference in means is greater than 0\n",
       "5 percent confidence interval:\n",
       " 0.1619328       Inf\n",
       "sample estimates:\n",
       "mean of the differences \n",
       "            -0.01128205 \n"
      ]
     },
     "metadata": {},
     "output_type": "display_data"
    }
   ],
   "source": [
    "x<-pwd$LengthAfter\n",
    "y<-pwd$LengthBefore\n",
    "t.test(x, y, paired = TRUE, alternative = \"greater\",conf=0.05)"
   ]
  },
  {
   "cell_type": "markdown",
   "metadata": {},
   "source": [
    "This shows there is an increase in lenght after training"
   ]
  },
  {
   "cell_type": "markdown",
   "metadata": {},
   "source": [
    "<h2>Use a non-parametric test for matched pairs to test for evidence of\n",
    "difference in lengths (before and after training values).</h2>"
   ]
  },
  {
   "cell_type": "code",
   "execution_count": 142,
   "metadata": {},
   "outputs": [
    {
     "name": "stderr",
     "output_type": "stream",
     "text": [
      "Warning message in wilcox.test.default(x, y, paired = TRUE, alternative = \"two.sided\"):\n",
      "\"cannot compute exact p-value with ties\""
     ]
    },
    {
     "data": {
      "text/plain": [
       "\n",
       "\tWilcoxon signed rank test with continuity correction\n",
       "\n",
       "data:  x and y\n",
       "V = 378.5, p-value = 0.878\n",
       "alternative hypothesis: true location shift is not equal to 0\n"
      ]
     },
     "metadata": {},
     "output_type": "display_data"
    }
   ],
   "source": [
    "wilcox.test(x , y, paired = TRUE,alternative=\"two.sided\")"
   ]
  },
  {
   "cell_type": "markdown",
   "metadata": {},
   "source": [
    "This also shows there is a change in lenght after training"
   ]
  },
  {
   "cell_type": "markdown",
   "metadata": {},
   "source": [
    "<h2>Use a non-parametric test for matched pairs to test for evidence of\n",
    "increase in lengths (before and after training values).</h2>"
   ]
  },
  {
   "cell_type": "code",
   "execution_count": 143,
   "metadata": {},
   "outputs": [
    {
     "name": "stderr",
     "output_type": "stream",
     "text": [
      "Warning message in wilcox.test.default(x, y, paired = TRUE, alternative = \"greater\"):\n",
      "\"cannot compute exact p-value with ties\""
     ]
    },
    {
     "data": {
      "text/plain": [
       "\n",
       "\tWilcoxon signed rank test with continuity correction\n",
       "\n",
       "data:  x and y\n",
       "V = 378.5, p-value = 0.5665\n",
       "alternative hypothesis: true location shift is greater than 0\n"
      ]
     },
     "metadata": {},
     "output_type": "display_data"
    }
   ],
   "source": [
    "wilcox.test(x , y, paired = TRUE,alternative=\"greater\")"
   ]
  },
  {
   "cell_type": "markdown",
   "metadata": {},
   "source": [
    "This also shows there is an increase in lenght after training"
   ]
  },
  {
   "cell_type": "markdown",
   "metadata": {},
   "source": [
    "# Undertake normality tests for the 2 length attributes."
   ]
  },
  {
   "cell_type": "code",
   "execution_count": 122,
   "metadata": {},
   "outputs": [
    {
     "data": {
      "text/plain": [
       "\n",
       "\tShapiro-Wilk normality test\n",
       "\n",
       "data:  pwd$LengthAfter\n",
       "W = 0.99289, p-value = 0.9966\n"
      ]
     },
     "metadata": {},
     "output_type": "display_data"
    }
   ],
   "source": [
    "#check for normality\n",
    "shapiro.test(pwd$LengthAfter)"
   ]
  },
  {
   "cell_type": "code",
   "execution_count": 123,
   "metadata": {},
   "outputs": [
    {
     "data": {
      "text/plain": [
       "\n",
       "\tShapiro-Wilk normality test\n",
       "\n",
       "data:  pwd$LengthBefore\n",
       "W = 0.98791, p-value = 0.9444\n"
      ]
     },
     "metadata": {},
     "output_type": "display_data"
    }
   ],
   "source": [
    "shapiro.test(pwd$LengthBefore)"
   ]
  },
  {
   "cell_type": "markdown",
   "metadata": {},
   "source": [
    "From the output, the p-value > 0.05 implying that the distribution of the data are not significantly different from normal distribution. In other words, we can assume the normality."
   ]
  },
  {
   "cell_type": "markdown",
   "metadata": {},
   "source": [
    "<p>Perform a one-way analysis of variance with Tukey’s multiple\n",
    "comparisons to compare the mean LengthAfter of the four\n",
    "Department categories. (Use a significance level of 0.05 for the\n",
    "ANOVA test, and a 95% confidence level for Tukey’s comparisons.</p>\n",
    "Check the assumptions required for ANOVA and comment in the\n",
    "validity of the test."
   ]
  },
  {
   "cell_type": "markdown",
   "metadata": {},
   "source": [
    "An ANOVA has three major assumptions: normality, homoskedasticity (or equality of variance), and independence. we have tested for normality and independence in previous sections. Let's test for equality of variance"
   ]
  },
  {
   "cell_type": "code",
   "execution_count": 152,
   "metadata": {},
   "outputs": [
    {
     "data": {
      "text/plain": [
       "\n",
       "\tBartlett test of homogeneity of variances\n",
       "\n",
       "data:  LengthAfter by Department\n",
       "Bartlett's K-squared = 11.573, df = 3, p-value = 0.008999\n"
      ]
     },
     "metadata": {},
     "output_type": "display_data"
    }
   ],
   "source": [
    "# Test for equality of variance\n",
    "bartlett.test(LengthAfter ~ Department, data=pwd)"
   ]
  },
  {
   "cell_type": "code",
   "execution_count": 4,
   "metadata": {},
   "outputs": [
    {
     "name": "stderr",
     "output_type": "stream",
     "text": [
      "Warning message:\n",
      "\"In lm.fit(x, y, offset = offset, singular.ok = singular.ok, ...) :\n",
      " extra argument 'conf' will be disregarded\""
     ]
    },
    {
     "data": {
      "text/plain": [
       "            Df Sum Sq Mean Sq F value   Pr(>F)    \n",
       "Department   3  81.93   27.31    27.3 2.78e-09 ***\n",
       "Residuals   35  35.01    1.00                     \n",
       "---\n",
       "Signif. codes:  0 '***' 0.001 '**' 0.01 '*' 0.05 '.' 0.1 ' ' 1"
      ]
     },
     "metadata": {},
     "output_type": "display_data"
    }
   ],
   "source": [
    "anova1<-aov(LengthAfter ~ Department, data=pwd,conf=0.05)\n",
    "summary(anova1)"
   ]
  },
  {
   "cell_type": "code",
   "execution_count": 5,
   "metadata": {},
   "outputs": [
    {
     "data": {
      "text/plain": [
       "  Tukey multiple comparisons of means\n",
       "    95% family-wise confidence level\n",
       "\n",
       "Fit: aov(formula = LengthAfter ~ Department, data = pwd, conf = 0.05)\n",
       "\n",
       "$Department\n",
       "         diff        lwr        upr     p adj\n",
       "B-A  1.820794  0.6684335  2.9731538 0.0008058\n",
       "C-A -1.270519 -2.3572434 -0.1837956 0.0166496\n",
       "D-A  2.884571  1.4793740  4.2897689 0.0000182\n",
       "C-B -3.091313 -4.3036044 -1.8790219 0.0000003\n",
       "D-B  1.063778 -0.4406361  2.5681917 0.2436599\n",
       "D-C  4.155091  2.7003414  5.6098404 0.0000000\n"
      ]
     },
     "metadata": {},
     "output_type": "display_data"
    }
   ],
   "source": [
    "TukeyHSD(x=anova1, conf.level=0.95)"
   ]
  },
  {
   "cell_type": "code",
   "execution_count": null,
   "metadata": {},
   "outputs": [],
   "source": []
  },
  {
   "cell_type": "markdown",
   "metadata": {},
   "source": [
    "From the test carried out, ANOVA test is suitable for this data"
   ]
  },
  {
   "cell_type": "markdown",
   "metadata": {},
   "source": [
    "## SECTION 4: SAMPLE SIZES AND RANDOM SAMPLE"
   ]
  },
  {
   "cell_type": "markdown",
   "metadata": {},
   "source": [
    "Find the sample sizes of a 2-sample t-test for the given combinations\n",
    "of difference and power if a two-sided test is to be performed with\n",
    "α = 0.01 and the estimated standard deviation is 15"
   ]
  },
  {
   "cell_type": "code",
   "execution_count": 157,
   "metadata": {},
   "outputs": [
    {
     "data": {
      "text/plain": [
       "\n",
       "     Two-sample t test power calculation \n",
       "\n",
       "              n = 121.5022\n",
       "          delta = 7\n",
       "             sd = 15\n",
       "      sig.level = 0.01\n",
       "          power = 0.85\n",
       "    alternative = two.sided\n",
       "\n",
       "NOTE: n is number in *each* group\n"
      ]
     },
     "metadata": {},
     "output_type": "display_data"
    }
   ],
   "source": [
    "power.t.test(delta=7,sd=15,power=.85,sig.level=0.01)"
   ]
  },
  {
   "cell_type": "code",
   "execution_count": 158,
   "metadata": {},
   "outputs": [
    {
     "data": {
      "text/plain": [
       "\n",
       "     Two-sample t test power calculation \n",
       "\n",
       "              n = 138.3163\n",
       "          delta = 7\n",
       "             sd = 15\n",
       "      sig.level = 0.01\n",
       "          power = 0.9\n",
       "    alternative = two.sided\n",
       "\n",
       "NOTE: n is number in *each* group\n"
      ]
     },
     "metadata": {},
     "output_type": "display_data"
    }
   ],
   "source": [
    "power.t.test(delta=7,sd=15,power=.9,sig.level=0.01)"
   ]
  },
  {
   "cell_type": "code",
   "execution_count": 159,
   "metadata": {},
   "outputs": [
    {
     "data": {
      "text/plain": [
       "\n",
       "     Two-sample t test power calculation \n",
       "\n",
       "              n = 165.2675\n",
       "          delta = 7\n",
       "             sd = 15\n",
       "      sig.level = 0.01\n",
       "          power = 0.95\n",
       "    alternative = two.sided\n",
       "\n",
       "NOTE: n is number in *each* group\n"
      ]
     },
     "metadata": {},
     "output_type": "display_data"
    }
   ],
   "source": [
    "power.t.test(delta=7,sd=15,power=.95,sig.level=0.01)"
   ]
  },
  {
   "cell_type": "code",
   "execution_count": 160,
   "metadata": {},
   "outputs": [
    {
     "data": {
      "text/plain": [
       "\n",
       "     Two-sample t test power calculation \n",
       "\n",
       "              n = 60.3986\n",
       "          delta = 10\n",
       "             sd = 15\n",
       "      sig.level = 0.01\n",
       "          power = 0.85\n",
       "    alternative = two.sided\n",
       "\n",
       "NOTE: n is number in *each* group\n"
      ]
     },
     "metadata": {},
     "output_type": "display_data"
    }
   ],
   "source": [
    "power.t.test(delta=10,sd=15,power=.85,sig.level=0.01)"
   ]
  },
  {
   "cell_type": "code",
   "execution_count": 161,
   "metadata": {},
   "outputs": [
    {
     "data": {
      "text/plain": [
       "\n",
       "     Two-sample t test power calculation \n",
       "\n",
       "              n = 68.63651\n",
       "          delta = 10\n",
       "             sd = 15\n",
       "      sig.level = 0.01\n",
       "          power = 0.9\n",
       "    alternative = two.sided\n",
       "\n",
       "NOTE: n is number in *each* group\n"
      ]
     },
     "metadata": {},
     "output_type": "display_data"
    }
   ],
   "source": [
    "power.t.test(delta=10,sd=15,power=.9,sig.level=0.01)"
   ]
  },
  {
   "cell_type": "code",
   "execution_count": 162,
   "metadata": {},
   "outputs": [
    {
     "data": {
      "text/plain": [
       "\n",
       "     Two-sample t test power calculation \n",
       "\n",
       "              n = 81.84128\n",
       "          delta = 10\n",
       "             sd = 15\n",
       "      sig.level = 0.01\n",
       "          power = 0.95\n",
       "    alternative = two.sided\n",
       "\n",
       "NOTE: n is number in *each* group\n"
      ]
     },
     "metadata": {},
     "output_type": "display_data"
    }
   ],
   "source": [
    "power.t.test(delta=10,sd=15,power=.95,sig.level=0.01)"
   ]
  },
  {
   "cell_type": "code",
   "execution_count": 163,
   "metadata": {},
   "outputs": [
    {
     "data": {
      "text/plain": [
       "\n",
       "     Two-sample t test power calculation \n",
       "\n",
       "              n = 36.43942\n",
       "          delta = 13\n",
       "             sd = 15\n",
       "      sig.level = 0.01\n",
       "          power = 0.85\n",
       "    alternative = two.sided\n",
       "\n",
       "NOTE: n is number in *each* group\n"
      ]
     },
     "metadata": {},
     "output_type": "display_data"
    }
   ],
   "source": [
    "power.t.test(delta=13,sd=15,power=.85,sig.level=0.01)"
   ]
  },
  {
   "cell_type": "code",
   "execution_count": 164,
   "metadata": {},
   "outputs": [
    {
     "data": {
      "text/plain": [
       "\n",
       "     Two-sample t test power calculation \n",
       "\n",
       "              n = 41.31261\n",
       "          delta = 13\n",
       "             sd = 15\n",
       "      sig.level = 0.01\n",
       "          power = 0.9\n",
       "    alternative = two.sided\n",
       "\n",
       "NOTE: n is number in *each* group\n"
      ]
     },
     "metadata": {},
     "output_type": "display_data"
    }
   ],
   "source": [
    "power.t.test(delta=13,sd=15,power=.9,sig.level=0.01)"
   ]
  },
  {
   "cell_type": "code",
   "execution_count": 165,
   "metadata": {},
   "outputs": [
    {
     "data": {
      "text/plain": [
       "\n",
       "     Two-sample t test power calculation \n",
       "\n",
       "              n = 49.12427\n",
       "          delta = 13\n",
       "             sd = 15\n",
       "      sig.level = 0.01\n",
       "          power = 0.95\n",
       "    alternative = two.sided\n",
       "\n",
       "NOTE: n is number in *each* group\n"
      ]
     },
     "metadata": {},
     "output_type": "display_data"
    }
   ],
   "source": [
    "power.t.test(delta=13,sd=15,power=.95,sig.level=0.01)"
   ]
  },
  {
   "cell_type": "markdown",
   "metadata": {},
   "source": [
    "<p>Select 20 instances at random from a set of 150, numbered from 1\n",
    "to 150. Present them in ascending order. Ensure the reproducibility\n",
    "of your results.</p>"
   ]
  },
  {
   "cell_type": "code",
   "execution_count": 175,
   "metadata": {},
   "outputs": [
    {
     "name": "stdout",
     "output_type": "stream",
     "text": [
      " [1]   7  14  26  43  50  72  78  81  90  91  92  99 103 117 118 137 143 147 148\n",
      "[20] 150\n"
     ]
    }
   ],
   "source": [
    "set.seed(123)\n",
    "seq_n<-seq(1, 150, 1)\n",
    "\n",
    "sample_n<-sample(seq_n, size = 20)\n",
    "print(sort(sample_n))"
   ]
  },
  {
   "cell_type": "markdown",
   "metadata": {},
   "source": [
    "<p>No R code required for this question</p>. <p>Devise a data collection\n",
    "procedure for a scenario of your choice, where you demonstrate your\n",
    "knowledge and skills regarding data collection. Ensure you state any\n",
    "assumptions made. [MAX WORDCOUNT: 200]</p>"
   ]
  },
  {
   "cell_type": "markdown",
   "metadata": {},
   "source": [
    "# DATA COLLECTION PROCEDURE"
   ]
  },
  {
   "cell_type": "markdown",
   "metadata": {},
   "source": [
    "<p>The gathering of data is a vital part of science. Consider the case of company X, a phone maker that is unveiling a new product variant. Data must be gathered from relevant sources to perform research on characteristics, pricing range, and so on.</p>\n",
    "<p>Survey method will be used for data collection. The following point will be noted in drafting the survey;</p>\n"
   ]
  },
  {
   "cell_type": "markdown",
   "metadata": {},
   "source": [
    "* Make a mental list of all the important knowledge you'd like to have.\n",
    "* Each subject is assigned a rank based on its importance, starting with the most important. Wrong questions won’t provide answers to the problem.\n",
    "* Be sure that the first questions don't skew the outcome of the subsequent questions.\n",
    "* An \"Introductory\" paragraph will be presented before the survey to clarify the project's goal and what the respondent can expect. \n",
    "* To meet analysis requirements, question type will be based on the answers' requirements. \n",
    "* The questions will be arranged in an impartial way.\n",
    "* Pre-test the sample for at least 20 participants. Obtain their feedback in detail. What did they have doubts about? \n",
    "* Have a few open-ended survey questions that relate to your survey's intent. This will be a comment survey of some kind.\n",
    "* Avoid loaded or leading words or questions\n",
    "\n"
   ]
  }
 ],
 "metadata": {
  "kernelspec": {
   "display_name": "R",
   "language": "R",
   "name": "ir"
  },
  "language_info": {
   "codemirror_mode": "r",
   "file_extension": ".r",
   "mimetype": "text/x-r-source",
   "name": "R",
   "pygments_lexer": "r",
   "version": "3.6.1"
  }
 },
 "nbformat": 4,
 "nbformat_minor": 4
}
